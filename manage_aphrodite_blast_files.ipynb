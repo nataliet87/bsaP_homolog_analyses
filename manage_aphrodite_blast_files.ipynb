{
 "cells": [
  {
   "cell_type": "code",
   "execution_count": 1,
   "id": "fb1bfa7f",
   "metadata": {},
   "outputs": [],
   "source": [
    "import pandas as pd\n",
    "import numpy as np\n",
    "\n",
    "import os\n",
    "\n",
    "from Bio.Seq import Seq\n",
    "from Bio.SeqRecord import SeqRecord\n",
    "from Bio import SeqIO"
   ]
  },
  {
   "cell_type": "code",
   "execution_count": 23,
   "id": "31f39e55",
   "metadata": {},
   "outputs": [],
   "source": [
    "blast_cols = ['seqid', 'evalue', 'bitscore', 'pident', 'length', 'staxid', 'ssname', 'scomname', 'ssciname', 'sseq']\n",
    "\n",
    "# dfm = pd.read_csv(\"biob_bspa_megablast_out_num5000.tsv\", delimiter=\"\\t\", names=blast_cols, index_col=False)\n",
    "# dfn = pd.read_csv(\"biob_bspa_blastn_out_num5000.tsv\", delimiter=\"\\t\", names=blast_cols, index_col=False)\n",
    "\n",
    "\n",
    "dfa = pd.read_csv(\"bspaONLY_blastn_out_num2500_subj_besthit.tsv\", delimiter=\"\\t\", names=blast_cols, index_col=False)\n",
    "dfb = pd.read_csv(\"bspaONLY_blastn_out_taxid_limited_may2023.tsv\", delimiter=\"\\t\", names=blast_cols, index_col=False)"
   ]
  },
  {
   "cell_type": "code",
   "execution_count": 24,
   "id": "6d782bb7",
   "metadata": {},
   "outputs": [],
   "source": [
    "# df = pd.read_csv(\"23may2023/pseudonocardia_hits.tsv\", delimiter=\"\\t\", names=blast_cols, index_col=False)"
   ]
  },
  {
   "cell_type": "code",
   "execution_count": 25,
   "id": "67e9ca94",
   "metadata": {},
   "outputs": [],
   "source": [
    "# df.loc[0, 'ssname'].replace(\" \", \"_\") + \"_\" + str(df.loc[0, 'staxid'])"
   ]
  },
  {
   "cell_type": "code",
   "execution_count": 26,
   "id": "d6918c97",
   "metadata": {},
   "outputs": [],
   "source": [
    "# sequences = []\n",
    "\n",
    "# for i in range(10):\n",
    "    \n",
    "#     seq_id = df.loc[i, 'ssname'].replace(\" \", \"_\") + \"_\" + str(df.loc[i, \"staxid\"])\n",
    "#     sequences.append(SeqRecord(Seq(df.loc[i, 'sseq']), id=seq_id, description=\"\"))\n",
    "    \n"
   ]
  },
  {
   "cell_type": "code",
   "execution_count": 27,
   "id": "7c24fab7",
   "metadata": {},
   "outputs": [],
   "source": [
    "\n",
    "# with open(\"pseudonocardia_bsap_hits.fasta\", \"w\") as output_handle:\n",
    "#     SeqIO.write(sequences, output_handle, \"fasta\")"
   ]
  },
  {
   "cell_type": "code",
   "execution_count": null,
   "id": "036ee2b3",
   "metadata": {},
   "outputs": [],
   "source": []
  },
  {
   "cell_type": "code",
   "execution_count": null,
   "id": "dda9e7c4",
   "metadata": {},
   "outputs": [],
   "source": []
  },
  {
   "cell_type": "code",
   "execution_count": 28,
   "id": "3c8cba5f",
   "metadata": {},
   "outputs": [
    {
     "data": {
      "text/plain": [
       "(965, 10)"
      ]
     },
     "execution_count": 28,
     "metadata": {},
     "output_type": "execute_result"
    }
   ],
   "source": [
    "dfa.shape"
   ]
  },
  {
   "cell_type": "code",
   "execution_count": 29,
   "id": "d4ccb624",
   "metadata": {},
   "outputs": [
    {
     "data": {
      "text/plain": [
       "(221, 10)"
      ]
     },
     "execution_count": 29,
     "metadata": {},
     "output_type": "execute_result"
    }
   ],
   "source": [
    "dfb.shape"
   ]
  },
  {
   "cell_type": "code",
   "execution_count": 30,
   "id": "0b3ab7f2",
   "metadata": {},
   "outputs": [],
   "source": [
    "# dfn = dfn.sort_values(by=['bitscore', 'pident', 'length'], ascending=False).drop_duplicates(subset=['ssname'], keep='first')\n",
    "# dfm = dfm.sort_values(by=['bitscore', 'pident', 'length'], ascending=False).drop_duplicates(subset=['ssname'], keep='first')"
   ]
  },
  {
   "cell_type": "code",
   "execution_count": 31,
   "id": "24ed2d9f",
   "metadata": {},
   "outputs": [],
   "source": [
    "df = pd.concat([dfa, dfb])\n",
    "\n",
    "\n",
    "# .sort_values(by=['bitscore', 'pident', 'length'], ascending=False).drop_duplicates(subset=['ssname'], keep='first')"
   ]
  },
  {
   "cell_type": "code",
   "execution_count": 32,
   "id": "828e578a",
   "metadata": {},
   "outputs": [],
   "source": [
    "bspa_nt = SeqIO.read(\"bspA_h37rv.fa\", \"fasta\")"
   ]
  },
  {
   "cell_type": "code",
   "execution_count": 33,
   "id": "449dfa4a",
   "metadata": {},
   "outputs": [
    {
     "data": {
      "text/plain": [
       "240"
      ]
     },
     "execution_count": 33,
     "metadata": {},
     "output_type": "execute_result"
    }
   ],
   "source": [
    "len(bspa_nt)"
   ]
  },
  {
   "cell_type": "code",
   "execution_count": 34,
   "id": "86417cc8",
   "metadata": {},
   "outputs": [
    {
     "data": {
      "text/plain": [
       "(374, 10)"
      ]
     },
     "execution_count": 34,
     "metadata": {},
     "output_type": "execute_result"
    }
   ],
   "source": [
    "df[df['length'] > 100].shape"
   ]
  },
  {
   "cell_type": "code",
   "execution_count": 35,
   "id": "be612143",
   "metadata": {},
   "outputs": [],
   "source": [
    "df = df[df['length'] > 100]"
   ]
  },
  {
   "cell_type": "code",
   "execution_count": 36,
   "id": "8299aad7",
   "metadata": {},
   "outputs": [],
   "source": [
    "df = df.sort_values(by=['bitscore', 'pident', 'length'], ascending=False).drop_duplicates(subset=['ssname'], keep='first').drop(columns=['scomname', 'ssciname'])"
   ]
  },
  {
   "cell_type": "code",
   "execution_count": 37,
   "id": "9667bf18",
   "metadata": {},
   "outputs": [
    {
     "data": {
      "text/html": [
       "<div>\n",
       "<style scoped>\n",
       "    .dataframe tbody tr th:only-of-type {\n",
       "        vertical-align: middle;\n",
       "    }\n",
       "\n",
       "    .dataframe tbody tr th {\n",
       "        vertical-align: top;\n",
       "    }\n",
       "\n",
       "    .dataframe thead th {\n",
       "        text-align: right;\n",
       "    }\n",
       "</style>\n",
       "<table border=\"1\" class=\"dataframe\">\n",
       "  <thead>\n",
       "    <tr style=\"text-align: right;\">\n",
       "      <th></th>\n",
       "      <th>seqid</th>\n",
       "      <th>evalue</th>\n",
       "      <th>bitscore</th>\n",
       "      <th>pident</th>\n",
       "      <th>length</th>\n",
       "      <th>staxid</th>\n",
       "      <th>ssname</th>\n",
       "      <th>sseq</th>\n",
       "    </tr>\n",
       "  </thead>\n",
       "  <tbody>\n",
       "    <tr>\n",
       "      <th>0</th>\n",
       "      <td>gi|448814763|ref|NC_000962.3|</td>\n",
       "      <td>3.270000e-118</td>\n",
       "      <td>434.0</td>\n",
       "      <td>100.000</td>\n",
       "      <td>240</td>\n",
       "      <td>83332</td>\n",
       "      <td>Mycobacterium tuberculosis H37Rv</td>\n",
       "      <td>ATGGTGGAAATCGTGGCTGGAAAACAACGCGCTCCGGTCGCTGCCG...</td>\n",
       "    </tr>\n",
       "    <tr>\n",
       "      <th>1</th>\n",
       "      <td>gi|340625033|ref|NC_015848.1|</td>\n",
       "      <td>1.390000e-116</td>\n",
       "      <td>429.0</td>\n",
       "      <td>99.583</td>\n",
       "      <td>240</td>\n",
       "      <td>1048245</td>\n",
       "      <td>Mycobacterium canettii CIPT 140010059</td>\n",
       "      <td>ATGGTGGAAATCGTGGCTGGAAAACAACGCGCTCCGGTCGCTGCCG...</td>\n",
       "    </tr>\n",
       "    <tr>\n",
       "      <th>2</th>\n",
       "      <td>gi|1816737860|ref|NZ_AP022575.1|</td>\n",
       "      <td>7.710000e-82</td>\n",
       "      <td>314.0</td>\n",
       "      <td>89.496</td>\n",
       "      <td>238</td>\n",
       "      <td>398694</td>\n",
       "      <td>Mycobacterium shinjukuense</td>\n",
       "      <td>GGTGGAGA-CGTGGCTGGAAAACAAGACGCTCCGGTCACTGCCGGC...</td>\n",
       "    </tr>\n",
       "    <tr>\n",
       "      <th>3</th>\n",
       "      <td>gi|1912148917|ref|NZ_OCVX01000007.1|</td>\n",
       "      <td>3.280000e-61</td>\n",
       "      <td>244.0</td>\n",
       "      <td>82.979</td>\n",
       "      <td>235</td>\n",
       "      <td>627089</td>\n",
       "      <td>Mycobacterium simulans</td>\n",
       "      <td>GGACATCATGGCTGGAAACCTGGGCGCTCCCGTCGCCGCCGGCGTC...</td>\n",
       "    </tr>\n",
       "    <tr>\n",
       "      <th>4</th>\n",
       "      <td>gi|1063562954|ref|NZ_MIHB01000001.1|</td>\n",
       "      <td>4.870000e-59</td>\n",
       "      <td>237.0</td>\n",
       "      <td>82.684</td>\n",
       "      <td>231</td>\n",
       "      <td>28445</td>\n",
       "      <td>Mycobacterium intermedium</td>\n",
       "      <td>ATCGTGGTTGCAAACCTGGGCGCTCCGGTCGGTGCCGGGGTGTACA...</td>\n",
       "    </tr>\n",
       "    <tr>\n",
       "      <th>...</th>\n",
       "      <td>...</td>\n",
       "      <td>...</td>\n",
       "      <td>...</td>\n",
       "      <td>...</td>\n",
       "      <td>...</td>\n",
       "      <td>...</td>\n",
       "      <td>...</td>\n",
       "      <td>...</td>\n",
       "    </tr>\n",
       "    <tr>\n",
       "      <th>516</th>\n",
       "      <td>gi|753873216|ref|NZ_CP006764.1|</td>\n",
       "      <td>3.290000e-04</td>\n",
       "      <td>56.3</td>\n",
       "      <td>70.796</td>\n",
       "      <td>113</td>\n",
       "      <td>558173</td>\n",
       "      <td>Corynebacterium doosanense CAU 212 = DSM 45436</td>\n",
       "      <td>GGGCTCGAGGCTCCGCGATTCTGCGGGCACTGCGGCCGCCGGATGG...</td>\n",
       "    </tr>\n",
       "    <tr>\n",
       "      <th>525</th>\n",
       "      <td>gi|1595894816|ref|NZ_SMZQ01000012.1|</td>\n",
       "      <td>3.290000e-04</td>\n",
       "      <td>55.4</td>\n",
       "      <td>70.909</td>\n",
       "      <td>110</td>\n",
       "      <td>683150</td>\n",
       "      <td>Arthrobacter nitrophenolicus</td>\n",
       "      <td>GCGGCGAGGCTGGAGCTGGAGCCCCCGCGCTTTTGCGTCCGGTGCG...</td>\n",
       "    </tr>\n",
       "    <tr>\n",
       "      <th>570</th>\n",
       "      <td>gi|2023781849|ref|NZ_JAGINV010000001.1|</td>\n",
       "      <td>4.900000e-02</td>\n",
       "      <td>49.1</td>\n",
       "      <td>70.192</td>\n",
       "      <td>104</td>\n",
       "      <td>33919</td>\n",
       "      <td>Saccharothrix coeruleofusca</td>\n",
       "      <td>GACCCGCCGCGCTTCTGCCAGCGGTGCGCGCGGCGGATGGTCGTCC...</td>\n",
       "    </tr>\n",
       "    <tr>\n",
       "      <th>574</th>\n",
       "      <td>gi|1199725501|ref|NZ_CP021417.1|</td>\n",
       "      <td>4.900000e-02</td>\n",
       "      <td>48.2</td>\n",
       "      <td>70.370</td>\n",
       "      <td>108</td>\n",
       "      <td>2320431</td>\n",
       "      <td>Corynebacterium silvaticum</td>\n",
       "      <td>GGGT-TGGAGGCACCGCGCTTCTGCCAGATCTGCGGGCGTCGCATG...</td>\n",
       "    </tr>\n",
       "    <tr>\n",
       "      <th>755</th>\n",
       "      <td>gi|1592638758|ref|NZ_SMKP01000018.1|</td>\n",
       "      <td>7.200000e+00</td>\n",
       "      <td>41.9</td>\n",
       "      <td>70.000</td>\n",
       "      <td>110</td>\n",
       "      <td>1848329</td>\n",
       "      <td>Nonomuraea diastatica</td>\n",
       "      <td>CGCGGTGCGGTC-CCGGCTGTTCGTCCACGTGCCGGGCGACATCGA...</td>\n",
       "    </tr>\n",
       "  </tbody>\n",
       "</table>\n",
       "<p>355 rows × 8 columns</p>\n",
       "</div>"
      ],
      "text/plain": [
       "                                       seqid         evalue  bitscore  \\\n",
       "0              gi|448814763|ref|NC_000962.3|  3.270000e-118     434.0   \n",
       "1              gi|340625033|ref|NC_015848.1|  1.390000e-116     429.0   \n",
       "2           gi|1816737860|ref|NZ_AP022575.1|   7.710000e-82     314.0   \n",
       "3       gi|1912148917|ref|NZ_OCVX01000007.1|   3.280000e-61     244.0   \n",
       "4       gi|1063562954|ref|NZ_MIHB01000001.1|   4.870000e-59     237.0   \n",
       "..                                       ...            ...       ...   \n",
       "516          gi|753873216|ref|NZ_CP006764.1|   3.290000e-04      56.3   \n",
       "525     gi|1595894816|ref|NZ_SMZQ01000012.1|   3.290000e-04      55.4   \n",
       "570  gi|2023781849|ref|NZ_JAGINV010000001.1|   4.900000e-02      49.1   \n",
       "574         gi|1199725501|ref|NZ_CP021417.1|   4.900000e-02      48.2   \n",
       "755     gi|1592638758|ref|NZ_SMKP01000018.1|   7.200000e+00      41.9   \n",
       "\n",
       "      pident  length   staxid                                          ssname  \\\n",
       "0    100.000     240    83332                Mycobacterium tuberculosis H37Rv   \n",
       "1     99.583     240  1048245           Mycobacterium canettii CIPT 140010059   \n",
       "2     89.496     238   398694                      Mycobacterium shinjukuense   \n",
       "3     82.979     235   627089                          Mycobacterium simulans   \n",
       "4     82.684     231    28445                       Mycobacterium intermedium   \n",
       "..       ...     ...      ...                                             ...   \n",
       "516   70.796     113   558173  Corynebacterium doosanense CAU 212 = DSM 45436   \n",
       "525   70.909     110   683150                    Arthrobacter nitrophenolicus   \n",
       "570   70.192     104    33919                     Saccharothrix coeruleofusca   \n",
       "574   70.370     108  2320431                      Corynebacterium silvaticum   \n",
       "755   70.000     110  1848329                           Nonomuraea diastatica   \n",
       "\n",
       "                                                  sseq  \n",
       "0    ATGGTGGAAATCGTGGCTGGAAAACAACGCGCTCCGGTCGCTGCCG...  \n",
       "1    ATGGTGGAAATCGTGGCTGGAAAACAACGCGCTCCGGTCGCTGCCG...  \n",
       "2    GGTGGAGA-CGTGGCTGGAAAACAAGACGCTCCGGTCACTGCCGGC...  \n",
       "3    GGACATCATGGCTGGAAACCTGGGCGCTCCCGTCGCCGCCGGCGTC...  \n",
       "4    ATCGTGGTTGCAAACCTGGGCGCTCCGGTCGGTGCCGGGGTGTACA...  \n",
       "..                                                 ...  \n",
       "516  GGGCTCGAGGCTCCGCGATTCTGCGGGCACTGCGGCCGCCGGATGG...  \n",
       "525  GCGGCGAGGCTGGAGCTGGAGCCCCCGCGCTTTTGCGTCCGGTGCG...  \n",
       "570  GACCCGCCGCGCTTCTGCCAGCGGTGCGCGCGGCGGATGGTCGTCC...  \n",
       "574  GGGT-TGGAGGCACCGCGCTTCTGCCAGATCTGCGGGCGTCGCATG...  \n",
       "755  CGCGGTGCGGTC-CCGGCTGTTCGTCCACGTGCCGGGCGACATCGA...  \n",
       "\n",
       "[355 rows x 8 columns]"
      ]
     },
     "execution_count": 37,
     "metadata": {},
     "output_type": "execute_result"
    }
   ],
   "source": [
    "df"
   ]
  },
  {
   "cell_type": "code",
   "execution_count": 38,
   "id": "b4942d15",
   "metadata": {},
   "outputs": [
    {
     "ename": "SyntaxError",
     "evalue": "invalid syntax (2049513367.py, line 1)",
     "output_type": "error",
     "traceback": [
      "\u001b[0;36m  File \u001b[0;32m\"/var/folders/6y/gt119tf53zv26yhf0ttb3dcr0000gn/T/ipykernel_96961/2049513367.py\"\u001b[0;36m, line \u001b[0;32m1\u001b[0m\n\u001b[0;31m    >CP060131.1 Pseudonocardia petroleophila strain CGMCC 4.1532 chromosome, complete genome\u001b[0m\n\u001b[0m    ^\u001b[0m\n\u001b[0;31mSyntaxError\u001b[0m\u001b[0;31m:\u001b[0m invalid syntax\n"
     ]
    }
   ],
   "source": [
    ">CP060131.1 Pseudonocardia petroleophila strain CGMCC 4.1532 chromosome, complete genome\n",
    "CCGTGGCGGGAGCATCGCGCCCGCCAGCTGAAGGGATCGACCTGCACGACCATCCGCCGCCCGCACGCCGTGCAGTACCG\n",
    "GGGTGGATCGAGGCC\n",
    ">CP053564.1:6214800-6214895 Pseudonocardia broussonetiae strain Gen 01 chromosome, complete genome\n",
    "CTCCCCGTGGCGGCTGCAGCGGGCCGTCCAGCCCGTCGGGGTGACCTGGACGACCATCCGCCGCGCGCAGTCGGCGCAGT\n",
    "ACCGCGGCGGTTCCAG\n",
    ">CP002593.1 Pseudonocardia dioxanivorans CB1190, complete genome\n",
    "CTGGAGCCGCCGCGCTTCTGCCCGCAGTGTGCGCGGCGGATGGTCGTGCAGGTCGACCCCTTCGGCTGGACCGCCCGCTG\n",
    "CAGCCGCCACGG"
   ]
  },
  {
   "cell_type": "code",
   "execution_count": 39,
   "id": "a04c93e7",
   "metadata": {},
   "outputs": [
    {
     "data": {
      "text/html": [
       "<div>\n",
       "<style scoped>\n",
       "    .dataframe tbody tr th:only-of-type {\n",
       "        vertical-align: middle;\n",
       "    }\n",
       "\n",
       "    .dataframe tbody tr th {\n",
       "        vertical-align: top;\n",
       "    }\n",
       "\n",
       "    .dataframe thead th {\n",
       "        text-align: right;\n",
       "    }\n",
       "</style>\n",
       "<table border=\"1\" class=\"dataframe\">\n",
       "  <thead>\n",
       "    <tr style=\"text-align: right;\">\n",
       "      <th></th>\n",
       "      <th>seqid</th>\n",
       "      <th>evalue</th>\n",
       "      <th>bitscore</th>\n",
       "      <th>pident</th>\n",
       "      <th>length</th>\n",
       "      <th>staxid</th>\n",
       "      <th>ssname</th>\n",
       "      <th>scomname</th>\n",
       "      <th>ssciname</th>\n",
       "      <th>sseq</th>\n",
       "    </tr>\n",
       "  </thead>\n",
       "  <tbody>\n",
       "    <tr>\n",
       "      <th>462</th>\n",
       "      <td>gi|331693899|ref|NC_015312.1|</td>\n",
       "      <td>0.000002</td>\n",
       "      <td>63.5</td>\n",
       "      <td>75.000</td>\n",
       "      <td>92</td>\n",
       "      <td>675635</td>\n",
       "      <td>Pseudonocardia dioxanivorans CB1190</td>\n",
       "      <td>Pseudonocardia dioxanivorans CB1190</td>\n",
       "      <td>high G+C Gram-positive bacteria</td>\n",
       "      <td>CTGGAGCCGCCGCGCTTCTGCCCGCAGTGTGCGCGGCGGATGGTCG...</td>\n",
       "    </tr>\n",
       "    <tr>\n",
       "      <th>781</th>\n",
       "      <td>gi|1981221583|ref|NZ_CP063362.1|</td>\n",
       "      <td>7.200000</td>\n",
       "      <td>41.9</td>\n",
       "      <td>86.486</td>\n",
       "      <td>37</td>\n",
       "      <td>2528964</td>\n",
       "      <td>Xanthobacter dioxanivorans</td>\n",
       "      <td>Xanthobacter dioxanivorans</td>\n",
       "      <td>a-proteobacteria</td>\n",
       "      <td>GGCGCGCTGCTTCTCGCCACGGGCGGGTCGGCGCGGC</td>\n",
       "    </tr>\n",
       "  </tbody>\n",
       "</table>\n",
       "</div>"
      ],
      "text/plain": [
       "                                seqid    evalue  bitscore  pident  length  \\\n",
       "462     gi|331693899|ref|NC_015312.1|  0.000002      63.5  75.000      92   \n",
       "781  gi|1981221583|ref|NZ_CP063362.1|  7.200000      41.9  86.486      37   \n",
       "\n",
       "      staxid                               ssname  \\\n",
       "462   675635  Pseudonocardia dioxanivorans CB1190   \n",
       "781  2528964           Xanthobacter dioxanivorans   \n",
       "\n",
       "                                scomname                         ssciname  \\\n",
       "462  Pseudonocardia dioxanivorans CB1190  high G+C Gram-positive bacteria   \n",
       "781           Xanthobacter dioxanivorans                 a-proteobacteria   \n",
       "\n",
       "                                                  sseq  \n",
       "462  CTGGAGCCGCCGCGCTTCTGCCCGCAGTGTGCGCGGCGGATGGTCG...  \n",
       "781              GGCGCGCTGCTTCTCGCCACGGGCGGGTCGGCGCGGC  "
      ]
     },
     "execution_count": 39,
     "metadata": {},
     "output_type": "execute_result"
    }
   ],
   "source": [
    "dfa[dfa['ssname'].str.contains('dioxanivorans')]"
   ]
  },
  {
   "cell_type": "code",
   "execution_count": 43,
   "id": "76f82f9a",
   "metadata": {},
   "outputs": [
    {
     "ename": "AttributeError",
     "evalue": "'list' object has no attribute 'str'",
     "output_type": "error",
     "traceback": [
      "\u001b[0;31m---------------------------------------------------------------------------\u001b[0m",
      "\u001b[0;31mAttributeError\u001b[0m                            Traceback (most recent call last)",
      "\u001b[0;32m/var/folders/6y/gt119tf53zv26yhf0ttb3dcr0000gn/T/ipykernel_96961/1345723693.py\u001b[0m in \u001b[0;36m<module>\u001b[0;34m\u001b[0m\n\u001b[0;32m----> 1\u001b[0;31m \u001b[0mdf\u001b[0m\u001b[0;34m[\u001b[0m\u001b[0;34m[\u001b[0m\u001b[0;34m'ssname'\u001b[0m\u001b[0;34m]\u001b[0m\u001b[0;34m.\u001b[0m\u001b[0mstr\u001b[0m\u001b[0;34m.\u001b[0m\u001b[0mcontains\u001b[0m\u001b[0;34m(\u001b[0m\u001b[0;34m\"Pseudonocardia\"\u001b[0m\u001b[0;34m)\u001b[0m\u001b[0;34m]\u001b[0m\u001b[0;34m\u001b[0m\u001b[0;34m\u001b[0m\u001b[0m\n\u001b[0m",
      "\u001b[0;31mAttributeError\u001b[0m: 'list' object has no attribute 'str'"
     ]
    }
   ],
   "source": [
    "df[['ssname'].str.contains(\"Pseu\")]"
   ]
  },
  {
   "cell_type": "code",
   "execution_count": 41,
   "id": "b8164ec8",
   "metadata": {},
   "outputs": [],
   "source": [
    "df = df.reset_index(drop=True)"
   ]
  },
  {
   "cell_type": "code",
   "execution_count": 15,
   "id": "9ee17042",
   "metadata": {},
   "outputs": [],
   "source": [
    "sequences = []\n",
    "\n",
    "for i in df.index:\n",
    "#     print(df.loc[i, 'sseq'])\n",
    "#     print(df.loc[i, 'seqid'])\n",
    "#     print(df.loc[i, 'ssname'])\n",
    "    \n",
    "    seq_id = df.loc[i, 'ssname'].replace(\" \", \"_\")\n",
    "    \n",
    "    sequences.append(SeqRecord(Seq(df.loc[i, 'sseq']), id=seq_id, description=\"\"))\n",
    "#     sequences.append(SeqRecord(Seq(df.loc[i, 'sseq']), id=df.loc[i,'seqid'], name=df.loc[i, 'ssname'], description=\"\"))\n"
   ]
  },
  {
   "cell_type": "code",
   "execution_count": 35,
   "id": "06935570",
   "metadata": {},
   "outputs": [],
   "source": [
    "\n",
    "with open(\"aphrodite_blastn_bspa_edited.fasta\", \"w\") as output_handle:\n",
    "    SeqIO.write(sequences, output_handle, \"fasta\")"
   ]
  },
  {
   "cell_type": "code",
   "execution_count": 16,
   "id": "28886824",
   "metadata": {},
   "outputs": [],
   "source": [
    "df['genus'] = df['ssname'].str.split(\" \", expand=True)[0].tolist()"
   ]
  },
  {
   "cell_type": "code",
   "execution_count": 17,
   "id": "0566c2f8",
   "metadata": {},
   "outputs": [],
   "source": [
    "df['name'] = df['ssname'].str.replace(\" \", \"_\")"
   ]
  },
  {
   "cell_type": "code",
   "execution_count": 18,
   "id": "be4f551f",
   "metadata": {},
   "outputs": [],
   "source": [
    "df[['name', 'genus']].to_csv(\"blastn_genus_names.csv\", index=False)"
   ]
  },
  {
   "cell_type": "code",
   "execution_count": 19,
   "id": "7170e4a2",
   "metadata": {},
   "outputs": [
    {
     "data": {
      "text/html": [
       "<div>\n",
       "<style scoped>\n",
       "    .dataframe tbody tr th:only-of-type {\n",
       "        vertical-align: middle;\n",
       "    }\n",
       "\n",
       "    .dataframe tbody tr th {\n",
       "        vertical-align: top;\n",
       "    }\n",
       "\n",
       "    .dataframe thead th {\n",
       "        text-align: right;\n",
       "    }\n",
       "</style>\n",
       "<table border=\"1\" class=\"dataframe\">\n",
       "  <thead>\n",
       "    <tr style=\"text-align: right;\">\n",
       "      <th></th>\n",
       "      <th>seqid</th>\n",
       "      <th>evalue</th>\n",
       "      <th>bitscore</th>\n",
       "      <th>pident</th>\n",
       "      <th>length</th>\n",
       "      <th>staxid</th>\n",
       "      <th>ssname</th>\n",
       "      <th>sseq</th>\n",
       "      <th>genus</th>\n",
       "      <th>name</th>\n",
       "    </tr>\n",
       "  </thead>\n",
       "  <tbody>\n",
       "    <tr>\n",
       "      <th>0</th>\n",
       "      <td>gi|448814763|ref|NC_000962.3|</td>\n",
       "      <td>3.270000e-118</td>\n",
       "      <td>434.0</td>\n",
       "      <td>100.000</td>\n",
       "      <td>240</td>\n",
       "      <td>83332</td>\n",
       "      <td>Mycobacterium tuberculosis H37Rv</td>\n",
       "      <td>ATGGTGGAAATCGTGGCTGGAAAACAACGCGCTCCGGTCGCTGCCG...</td>\n",
       "      <td>Mycobacterium</td>\n",
       "      <td>Mycobacterium_tuberculosis_H37Rv</td>\n",
       "    </tr>\n",
       "    <tr>\n",
       "      <th>1</th>\n",
       "      <td>gi|340625033|ref|NC_015848.1|</td>\n",
       "      <td>1.390000e-116</td>\n",
       "      <td>429.0</td>\n",
       "      <td>99.583</td>\n",
       "      <td>240</td>\n",
       "      <td>1048245</td>\n",
       "      <td>Mycobacterium canettii CIPT 140010059</td>\n",
       "      <td>ATGGTGGAAATCGTGGCTGGAAAACAACGCGCTCCGGTCGCTGCCG...</td>\n",
       "      <td>Mycobacterium</td>\n",
       "      <td>Mycobacterium_canettii_CIPT_140010059</td>\n",
       "    </tr>\n",
       "    <tr>\n",
       "      <th>2</th>\n",
       "      <td>gi|1816737860|ref|NZ_AP022575.1|</td>\n",
       "      <td>7.710000e-82</td>\n",
       "      <td>314.0</td>\n",
       "      <td>89.496</td>\n",
       "      <td>238</td>\n",
       "      <td>398694</td>\n",
       "      <td>Mycobacterium shinjukuense</td>\n",
       "      <td>GGTGGAGA-CGTGGCTGGAAAACAAGACGCTCCGGTCACTGCCGGC...</td>\n",
       "      <td>Mycobacterium</td>\n",
       "      <td>Mycobacterium_shinjukuense</td>\n",
       "    </tr>\n",
       "    <tr>\n",
       "      <th>3</th>\n",
       "      <td>gi|1912148917|ref|NZ_OCVX01000007.1|</td>\n",
       "      <td>3.280000e-61</td>\n",
       "      <td>244.0</td>\n",
       "      <td>82.979</td>\n",
       "      <td>235</td>\n",
       "      <td>627089</td>\n",
       "      <td>Mycobacterium simulans</td>\n",
       "      <td>GGACATCATGGCTGGAAACCTGGGCGCTCCCGTCGCCGCCGGCGTC...</td>\n",
       "      <td>Mycobacterium</td>\n",
       "      <td>Mycobacterium_simulans</td>\n",
       "    </tr>\n",
       "    <tr>\n",
       "      <th>4</th>\n",
       "      <td>gi|1063562954|ref|NZ_MIHB01000001.1|</td>\n",
       "      <td>4.870000e-59</td>\n",
       "      <td>237.0</td>\n",
       "      <td>82.684</td>\n",
       "      <td>231</td>\n",
       "      <td>28445</td>\n",
       "      <td>Mycobacterium intermedium</td>\n",
       "      <td>ATCGTGGTTGCAAACCTGGGCGCTCCGGTCGGTGCCGGGGTGTACA...</td>\n",
       "      <td>Mycobacterium</td>\n",
       "      <td>Mycobacterium_intermedium</td>\n",
       "    </tr>\n",
       "    <tr>\n",
       "      <th>...</th>\n",
       "      <td>...</td>\n",
       "      <td>...</td>\n",
       "      <td>...</td>\n",
       "      <td>...</td>\n",
       "      <td>...</td>\n",
       "      <td>...</td>\n",
       "      <td>...</td>\n",
       "      <td>...</td>\n",
       "      <td>...</td>\n",
       "      <td>...</td>\n",
       "    </tr>\n",
       "    <tr>\n",
       "      <th>350</th>\n",
       "      <td>gi|753873216|ref|NZ_CP006764.1|</td>\n",
       "      <td>3.290000e-04</td>\n",
       "      <td>56.3</td>\n",
       "      <td>70.796</td>\n",
       "      <td>113</td>\n",
       "      <td>558173</td>\n",
       "      <td>Corynebacterium doosanense CAU 212 = DSM 45436</td>\n",
       "      <td>GGGCTCGAGGCTCCGCGATTCTGCGGGCACTGCGGCCGCCGGATGG...</td>\n",
       "      <td>Corynebacterium</td>\n",
       "      <td>Corynebacterium_doosanense_CAU_212_=_DSM_45436</td>\n",
       "    </tr>\n",
       "    <tr>\n",
       "      <th>351</th>\n",
       "      <td>gi|1595894816|ref|NZ_SMZQ01000012.1|</td>\n",
       "      <td>3.290000e-04</td>\n",
       "      <td>55.4</td>\n",
       "      <td>70.909</td>\n",
       "      <td>110</td>\n",
       "      <td>683150</td>\n",
       "      <td>Arthrobacter nitrophenolicus</td>\n",
       "      <td>GCGGCGAGGCTGGAGCTGGAGCCCCCGCGCTTTTGCGTCCGGTGCG...</td>\n",
       "      <td>Arthrobacter</td>\n",
       "      <td>Arthrobacter_nitrophenolicus</td>\n",
       "    </tr>\n",
       "    <tr>\n",
       "      <th>352</th>\n",
       "      <td>gi|2023781849|ref|NZ_JAGINV010000001.1|</td>\n",
       "      <td>4.900000e-02</td>\n",
       "      <td>49.1</td>\n",
       "      <td>70.192</td>\n",
       "      <td>104</td>\n",
       "      <td>33919</td>\n",
       "      <td>Saccharothrix coeruleofusca</td>\n",
       "      <td>GACCCGCCGCGCTTCTGCCAGCGGTGCGCGCGGCGGATGGTCGTCC...</td>\n",
       "      <td>Saccharothrix</td>\n",
       "      <td>Saccharothrix_coeruleofusca</td>\n",
       "    </tr>\n",
       "    <tr>\n",
       "      <th>353</th>\n",
       "      <td>gi|1199725501|ref|NZ_CP021417.1|</td>\n",
       "      <td>4.900000e-02</td>\n",
       "      <td>48.2</td>\n",
       "      <td>70.370</td>\n",
       "      <td>108</td>\n",
       "      <td>2320431</td>\n",
       "      <td>Corynebacterium silvaticum</td>\n",
       "      <td>GGGT-TGGAGGCACCGCGCTTCTGCCAGATCTGCGGGCGTCGCATG...</td>\n",
       "      <td>Corynebacterium</td>\n",
       "      <td>Corynebacterium_silvaticum</td>\n",
       "    </tr>\n",
       "    <tr>\n",
       "      <th>354</th>\n",
       "      <td>gi|1592638758|ref|NZ_SMKP01000018.1|</td>\n",
       "      <td>7.200000e+00</td>\n",
       "      <td>41.9</td>\n",
       "      <td>70.000</td>\n",
       "      <td>110</td>\n",
       "      <td>1848329</td>\n",
       "      <td>Nonomuraea diastatica</td>\n",
       "      <td>CGCGGTGCGGTC-CCGGCTGTTCGTCCACGTGCCGGGCGACATCGA...</td>\n",
       "      <td>Nonomuraea</td>\n",
       "      <td>Nonomuraea_diastatica</td>\n",
       "    </tr>\n",
       "  </tbody>\n",
       "</table>\n",
       "<p>355 rows × 10 columns</p>\n",
       "</div>"
      ],
      "text/plain": [
       "                                       seqid         evalue  bitscore  \\\n",
       "0              gi|448814763|ref|NC_000962.3|  3.270000e-118     434.0   \n",
       "1              gi|340625033|ref|NC_015848.1|  1.390000e-116     429.0   \n",
       "2           gi|1816737860|ref|NZ_AP022575.1|   7.710000e-82     314.0   \n",
       "3       gi|1912148917|ref|NZ_OCVX01000007.1|   3.280000e-61     244.0   \n",
       "4       gi|1063562954|ref|NZ_MIHB01000001.1|   4.870000e-59     237.0   \n",
       "..                                       ...            ...       ...   \n",
       "350          gi|753873216|ref|NZ_CP006764.1|   3.290000e-04      56.3   \n",
       "351     gi|1595894816|ref|NZ_SMZQ01000012.1|   3.290000e-04      55.4   \n",
       "352  gi|2023781849|ref|NZ_JAGINV010000001.1|   4.900000e-02      49.1   \n",
       "353         gi|1199725501|ref|NZ_CP021417.1|   4.900000e-02      48.2   \n",
       "354     gi|1592638758|ref|NZ_SMKP01000018.1|   7.200000e+00      41.9   \n",
       "\n",
       "      pident  length   staxid                                          ssname  \\\n",
       "0    100.000     240    83332                Mycobacterium tuberculosis H37Rv   \n",
       "1     99.583     240  1048245           Mycobacterium canettii CIPT 140010059   \n",
       "2     89.496     238   398694                      Mycobacterium shinjukuense   \n",
       "3     82.979     235   627089                          Mycobacterium simulans   \n",
       "4     82.684     231    28445                       Mycobacterium intermedium   \n",
       "..       ...     ...      ...                                             ...   \n",
       "350   70.796     113   558173  Corynebacterium doosanense CAU 212 = DSM 45436   \n",
       "351   70.909     110   683150                    Arthrobacter nitrophenolicus   \n",
       "352   70.192     104    33919                     Saccharothrix coeruleofusca   \n",
       "353   70.370     108  2320431                      Corynebacterium silvaticum   \n",
       "354   70.000     110  1848329                           Nonomuraea diastatica   \n",
       "\n",
       "                                                  sseq            genus  \\\n",
       "0    ATGGTGGAAATCGTGGCTGGAAAACAACGCGCTCCGGTCGCTGCCG...    Mycobacterium   \n",
       "1    ATGGTGGAAATCGTGGCTGGAAAACAACGCGCTCCGGTCGCTGCCG...    Mycobacterium   \n",
       "2    GGTGGAGA-CGTGGCTGGAAAACAAGACGCTCCGGTCACTGCCGGC...    Mycobacterium   \n",
       "3    GGACATCATGGCTGGAAACCTGGGCGCTCCCGTCGCCGCCGGCGTC...    Mycobacterium   \n",
       "4    ATCGTGGTTGCAAACCTGGGCGCTCCGGTCGGTGCCGGGGTGTACA...    Mycobacterium   \n",
       "..                                                 ...              ...   \n",
       "350  GGGCTCGAGGCTCCGCGATTCTGCGGGCACTGCGGCCGCCGGATGG...  Corynebacterium   \n",
       "351  GCGGCGAGGCTGGAGCTGGAGCCCCCGCGCTTTTGCGTCCGGTGCG...     Arthrobacter   \n",
       "352  GACCCGCCGCGCTTCTGCCAGCGGTGCGCGCGGCGGATGGTCGTCC...    Saccharothrix   \n",
       "353  GGGT-TGGAGGCACCGCGCTTCTGCCAGATCTGCGGGCGTCGCATG...  Corynebacterium   \n",
       "354  CGCGGTGCGGTC-CCGGCTGTTCGTCCACGTGCCGGGCGACATCGA...       Nonomuraea   \n",
       "\n",
       "                                               name  \n",
       "0                  Mycobacterium_tuberculosis_H37Rv  \n",
       "1             Mycobacterium_canettii_CIPT_140010059  \n",
       "2                        Mycobacterium_shinjukuense  \n",
       "3                            Mycobacterium_simulans  \n",
       "4                         Mycobacterium_intermedium  \n",
       "..                                              ...  \n",
       "350  Corynebacterium_doosanense_CAU_212_=_DSM_45436  \n",
       "351                    Arthrobacter_nitrophenolicus  \n",
       "352                     Saccharothrix_coeruleofusca  \n",
       "353                      Corynebacterium_silvaticum  \n",
       "354                           Nonomuraea_diastatica  \n",
       "\n",
       "[355 rows x 10 columns]"
      ]
     },
     "execution_count": 19,
     "metadata": {},
     "output_type": "execute_result"
    }
   ],
   "source": [
    "df"
   ]
  },
  {
   "cell_type": "code",
   "execution_count": 20,
   "id": "81098632",
   "metadata": {},
   "outputs": [],
   "source": [
    "# trimmed tree\n",
    "\n",
    "species = pd.read_csv(\"treemmer/bspA_iqtree_gentree_newick.file_trimmed_list_X_50\", names=['names'])"
   ]
  },
  {
   "cell_type": "code",
   "execution_count": 21,
   "id": "2fdf5d2c",
   "metadata": {},
   "outputs": [
    {
     "data": {
      "text/plain": [
       "123              Nocardia_harenae_NBRC_108248\n",
       "162          Nocardia_niigatensis_NBRC_100131\n",
       "194           Nocardia_amamiensis_NBRC_102102\n",
       "196                      Nocardia_yunnanensis\n",
       "203                         Nocardia_wallacei\n",
       "206                   Nocardia_tengchongensis\n",
       "210                     Nocardia_tenerifensis\n",
       "211                       Nocardia_aurantiaca\n",
       "222           Nocardia_pneumoniae_NBRC_100136\n",
       "224       Nocardia_pseudovaccinii_NBRC_100343\n",
       "225              Nocardia_concava_NBRC_100430\n",
       "229                    Nocardia_transvalensis\n",
       "239           Nocardia_takedensis_NBRC_100417\n",
       "241                          Nocardia_coffeae\n",
       "246                            Nocardia_sputi\n",
       "250                   Nocardia_yamanashiensis\n",
       "251                            Nocardia_puris\n",
       "254                            Nocardia_colli\n",
       "258                  Nocardia_bhagyanarayanae\n",
       "259                         Nocardia_aurantia\n",
       "261              Nocardia_sienata_NBRC_100364\n",
       "262          Nocardia_grenadensis_NBRC_108939\n",
       "267             Nocardia_anaemiae_NBRC_100462\n",
       "268         Nocardia_jiangxiensis_NBRC_101359\n",
       "270                     Nocardia_gipuzkoensis\n",
       "271                      Nocardia_albiluteola\n",
       "272            Nocardia_higoensis_NBRC_100133\n",
       "273                         Nocardia_fluminea\n",
       "277                           Nocardia_terrae\n",
       "280                 Nocardia_fusca_NBRC_14340\n",
       "282           Nocardia_miyunensis_NBRC_108239\n",
       "283                Nocardia_amikacinitolerans\n",
       "284             Nocardia_testacea_NBRC_100365\n",
       "288                    Nocardia_bovistercoris\n",
       "290                       Nocardia_asteroides\n",
       "291              Nocardia_farcinica_IFM_10152\n",
       "293                      Nocardia_mangyaensis\n",
       "295          Nocardia_xishanensis_NBRC_101358\n",
       "296         Nocardia_lijiangensis_NBRC_108240\n",
       "297                       Nocardia_huaxiensis\n",
       "298               Nocardia_pseudobrasiliensis\n",
       "302                     Nocardia_barduliensis\n",
       "303               Nocardia_vinacea_NBRC_16497\n",
       "304    Nocardia_niwae_NBRC_108934_=_DSM_45340\n",
       "305            Nocardia_araoensis_NBRC_100135\n",
       "306          Nocardia_paucivorans_NBRC_100373\n",
       "309                        Nocardia_stercoris\n",
       "310          Nocardia_beijingensis_NBRC_16342\n",
       "311          Nocardia_arthritidis_NBRC_100137\n",
       "312            Nocardia_gamkensis_NBRC_108242\n",
       "313             Nocardia_asiatica_NBRC_100129\n",
       "314            Nocardia_abscessus_NBRC_100374\n",
       "330                        Nocardia_camponoti\n",
       "332          Nocardia_thailandica_NBRC_100428\n",
       "349                     Nocardia_goodfellowii\n",
       "Name: name, dtype: object"
      ]
     },
     "execution_count": 21,
     "metadata": {},
     "output_type": "execute_result"
    }
   ],
   "source": [
    "df['name'][df['name'].str.contains('cardia')]"
   ]
  },
  {
   "cell_type": "code",
   "execution_count": 22,
   "id": "27ca5365",
   "metadata": {},
   "outputs": [],
   "source": [
    "add_in = ['Mycobacterium_tuberculosis_H37Rv',\n",
    "          'Mycolicibacterium_smegmatis',\n",
    "          'Mycobacteroides_abscessus',\n",
    "          'Mycobacterium_leprae',\n",
    "          'Mycobacterium_ulcerans']"
   ]
  },
  {
   "cell_type": "code",
   "execution_count": 23,
   "id": "72b204a7",
   "metadata": {},
   "outputs": [],
   "source": [
    "# species['names'].tolist() + add_in"
   ]
  },
  {
   "cell_type": "code",
   "execution_count": 24,
   "id": "96b6ab26",
   "metadata": {},
   "outputs": [
    {
     "data": {
      "text/plain": [
       "('Mycolicibacterium_smegmatis',)"
      ]
     },
     "execution_count": 24,
     "metadata": {},
     "output_type": "execute_result"
    }
   ],
   "source": [
    " 'Mycolicibacterium_smegmatis',"
   ]
  },
  {
   "cell_type": "code",
   "execution_count": 25,
   "id": "3ac4ddbf",
   "metadata": {},
   "outputs": [
    {
     "data": {
      "text/html": [
       "<div>\n",
       "<style scoped>\n",
       "    .dataframe tbody tr th:only-of-type {\n",
       "        vertical-align: middle;\n",
       "    }\n",
       "\n",
       "    .dataframe tbody tr th {\n",
       "        vertical-align: top;\n",
       "    }\n",
       "\n",
       "    .dataframe thead th {\n",
       "        text-align: right;\n",
       "    }\n",
       "</style>\n",
       "<table border=\"1\" class=\"dataframe\">\n",
       "  <thead>\n",
       "    <tr style=\"text-align: right;\">\n",
       "      <th></th>\n",
       "      <th>seqid</th>\n",
       "      <th>evalue</th>\n",
       "      <th>bitscore</th>\n",
       "      <th>pident</th>\n",
       "      <th>length</th>\n",
       "      <th>staxid</th>\n",
       "      <th>ssname</th>\n",
       "      <th>sseq</th>\n",
       "      <th>genus</th>\n",
       "      <th>name</th>\n",
       "    </tr>\n",
       "  </thead>\n",
       "  <tbody>\n",
       "    <tr>\n",
       "      <th>0</th>\n",
       "      <td>gi|448814763|ref|NC_000962.3|</td>\n",
       "      <td>3.270000e-118</td>\n",
       "      <td>434.0</td>\n",
       "      <td>100.000</td>\n",
       "      <td>240</td>\n",
       "      <td>83332</td>\n",
       "      <td>Mycobacterium tuberculosis H37Rv</td>\n",
       "      <td>ATGGTGGAAATCGTGGCTGGAAAACAACGCGCTCCGGTCGCTGCCG...</td>\n",
       "      <td>Mycobacterium</td>\n",
       "      <td>Mycobacterium_tuberculosis_H37Rv</td>\n",
       "    </tr>\n",
       "    <tr>\n",
       "      <th>1</th>\n",
       "      <td>gi|340625033|ref|NC_015848.1|</td>\n",
       "      <td>1.390000e-116</td>\n",
       "      <td>429.0</td>\n",
       "      <td>99.583</td>\n",
       "      <td>240</td>\n",
       "      <td>1048245</td>\n",
       "      <td>Mycobacterium canettii CIPT 140010059</td>\n",
       "      <td>ATGGTGGAAATCGTGGCTGGAAAACAACGCGCTCCGGTCGCTGCCG...</td>\n",
       "      <td>Mycobacterium</td>\n",
       "      <td>Mycobacterium_canettii_CIPT_140010059</td>\n",
       "    </tr>\n",
       "    <tr>\n",
       "      <th>2</th>\n",
       "      <td>gi|1816737860|ref|NZ_AP022575.1|</td>\n",
       "      <td>7.710000e-82</td>\n",
       "      <td>314.0</td>\n",
       "      <td>89.496</td>\n",
       "      <td>238</td>\n",
       "      <td>398694</td>\n",
       "      <td>Mycobacterium shinjukuense</td>\n",
       "      <td>GGTGGAGA-CGTGGCTGGAAAACAAGACGCTCCGGTCACTGCCGGC...</td>\n",
       "      <td>Mycobacterium</td>\n",
       "      <td>Mycobacterium_shinjukuense</td>\n",
       "    </tr>\n",
       "    <tr>\n",
       "      <th>3</th>\n",
       "      <td>gi|1912148917|ref|NZ_OCVX01000007.1|</td>\n",
       "      <td>3.280000e-61</td>\n",
       "      <td>244.0</td>\n",
       "      <td>82.979</td>\n",
       "      <td>235</td>\n",
       "      <td>627089</td>\n",
       "      <td>Mycobacterium simulans</td>\n",
       "      <td>GGACATCATGGCTGGAAACCTGGGCGCTCCCGTCGCCGCCGGCGTC...</td>\n",
       "      <td>Mycobacterium</td>\n",
       "      <td>Mycobacterium_simulans</td>\n",
       "    </tr>\n",
       "    <tr>\n",
       "      <th>4</th>\n",
       "      <td>gi|1063562954|ref|NZ_MIHB01000001.1|</td>\n",
       "      <td>4.870000e-59</td>\n",
       "      <td>237.0</td>\n",
       "      <td>82.684</td>\n",
       "      <td>231</td>\n",
       "      <td>28445</td>\n",
       "      <td>Mycobacterium intermedium</td>\n",
       "      <td>ATCGTGGTTGCAAACCTGGGCGCTCCGGTCGGTGCCGGGGTGTACA...</td>\n",
       "      <td>Mycobacterium</td>\n",
       "      <td>Mycobacterium_intermedium</td>\n",
       "    </tr>\n",
       "    <tr>\n",
       "      <th>...</th>\n",
       "      <td>...</td>\n",
       "      <td>...</td>\n",
       "      <td>...</td>\n",
       "      <td>...</td>\n",
       "      <td>...</td>\n",
       "      <td>...</td>\n",
       "      <td>...</td>\n",
       "      <td>...</td>\n",
       "      <td>...</td>\n",
       "      <td>...</td>\n",
       "    </tr>\n",
       "    <tr>\n",
       "      <th>350</th>\n",
       "      <td>gi|753873216|ref|NZ_CP006764.1|</td>\n",
       "      <td>3.290000e-04</td>\n",
       "      <td>56.3</td>\n",
       "      <td>70.796</td>\n",
       "      <td>113</td>\n",
       "      <td>558173</td>\n",
       "      <td>Corynebacterium doosanense CAU 212 = DSM 45436</td>\n",
       "      <td>GGGCTCGAGGCTCCGCGATTCTGCGGGCACTGCGGCCGCCGGATGG...</td>\n",
       "      <td>Corynebacterium</td>\n",
       "      <td>Corynebacterium_doosanense_CAU_212_=_DSM_45436</td>\n",
       "    </tr>\n",
       "    <tr>\n",
       "      <th>351</th>\n",
       "      <td>gi|1595894816|ref|NZ_SMZQ01000012.1|</td>\n",
       "      <td>3.290000e-04</td>\n",
       "      <td>55.4</td>\n",
       "      <td>70.909</td>\n",
       "      <td>110</td>\n",
       "      <td>683150</td>\n",
       "      <td>Arthrobacter nitrophenolicus</td>\n",
       "      <td>GCGGCGAGGCTGGAGCTGGAGCCCCCGCGCTTTTGCGTCCGGTGCG...</td>\n",
       "      <td>Arthrobacter</td>\n",
       "      <td>Arthrobacter_nitrophenolicus</td>\n",
       "    </tr>\n",
       "    <tr>\n",
       "      <th>352</th>\n",
       "      <td>gi|2023781849|ref|NZ_JAGINV010000001.1|</td>\n",
       "      <td>4.900000e-02</td>\n",
       "      <td>49.1</td>\n",
       "      <td>70.192</td>\n",
       "      <td>104</td>\n",
       "      <td>33919</td>\n",
       "      <td>Saccharothrix coeruleofusca</td>\n",
       "      <td>GACCCGCCGCGCTTCTGCCAGCGGTGCGCGCGGCGGATGGTCGTCC...</td>\n",
       "      <td>Saccharothrix</td>\n",
       "      <td>Saccharothrix_coeruleofusca</td>\n",
       "    </tr>\n",
       "    <tr>\n",
       "      <th>353</th>\n",
       "      <td>gi|1199725501|ref|NZ_CP021417.1|</td>\n",
       "      <td>4.900000e-02</td>\n",
       "      <td>48.2</td>\n",
       "      <td>70.370</td>\n",
       "      <td>108</td>\n",
       "      <td>2320431</td>\n",
       "      <td>Corynebacterium silvaticum</td>\n",
       "      <td>GGGT-TGGAGGCACCGCGCTTCTGCCAGATCTGCGGGCGTCGCATG...</td>\n",
       "      <td>Corynebacterium</td>\n",
       "      <td>Corynebacterium_silvaticum</td>\n",
       "    </tr>\n",
       "    <tr>\n",
       "      <th>354</th>\n",
       "      <td>gi|1592638758|ref|NZ_SMKP01000018.1|</td>\n",
       "      <td>7.200000e+00</td>\n",
       "      <td>41.9</td>\n",
       "      <td>70.000</td>\n",
       "      <td>110</td>\n",
       "      <td>1848329</td>\n",
       "      <td>Nonomuraea diastatica</td>\n",
       "      <td>CGCGGTGCGGTC-CCGGCTGTTCGTCCACGTGCCGGGCGACATCGA...</td>\n",
       "      <td>Nonomuraea</td>\n",
       "      <td>Nonomuraea_diastatica</td>\n",
       "    </tr>\n",
       "  </tbody>\n",
       "</table>\n",
       "<p>355 rows × 10 columns</p>\n",
       "</div>"
      ],
      "text/plain": [
       "                                       seqid         evalue  bitscore  \\\n",
       "0              gi|448814763|ref|NC_000962.3|  3.270000e-118     434.0   \n",
       "1              gi|340625033|ref|NC_015848.1|  1.390000e-116     429.0   \n",
       "2           gi|1816737860|ref|NZ_AP022575.1|   7.710000e-82     314.0   \n",
       "3       gi|1912148917|ref|NZ_OCVX01000007.1|   3.280000e-61     244.0   \n",
       "4       gi|1063562954|ref|NZ_MIHB01000001.1|   4.870000e-59     237.0   \n",
       "..                                       ...            ...       ...   \n",
       "350          gi|753873216|ref|NZ_CP006764.1|   3.290000e-04      56.3   \n",
       "351     gi|1595894816|ref|NZ_SMZQ01000012.1|   3.290000e-04      55.4   \n",
       "352  gi|2023781849|ref|NZ_JAGINV010000001.1|   4.900000e-02      49.1   \n",
       "353         gi|1199725501|ref|NZ_CP021417.1|   4.900000e-02      48.2   \n",
       "354     gi|1592638758|ref|NZ_SMKP01000018.1|   7.200000e+00      41.9   \n",
       "\n",
       "      pident  length   staxid                                          ssname  \\\n",
       "0    100.000     240    83332                Mycobacterium tuberculosis H37Rv   \n",
       "1     99.583     240  1048245           Mycobacterium canettii CIPT 140010059   \n",
       "2     89.496     238   398694                      Mycobacterium shinjukuense   \n",
       "3     82.979     235   627089                          Mycobacterium simulans   \n",
       "4     82.684     231    28445                       Mycobacterium intermedium   \n",
       "..       ...     ...      ...                                             ...   \n",
       "350   70.796     113   558173  Corynebacterium doosanense CAU 212 = DSM 45436   \n",
       "351   70.909     110   683150                    Arthrobacter nitrophenolicus   \n",
       "352   70.192     104    33919                     Saccharothrix coeruleofusca   \n",
       "353   70.370     108  2320431                      Corynebacterium silvaticum   \n",
       "354   70.000     110  1848329                           Nonomuraea diastatica   \n",
       "\n",
       "                                                  sseq            genus  \\\n",
       "0    ATGGTGGAAATCGTGGCTGGAAAACAACGCGCTCCGGTCGCTGCCG...    Mycobacterium   \n",
       "1    ATGGTGGAAATCGTGGCTGGAAAACAACGCGCTCCGGTCGCTGCCG...    Mycobacterium   \n",
       "2    GGTGGAGA-CGTGGCTGGAAAACAAGACGCTCCGGTCACTGCCGGC...    Mycobacterium   \n",
       "3    GGACATCATGGCTGGAAACCTGGGCGCTCCCGTCGCCGCCGGCGTC...    Mycobacterium   \n",
       "4    ATCGTGGTTGCAAACCTGGGCGCTCCGGTCGGTGCCGGGGTGTACA...    Mycobacterium   \n",
       "..                                                 ...              ...   \n",
       "350  GGGCTCGAGGCTCCGCGATTCTGCGGGCACTGCGGCCGCCGGATGG...  Corynebacterium   \n",
       "351  GCGGCGAGGCTGGAGCTGGAGCCCCCGCGCTTTTGCGTCCGGTGCG...     Arthrobacter   \n",
       "352  GACCCGCCGCGCTTCTGCCAGCGGTGCGCGCGGCGGATGGTCGTCC...    Saccharothrix   \n",
       "353  GGGT-TGGAGGCACCGCGCTTCTGCCAGATCTGCGGGCGTCGCATG...  Corynebacterium   \n",
       "354  CGCGGTGCGGTC-CCGGCTGTTCGTCCACGTGCCGGGCGACATCGA...       Nonomuraea   \n",
       "\n",
       "                                               name  \n",
       "0                  Mycobacterium_tuberculosis_H37Rv  \n",
       "1             Mycobacterium_canettii_CIPT_140010059  \n",
       "2                        Mycobacterium_shinjukuense  \n",
       "3                            Mycobacterium_simulans  \n",
       "4                         Mycobacterium_intermedium  \n",
       "..                                              ...  \n",
       "350  Corynebacterium_doosanense_CAU_212_=_DSM_45436  \n",
       "351                    Arthrobacter_nitrophenolicus  \n",
       "352                     Saccharothrix_coeruleofusca  \n",
       "353                      Corynebacterium_silvaticum  \n",
       "354                           Nonomuraea_diastatica  \n",
       "\n",
       "[355 rows x 10 columns]"
      ]
     },
     "execution_count": 25,
     "metadata": {},
     "output_type": "execute_result"
    }
   ],
   "source": [
    "df"
   ]
  },
  {
   "cell_type": "code",
   "execution_count": 29,
   "id": "7c85222b",
   "metadata": {},
   "outputs": [],
   "source": [
    "subset55 = df[df['name'].isin(species['names'].tolist() + add_in)]"
   ]
  },
  {
   "cell_type": "code",
   "execution_count": 31,
   "id": "0ec248ee",
   "metadata": {},
   "outputs": [
    {
     "data": {
      "text/plain": [
       "(48, 10)"
      ]
     },
     "execution_count": 31,
     "metadata": {},
     "output_type": "execute_result"
    }
   ],
   "source": [
    "subset55.shape"
   ]
  },
  {
   "cell_type": "code",
   "execution_count": 34,
   "id": "c5b03b1f",
   "metadata": {},
   "outputs": [
    {
     "data": {
      "text/plain": [
       "'83332'"
      ]
     },
     "execution_count": 34,
     "metadata": {},
     "output_type": "execute_result"
    }
   ],
   "source": [
    "subset55.loc[i, 'staxid'].astype(str)"
   ]
  },
  {
   "cell_type": "code",
   "execution_count": 36,
   "id": "f53cc7db",
   "metadata": {},
   "outputs": [],
   "source": [
    "# sequences = []\n",
    "\n",
    "# for i in subset55.index:\n",
    "# #     print(df.loc[i, 'sseq'])\n",
    "# #     print(df.loc[i, 'seqid'])\n",
    "# #     print(df.loc[i, 'ssname'])\n",
    "    \n",
    "# #     seq_id = subset55.loc[i, 'ssname'].replace(\" \", \"_\")\n",
    "    \n",
    "#     sequences.append(SeqRecord(Seq(subset55.loc[i, 'sseq']), id=subset55.loc[i, 'name'], description=\"\"))\n",
    "# #     sequences.append(SeqRecord(Seq(df.loc[i, 'sseq']), id=df.loc[i,'seqid'], name=df.loc[i, 'ssname'], description=\"\"))\n",
    "\n",
    "\n",
    "sequences = []\n",
    "\n",
    "for i in subset55.index:\n",
    "#     print(df.loc[i, 'sseq'])\n",
    "#     print(df.loc[i, 'seqid'])\n",
    "#     print(df.loc[i, 'ssname'])\n",
    "    \n",
    "#     seq_id = subset55.loc[i, 'ssname'].replace(\" \", \"_\")\n",
    "    \n",
    "    sequences.append(SeqRecord(Seq(subset55.loc[i, 'sseq']), id=subset55.loc[i, 'staxid'].astype(str), description=\"\"))\n",
    "#     sequences.append(SeqRecord(Seq(df.loc[i, 'sseq']), id=df.loc[i,'seqid'], name=df.loc[i, 'ssname'], description=\"\"))\n"
   ]
  },
  {
   "cell_type": "code",
   "execution_count": 37,
   "id": "31b4d48f",
   "metadata": {},
   "outputs": [],
   "source": [
    "\n",
    "with open(\"subset55_blastn_bspa_edited_TAXID.fasta\", \"w\") as output_handle:\n",
    "    SeqIO.write(sequences, output_handle, \"fasta\")"
   ]
  },
  {
   "cell_type": "code",
   "execution_count": null,
   "id": "c6357502",
   "metadata": {},
   "outputs": [],
   "source": []
  },
  {
   "cell_type": "code",
   "execution_count": 38,
   "id": "1653da47",
   "metadata": {},
   "outputs": [],
   "source": [
    "protein_seqs = []\n",
    "\n",
    "with open(\"bspaONLY_blastp_AND_hmmr_out.fa\") as handle:\n",
    "    for record in SeqIO.parse(handle, \"fasta\"):\n",
    "        protein_seqs.append([record.id, record.name, record.description, record.seq])\n",
    "\n"
   ]
  },
  {
   "cell_type": "code",
   "execution_count": 40,
   "id": "d51bd017",
   "metadata": {},
   "outputs": [],
   "source": [
    "df = pd.DataFrame(protein_seqs, columns=['id', 'name', 'description', 'seq'])"
   ]
  },
  {
   "cell_type": "code",
   "execution_count": 55,
   "id": "7e05c1d7",
   "metadata": {},
   "outputs": [],
   "source": [
    "df['desc2'] = df['description'].str.split(\"protein\", expand=True)[1].str.strip(\" []\")"
   ]
  },
  {
   "cell_type": "code",
   "execution_count": 58,
   "id": "9984caad",
   "metadata": {},
   "outputs": [],
   "source": [
    "df[['id', 'description', 'desc2']].to_csv(\"manual_edit_protein_names.csv\", index=False)"
   ]
  },
  {
   "cell_type": "code",
   "execution_count": 59,
   "id": "c16becfb",
   "metadata": {},
   "outputs": [],
   "source": [
    "dfid = pd.read_csv(\"manual_edit_protein_names.csv\")"
   ]
  },
  {
   "cell_type": "code",
   "execution_count": 61,
   "id": "911d4507",
   "metadata": {},
   "outputs": [
    {
     "data": {
      "text/plain": [
       "Actinomycetia bacterium                3\n",
       "Acidimicrobiaceae bacterium            3\n",
       "Actinobacteria bacterium               3\n",
       "Mycolicibacterium sphagni              2\n",
       "Mycobacteriaceae bacterium             2\n",
       "                                      ..\n",
       "Mycolicibacterium smegmatis            1\n",
       "Mycolicibacterium sp. 018/SC-01/001    1\n",
       "Mycobacterium sp. MCB0931096.1         1\n",
       "Mycobacterium fragae                   1\n",
       "Actinomyces sp.                        1\n",
       "Name: desc2, Length: 119, dtype: int64"
      ]
     },
     "execution_count": 61,
     "metadata": {},
     "output_type": "execute_result"
    }
   ],
   "source": [
    "dfid['desc2'].value_counts()"
   ]
  },
  {
   "cell_type": "code",
   "execution_count": null,
   "id": "c65ccc11",
   "metadata": {},
   "outputs": [],
   "source": []
  }
 ],
 "metadata": {
  "kernelspec": {
   "display_name": "Python 3 (ipykernel)",
   "language": "python",
   "name": "python3"
  },
  "language_info": {
   "codemirror_mode": {
    "name": "ipython",
    "version": 3
   },
   "file_extension": ".py",
   "mimetype": "text/x-python",
   "name": "python",
   "nbconvert_exporter": "python",
   "pygments_lexer": "ipython3",
   "version": "3.8.11"
  }
 },
 "nbformat": 4,
 "nbformat_minor": 5
}
