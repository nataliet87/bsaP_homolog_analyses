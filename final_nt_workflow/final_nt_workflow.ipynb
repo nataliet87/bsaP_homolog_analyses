{
 "cells": [
  {
   "cell_type": "code",
   "execution_count": 3,
   "id": "d79747ea",
   "metadata": {},
   "outputs": [],
   "source": [
    "import os\n",
    "import pandas as pd\n",
    "import numpy as np\n",
    "\n",
    "from Bio import SeqIO\n",
    "from Bio.Seq import Seq\n",
    "from Bio.SeqRecord import SeqRecord"
   ]
  },
  {
   "cell_type": "markdown",
   "id": "d670e3a0",
   "metadata": {},
   "source": [
    "## Generate cleaned fasta for first round of tree drawing"
   ]
  },
  {
   "cell_type": "code",
   "execution_count": null,
   "id": "4fb70120",
   "metadata": {},
   "outputs": [],
   "source": [
    "cols = ['sseqid', 'evalue', 'bitscore', 'pident', 'length', 'staxid', 'scomnames', 'ssciname', 'sblastnames', 'sseq']\n",
    "\n",
    "a = pd.read_csv(\"../23may2023/bspaONLY_blastn_out_subj_besthit_23may2023.tsv\", delimiter=\"\\t\", names=cols)\n",
    "b = pd.read_csv(\"../23may2023/bspaONLY_blastn_out_taxid_limited_23may2023.tsv\", delimiter=\"\\t\", names=cols)\n",
    "\n",
    "df = pd.concat([a, b])\n",
    "df.shape"
   ]
  },
  {
   "cell_type": "code",
   "execution_count": null,
   "id": "c67fcc11",
   "metadata": {},
   "outputs": [],
   "source": [
    "df = df[df['length'] > 80].reset_index(drop=True)"
   ]
  },
  {
   "cell_type": "code",
   "execution_count": null,
   "id": "5fa612dd",
   "metadata": {},
   "outputs": [],
   "source": [
    "df['genus'] = df['ssciname'].str.split(\" \", expand=True)[0]"
   ]
  },
  {
   "cell_type": "code",
   "execution_count": null,
   "id": "aab7296b",
   "metadata": {},
   "outputs": [],
   "source": [
    "# df[['staxid', 'genus']].to_csv(\"23may2023/blastn_genus_names.csv\", index=False)"
   ]
  },
  {
   "cell_type": "code",
   "execution_count": null,
   "id": "6b29bd67",
   "metadata": {},
   "outputs": [],
   "source": [
    "# df['scomnames'].unique()\n",
    "\n",
    "drop = ['Mycobacterium malmoense',\n",
    " 'Mycobacterium frederiksbergens',\n",
    " 'Mycolicibacterium vinylchloridicum',\n",
    " 'Mycobacterium seoulense',\n",
    " 'Mycobacterium asiaticum DSM 44297',\n",
    " 'Mycobacterium simulans',\n",
    " 'Mycolicibacterium anyangense',\n",
    " 'Mycobacterium cookii',\n",
    " 'Mycolicibacterium hippocampi',\n",
    " 'Mycobacterium conspicuum'\n",
    "]"
   ]
  },
  {
   "cell_type": "code",
   "execution_count": null,
   "id": "41d92c5e",
   "metadata": {},
   "outputs": [],
   "source": [
    "df = df[~df['scomnames'].isin(drop)]"
   ]
  },
  {
   "cell_type": "code",
   "execution_count": null,
   "id": "7d721687",
   "metadata": {},
   "outputs": [],
   "source": [
    "df = df.sort_values(by='length', ascending=False) \n",
    "df = df[~df['staxid'].duplicated()]"
   ]
  },
  {
   "cell_type": "code",
   "execution_count": null,
   "id": "5d426311",
   "metadata": {},
   "outputs": [],
   "source": [
    "df.shape"
   ]
  },
  {
   "cell_type": "code",
   "execution_count": null,
   "id": "554ced28",
   "metadata": {},
   "outputs": [],
   "source": [
    "df['length'].describe()"
   ]
  },
  {
   "cell_type": "code",
   "execution_count": null,
   "id": "65556bd5",
   "metadata": {},
   "outputs": [],
   "source": [
    "# df = df[df['length'] > 100].reset_index(drop=True)"
   ]
  },
  {
   "cell_type": "code",
   "execution_count": 81,
   "id": "b198c99b",
   "metadata": {},
   "outputs": [],
   "source": [
    "sequences = []\n",
    "\n",
    "for i in df.index:\n",
    "    sequences.append(SeqRecord(Seq(df.loc[i, 'sseq']), id=df.loc[i,'staxid'].astype(str), description=\"\"))\n"
   ]
  },
  {
   "cell_type": "code",
   "execution_count": 82,
   "id": "e2df4fc5",
   "metadata": {},
   "outputs": [],
   "source": [
    "with open(\"../blastn_bspa_hits_100bp_19Jul2023.fasta\", \"w\") as output_handle:\n",
    "    SeqIO.write(sequences, output_handle, \"fasta\")"
   ]
  },
  {
   "cell_type": "markdown",
   "id": "d4d59ca8",
   "metadata": {},
   "source": [
    "## Get names from taxid values for 100 species remaining after treemmer round 1"
   ]
  },
  {
   "cell_type": "code",
   "execution_count": 103,
   "id": "0c8db356",
   "metadata": {},
   "outputs": [],
   "source": [
    "# Treemmer 100n subset list read in, and some manual alterations made. Now reading in those manually selected species to pull all desired taxid values\n",
    "\n",
    "# sp = pd.read_csv(\"blastn_bsap_cleaned_hits_round1_consensus.nwk_trimmed_list_X_100\", header=None)\n",
    "sp = pd.read_excel(\"species_to_keep_subset100.xlsx\", header=None)"
   ]
  },
  {
   "cell_type": "code",
   "execution_count": 145,
   "id": "0d27456c",
   "metadata": {},
   "outputs": [
    {
     "data": {
      "text/plain": [
       "count     98.000000\n",
       "mean     124.836735\n",
       "std       42.637695\n",
       "min       81.000000\n",
       "25%       93.000000\n",
       "50%      110.000000\n",
       "75%      142.500000\n",
       "max      238.000000\n",
       "Name: length, dtype: float64"
      ]
     },
     "execution_count": 145,
     "metadata": {},
     "output_type": "execute_result"
    }
   ],
   "source": [
    "df[df['scomnames'].isin(sp[0])].reset_index(drop=True)['length'].describe()"
   ]
  },
  {
   "cell_type": "code",
   "execution_count": 146,
   "id": "a75c9a90",
   "metadata": {},
   "outputs": [
    {
     "data": {
      "text/plain": [
       "count    98.000000\n",
       "mean     76.059255\n",
       "std       3.335523\n",
       "min      70.000000\n",
       "25%      73.742500\n",
       "50%      75.791000\n",
       "75%      78.617500\n",
       "max      83.871000\n",
       "Name: pident, dtype: float64"
      ]
     },
     "execution_count": 146,
     "metadata": {},
     "output_type": "execute_result"
    }
   ],
   "source": [
    "df[df['scomnames'].isin(sp[0])].reset_index(drop=True)['pident'].describe()"
   ]
  },
  {
   "cell_type": "code",
   "execution_count": 148,
   "id": "ad8f0565",
   "metadata": {},
   "outputs": [],
   "source": [
    "df[df['scomnames'].isin(sp[0])].reset_index(drop=True).to_csv(\"species_to_keep_subset100.csv\", index=False)"
   ]
  },
  {
   "cell_type": "code",
   "execution_count": 153,
   "id": "3b5a86bd",
   "metadata": {},
   "outputs": [
    {
     "data": {
      "text/plain": [
       "'2738409,1273442,564198,1908205,1801,1841861,120959,1809,1779,1260918,350058,182220,1460372,1772,84962,1769,443218,2742202,36811,1249101,126673,1053547,589162,1788,1073574,1223544,158898,1210074,2487352,391736,526226,1990687,191292,543736,2831662,912594,1755582,43767,521096,1348662,2760083,1219361,558173,2895283,1206730,2604572,885042,300028,683150,1848329,1200352,2592067,1437874,1210084,2320431,2762214,1219029,1089545,1048339,479432,37330,108486,571913,1220553,364929,2545757,455432,2911517,543632,1068980,1121368,225051,1572660,83302,547056,664692,2750812,452863,630975,675635,1993,2508997,485602,1654476,35755,479435,280293,1431546,931089,1045776,1105145,2576905,106370,1677852,1128676,1686286,2761101,1562887'"
      ]
     },
     "execution_count": 153,
     "metadata": {},
     "output_type": "execute_result"
    }
   ],
   "source": [
    "\",\".join(df[df['scomnames'].isin(sp[0])]['staxid'].astype(str).tolist())"
   ]
  },
  {
   "cell_type": "code",
   "execution_count": null,
   "id": "190e48c7",
   "metadata": {},
   "outputs": [],
   "source": [
    "## used these coordinates to run blast again to fetch start and end coords for hits for each of these species for\n",
    "## bioB and bsaP"
   ]
  },
  {
   "cell_type": "code",
   "execution_count": 191,
   "id": "e9e72d5f",
   "metadata": {},
   "outputs": [],
   "source": [
    "cols = ['sseqid', 'evalue', 'bitscore', 'pident', 'length', 'staxid', 'scomnames', 'ssciname', 'sstart', 'ssend', 'sseq']\n",
    "\n",
    "biob = pd.read_csv(\"biob_subset100_blastn_out_taxid_limited_19Jul2023.tsv\", delimiter=\"\\t\", names=cols)\n",
    "bsap = pd.read_csv(\"bsap_subset100_blastn_out_taxid_limited_19Jul2023.tsv\", delimiter=\"\\t\", names=cols)"
   ]
  },
  {
   "cell_type": "code",
   "execution_count": 175,
   "id": "f8264e79",
   "metadata": {},
   "outputs": [],
   "source": [
    "biob = biob.sort_values(by='bitscore', ascending=False).drop_duplicates(subset='staxid').reset_index(drop=True)\n",
    "bsap = bsap.sort_values(by='bitscore', ascending=False).drop_duplicates(subset='staxid').reset_index(drop=True)"
   ]
  },
  {
   "cell_type": "code",
   "execution_count": 179,
   "id": "4098e586",
   "metadata": {},
   "outputs": [
    {
     "data": {
      "text/html": [
       "<div>\n",
       "<style scoped>\n",
       "    .dataframe tbody tr th:only-of-type {\n",
       "        vertical-align: middle;\n",
       "    }\n",
       "\n",
       "    .dataframe tbody tr th {\n",
       "        vertical-align: top;\n",
       "    }\n",
       "\n",
       "    .dataframe thead th {\n",
       "        text-align: right;\n",
       "    }\n",
       "</style>\n",
       "<table border=\"1\" class=\"dataframe\">\n",
       "  <thead>\n",
       "    <tr style=\"text-align: right;\">\n",
       "      <th></th>\n",
       "      <th>sseqid</th>\n",
       "      <th>evalue</th>\n",
       "      <th>bitscore</th>\n",
       "      <th>pident</th>\n",
       "      <th>length</th>\n",
       "      <th>staxid</th>\n",
       "      <th>scomnames</th>\n",
       "      <th>ssciname</th>\n",
       "      <th>sstart</th>\n",
       "      <th>ssend</th>\n",
       "      <th>sseq</th>\n",
       "    </tr>\n",
       "  </thead>\n",
       "  <tbody>\n",
       "    <tr>\n",
       "      <th>0</th>\n",
       "      <td>gi|2171054877|ref|NZ_CP089224.1|</td>\n",
       "      <td>0.0</td>\n",
       "      <td>1265.0</td>\n",
       "      <td>86.415</td>\n",
       "      <td>1060</td>\n",
       "      <td>2738409</td>\n",
       "      <td>Mycobacterium ostraviense</td>\n",
       "      <td>Mycobacterium ostraviense</td>\n",
       "      <td>2729619</td>\n",
       "      <td>2728560</td>\n",
       "      <td>GTGACTCAAGCGCCGATTCGACCGACGACCGACGCCGGCCAGCAGG...</td>\n",
       "    </tr>\n",
       "    <tr>\n",
       "      <th>1</th>\n",
       "      <td>gi|1143091011|ref|NZ_FUEZ01000004.1|</td>\n",
       "      <td>0.0</td>\n",
       "      <td>1233.0</td>\n",
       "      <td>86.000</td>\n",
       "      <td>1050</td>\n",
       "      <td>1841861</td>\n",
       "      <td>Mycobacterium numidiamassiliense</td>\n",
       "      <td>Mycobacterium numidiamassiliense</td>\n",
       "      <td>3784479</td>\n",
       "      <td>3783442</td>\n",
       "      <td>GTGACTCAAGCGGCAACTCGACCGACAACCGAAGCCGGC------G...</td>\n",
       "    </tr>\n",
       "    <tr>\n",
       "      <th>2</th>\n",
       "      <td>gi|1184639431|ref|NZ_LQOW01000034.1|</td>\n",
       "      <td>0.0</td>\n",
       "      <td>1213.0</td>\n",
       "      <td>86.961</td>\n",
       "      <td>997</td>\n",
       "      <td>1260918</td>\n",
       "      <td>Mycobacterium fragae</td>\n",
       "      <td>Mycobacterium fragae</td>\n",
       "      <td>140783</td>\n",
       "      <td>141779</td>\n",
       "      <td>ACAGCACCGACATCCTTGCCGTGGCGCGGCAACAGGTGCTCGACCG...</td>\n",
       "    </tr>\n",
       "    <tr>\n",
       "      <th>3</th>\n",
       "      <td>gi|2203294655|ref|NZ_CP085200.1|</td>\n",
       "      <td>0.0</td>\n",
       "      <td>1207.0</td>\n",
       "      <td>85.510</td>\n",
       "      <td>1049</td>\n",
       "      <td>1809</td>\n",
       "      <td>Mycobacterium ulcerans</td>\n",
       "      <td>Mycobacterium ulcerans</td>\n",
       "      <td>3972206</td>\n",
       "      <td>3971158</td>\n",
       "      <td>GTGACTCAGGCGGCTACTCGACCCAGCAATGACGCCGGCCAGGATG...</td>\n",
       "    </tr>\n",
       "    <tr>\n",
       "      <th>4</th>\n",
       "      <td>gi|1895562399|ref|NZ_CP045081.1|</td>\n",
       "      <td>0.0</td>\n",
       "      <td>1207.0</td>\n",
       "      <td>85.510</td>\n",
       "      <td>1049</td>\n",
       "      <td>120959</td>\n",
       "      <td>Mycobacterium kubicae</td>\n",
       "      <td>Mycobacterium kubicae</td>\n",
       "      <td>2385368</td>\n",
       "      <td>2386416</td>\n",
       "      <td>GTGACTCAAGCGCCGATTCGACCGACCACCGACGCCGGCCAGGATG...</td>\n",
       "    </tr>\n",
       "  </tbody>\n",
       "</table>\n",
       "</div>"
      ],
      "text/plain": [
       "                                 sseqid  evalue  bitscore  pident  length  \\\n",
       "0      gi|2171054877|ref|NZ_CP089224.1|     0.0    1265.0  86.415    1060   \n",
       "1  gi|1143091011|ref|NZ_FUEZ01000004.1|     0.0    1233.0  86.000    1050   \n",
       "2  gi|1184639431|ref|NZ_LQOW01000034.1|     0.0    1213.0  86.961     997   \n",
       "3      gi|2203294655|ref|NZ_CP085200.1|     0.0    1207.0  85.510    1049   \n",
       "4      gi|1895562399|ref|NZ_CP045081.1|     0.0    1207.0  85.510    1049   \n",
       "\n",
       "    staxid                         scomnames  \\\n",
       "0  2738409         Mycobacterium ostraviense   \n",
       "1  1841861  Mycobacterium numidiamassiliense   \n",
       "2  1260918              Mycobacterium fragae   \n",
       "3     1809            Mycobacterium ulcerans   \n",
       "4   120959             Mycobacterium kubicae   \n",
       "\n",
       "                           ssciname   sstart    ssend  \\\n",
       "0         Mycobacterium ostraviense  2729619  2728560   \n",
       "1  Mycobacterium numidiamassiliense  3784479  3783442   \n",
       "2              Mycobacterium fragae   140783   141779   \n",
       "3            Mycobacterium ulcerans  3972206  3971158   \n",
       "4             Mycobacterium kubicae  2385368  2386416   \n",
       "\n",
       "                                                sseq  \n",
       "0  GTGACTCAAGCGCCGATTCGACCGACGACCGACGCCGGCCAGCAGG...  \n",
       "1  GTGACTCAAGCGGCAACTCGACCGACAACCGAAGCCGGC------G...  \n",
       "2  ACAGCACCGACATCCTTGCCGTGGCGCGGCAACAGGTGCTCGACCG...  \n",
       "3  GTGACTCAGGCGGCTACTCGACCCAGCAATGACGCCGGCCAGGATG...  \n",
       "4  GTGACTCAAGCGCCGATTCGACCGACCACCGACGCCGGCCAGGATG...  "
      ]
     },
     "execution_count": 179,
     "metadata": {},
     "output_type": "execute_result"
    }
   ],
   "source": [
    "biob.head()"
   ]
  },
  {
   "cell_type": "code",
   "execution_count": 185,
   "id": "4444253f",
   "metadata": {},
   "outputs": [],
   "source": [
    "subset100 = bsap[['sseqid', 'staxid', 'ssciname', 'pident', 'length', 'sstart', 'ssend']].merge(\n",
    "    biob[['sseqid', 'pident', 'length', 'sstart', 'ssend']], on='sseqid', how='outer').sort_values(by='sseqid')"
   ]
  },
  {
   "cell_type": "code",
   "execution_count": 186,
   "id": "517f1d90",
   "metadata": {},
   "outputs": [],
   "source": [
    "subset100.columns=['sseqid', 'staxid', 'ssciname', \n",
    "                   'bspa_pident','bspa_len','bspa_start','bspa_end',\n",
    "                   'biob_pident','biob_len','biob_start','biob_end']"
   ]
  },
  {
   "cell_type": "code",
   "execution_count": 188,
   "id": "931a8d53",
   "metadata": {},
   "outputs": [],
   "source": [
    "subset100.to_csv(\"subset100_feature_coords.csv\", index=None)"
   ]
  },
  {
   "cell_type": "code",
   "execution_count": null,
   "id": "f66fa8c2",
   "metadata": {},
   "outputs": [],
   "source": [
    "bspa"
   ]
  },
  {
   "cell_type": "code",
   "execution_count": 194,
   "id": "bacd1a47",
   "metadata": {},
   "outputs": [
    {
     "data": {
      "text/html": [
       "<div>\n",
       "<style scoped>\n",
       "    .dataframe tbody tr th:only-of-type {\n",
       "        vertical-align: middle;\n",
       "    }\n",
       "\n",
       "    .dataframe tbody tr th {\n",
       "        vertical-align: top;\n",
       "    }\n",
       "\n",
       "    .dataframe thead th {\n",
       "        text-align: right;\n",
       "    }\n",
       "</style>\n",
       "<table border=\"1\" class=\"dataframe\">\n",
       "  <thead>\n",
       "    <tr style=\"text-align: right;\">\n",
       "      <th></th>\n",
       "      <th>sseqid</th>\n",
       "      <th>evalue</th>\n",
       "      <th>bitscore</th>\n",
       "      <th>pident</th>\n",
       "      <th>length</th>\n",
       "      <th>staxid</th>\n",
       "      <th>scomnames</th>\n",
       "      <th>ssciname</th>\n",
       "      <th>sstart</th>\n",
       "      <th>ssend</th>\n",
       "      <th>sseq</th>\n",
       "    </tr>\n",
       "  </thead>\n",
       "  <tbody>\n",
       "    <tr>\n",
       "      <th>205</th>\n",
       "      <td>gi|1055243950|ref|NZ_BCRN01000023.1|</td>\n",
       "      <td>0.000</td>\n",
       "      <td>850.0</td>\n",
       "      <td>81.167</td>\n",
       "      <td>908</td>\n",
       "      <td>1219361</td>\n",
       "      <td>Millisia brevis NBRC 105863</td>\n",
       "      <td>Millisia brevis NBRC 105863</td>\n",
       "      <td>227</td>\n",
       "      <td>1131</td>\n",
       "      <td>TGCTCGAGGTGTTGACGTTGCCCGACGAGCGCATCGAGGAGCTGCT...</td>\n",
       "    </tr>\n",
       "    <tr>\n",
       "      <th>401</th>\n",
       "      <td>gi|1055244024|ref|NZ_BCRN01000033.1|</td>\n",
       "      <td>0.024</td>\n",
       "      <td>44.6</td>\n",
       "      <td>88.235</td>\n",
       "      <td>34</td>\n",
       "      <td>1219361</td>\n",
       "      <td>Millisia brevis NBRC 105863</td>\n",
       "      <td>Millisia brevis NBRC 105863</td>\n",
       "      <td>11641</td>\n",
       "      <td>11674</td>\n",
       "      <td>GCGCACCATGCCGCGGTTCGCCGGGCGACGCGAG</td>\n",
       "    </tr>\n",
       "  </tbody>\n",
       "</table>\n",
       "</div>"
      ],
      "text/plain": [
       "                                   sseqid  evalue  bitscore  pident  length  \\\n",
       "205  gi|1055243950|ref|NZ_BCRN01000023.1|   0.000     850.0  81.167     908   \n",
       "401  gi|1055244024|ref|NZ_BCRN01000033.1|   0.024      44.6  88.235      34   \n",
       "\n",
       "      staxid                    scomnames                     ssciname  \\\n",
       "205  1219361  Millisia brevis NBRC 105863  Millisia brevis NBRC 105863   \n",
       "401  1219361  Millisia brevis NBRC 105863  Millisia brevis NBRC 105863   \n",
       "\n",
       "     sstart  ssend                                               sseq  \n",
       "205     227   1131  TGCTCGAGGTGTTGACGTTGCCCGACGAGCGCATCGAGGAGCTGCT...  \n",
       "401   11641  11674                 GCGCACCATGCCGCGGTTCGCCGGGCGACGCGAG  "
      ]
     },
     "execution_count": 194,
     "metadata": {},
     "output_type": "execute_result"
    }
   ],
   "source": [
    "biob[biob['staxid'] == 1219361]"
   ]
  },
  {
   "cell_type": "markdown",
   "id": "14cc6340",
   "metadata": {},
   "source": [
    "## Pull sequences for bioB and bsaP for subset100 seqs"
   ]
  },
  {
   "cell_type": "code",
   "execution_count": 106,
   "id": "42896636",
   "metadata": {},
   "outputs": [],
   "source": [
    "# df = pd.read_csv(\"subset78_feature_loci.csv\")\n",
    "\n",
    "df = pd.read_excel(\"subset100_feature_coords.xlsx\")\n"
   ]
  },
  {
   "cell_type": "code",
   "execution_count": 44,
   "id": "a88f34ca",
   "metadata": {},
   "outputs": [],
   "source": [
    "# df.dropna(subset=['staxid'])['staxid'].astype(int).to_csv('subset80_taxids.txt', index=False)"
   ]
  },
  {
   "cell_type": "code",
   "execution_count": 109,
   "id": "8f9b9041",
   "metadata": {},
   "outputs": [],
   "source": [
    "df['bsap_seq'] = df['bsap_seq'].str.replace(\" \", \"\")\n",
    "df['biob_seq'] = df['biob_seq'].str.replace(\" \", \"\")"
   ]
  },
  {
   "cell_type": "code",
   "execution_count": 64,
   "id": "636ff1cd",
   "metadata": {},
   "outputs": [],
   "source": [
    "bsap_nt_seqs = []\n",
    "bsap_aa_seqs = []\n",
    "biob_aa_seqs = []\n",
    "\n",
    "for i in df[['ssciname', 'bsap_seq']].dropna().index:\n",
    "    bsap_nt_seqs.append(SeqRecord(Seq(df.loc[i, 'bsap_seq']), df.loc[i, 'ssciname'].replace(\" \", \"_\"), description=\"\"))\n",
    "    bsap_aa_seqs.append(SeqRecord(Seq(df.loc[i, 'bsap_seq']).translate(table=11), df.loc[i, 'ssciname'].replace(\" \", \"_\"), description=\"\"))\n",
    "    \n",
    "    biob_aa_seqs.append(SeqRecord(Seq(df.loc[i, 'biob_seq']).translate(table=11), df.loc[i, 'ssciname'].replace(\" \", \"_\"), description=\"\"))"
   ]
  },
  {
   "cell_type": "code",
   "execution_count": 67,
   "id": "1fa2da91",
   "metadata": {},
   "outputs": [
    {
     "data": {
      "text/plain": [
       "77"
      ]
     },
     "execution_count": 67,
     "metadata": {},
     "output_type": "execute_result"
    }
   ],
   "source": [
    "# SeqIO.write(bsap_nt_seqs, \"bsap_nt_sequences_subset80.fa\", \"fasta\")\n",
    "# SeqIO.write(bsap_aa_seqs, \"bsap_protein_sequences_subset80.fa\", \"fasta\")\n",
    "# SeqIO.write(biob_aa_seqs, \"biob_protein_sequences_subset80.fa\", \"fasta\")"
   ]
  },
  {
   "cell_type": "markdown",
   "id": "8782d47a",
   "metadata": {},
   "source": [
    "#### Added psuedocardia sp and H37Rv entries to each above fasta manually!\n",
    "\n",
    "H37Rv entries pulled from mycobrowser\n",
    "\n",
    "pseudocardia aa seq (directly from Inna):\n",
    "MLAVLQLPDDRVDELLALAHEVRMRWCGPEVEVEGIVSVKTGGCPEDCHFCSQSGHFDSPVRAVWLNIAGLVEAAKQTAATGATEFCIVAAVRGPDRRLMSQVKAGIEAIRKEPLTAHLNIACSLGMLTSEQVDELAAMGVHRYNHNLETARSYFPTVVTTHTWEERFQTLRMVREAGMEVCCGGIIGLGETVAQRAEFAAQLASLDPDEVPMNFLIPQPGTPYEDYDVVAGAEALKTVAAFRFALPRTILRFAGGRELTLGDLGAERGMLGGINAIIVGNYLTNLGRPAQADLDMLTDLRMPIKALGQTFCDVCGRPAGEGNHASCARRRGLEPPRYCPQCARRMVVQVMPAGWSARCSRHGVQPGLG\n",
    "\n",
    "pseudocardia nt seq (https://www.bv-brc.org/view/FeatureList/?keyword%28%22LC644_01795%22%29=#view_tab=features&defaultSort=-score):\n",
    ">fig|60912.15.peg.2225|LC644_01795| Biotin synthase (EC 2.8.1.6) [Pseudonocardia sp. MAG106 | 60912.15]\n",
    "gtgacccggtcgcaggtcgatgtgctggccgtcgcccgacaacgggtactccaccaggga\n",
    "gcagggctgtctgagcagcaggtgctcgctgtacttcaactgccggacgaccgggtggat\n",
    "gagctgctcgcgctggcccacgaggtgcggatgcgctggtgcggcccggaggtcgaagtc\n",
    "gagggcatcgtcagcgtcaagaccggcggctgcccggaggattgtcacttctgctcgcag\n",
    "tcgggccacttcgactcaccggtacgggcggtgtggctgaacattgccggcctagtcgag\n",
    "gcagccaagcagactgcggccaccggggcgaccgagttctgcatcgtcgccgccgtgcgc\n",
    "ggaccggaccggcggttgatgtcgcaggtcaaagccggcatcgaggcgatccgcaaagaa\n",
    "cccttgaccgcgcatctcaacatcgcctgctcgctgggcatgctcacctcagaacaagtg\n",
    "gacgagctggccgccatgggcgtgcaccgctacaaccacaacttggagaccgcgcgctcg\n",
    "tacttcccgacggtggtgaccacccacacctgggaggagcgtttccagacgctgcggatg\n",
    "gttcgcgaggccgggatggaagtctgctgcggcggcatcatcgggctgggggagacggtg\n",
    "gcccagcgcgccgagttcgccgcgcagctcgcctcgctggatcccgacgaggtgccgatg\n",
    "aacttcctgatcccgcagcccggcaccccgtacgaggactatgacgtggtggccggtgcc\n",
    "gaggcgctcaagaccgtcgcggcgttccggttcgcgctgccccgcacaatcctgcgcttc\n",
    "gccgggggccgtgagctcaccctgggtgatctgggcgccgagcgaggcatgctgggcggc\n",
    "atcaatgcgatcatcgtgggcaactacctgaccaatctcggtcgaccggcgcaggcggat\n",
    "ctggacatgctcaccgacctgcggatgccgatcaaggcgctgggccagaccttctgcgat\n",
    "gtctgcgggcgcccggccggcgaaggaaaccatgcgagctgcgcccgccgccgcggcctg\n",
    "gagccgccccggtactgcccgcaatgtgcgcgccggatggtggtgcaggtaatgccggcc\n",
    "ggctggtcggcgcggtgcagcaggcacggtgtgcagccggggttgggatga\n",
    "\n",
    "\n",
    "For BsaP Pseudonocardia entries, the values entered are subsets of bioB, with length 1.5x the length of H37Rv BsaP"
   ]
  },
  {
   "cell_type": "code",
   "execution_count": 69,
   "id": "d131c0e6",
   "metadata": {},
   "outputs": [],
   "source": [
    "pseudonocardia_aa = \"MLAVLQLPDDRVDELLALAHEVRMRWCGPEVEVEGIVSVKTGGCPEDCHFCSQSGHFDSPVRAVWLNIAGLVEAAKQTAATGATEFCIVAAVRGPDRRLMSQVKAGIEAIRKEPLTAHLNIACSLGMLTSEQVDELAAMGVHRYNHNLETARSYFPTVVTTHTWEERFQTLRMVREAGMEVCCGGIIGLGETVAQRAEFAAQLASLDPDEVPMNFLIPQPGTPYEDYDVVAGAEALKTVAAFRFALPRTILRFAGGRELTLGDLGAERGMLGGINAIIVGNYLTNLGRPAQADLDMLTDLRMPIKALGQTFCDVCGRPAGEGNHASCARRRGLEPPRYCPQCARRMVVQVMPAGWSARCSRHGVQPGLG\"\n",
    "pseudonocardia_nt = \"gtgacccggtcgcaggtcgatgtgctggccgtcgcccgacaacgggtactccaccagggagcagggctgtctgagcagcaggtgctcgctgtacttcaactgccggacgaccgggtggatgagctgctcgcgctggcccacgaggtgcggatgcgctggtgcggcccggaggtcgaagtcgagggcatcgtcagcgtcaagaccggcggctgcccggaggattgtcacttctgctcgcagtcgggccacttcgactcaccggtacgggcggtgtggctgaacattgccggcctagtcgaggcagccaagcagactgcggccaccggggcgaccgagttctgcatcgtcgccgccgtgcgcggaccggaccggcggttgatgtcgcaggtcaaagccggcatcgaggcgatccgcaaagaacccttgaccgcgcatctcaacatcgcctgctcgctgggcatgctcacctcagaacaagtggacgagctggccgccatgggcgtgcaccgctacaaccacaacttggagaccgcgcgctcgtacttcccgacggtggtgaccacccacacctgggaggagcgtttccagacgctgcggatggttcgcgaggccgggatggaagtctgctgcggcggcatcatcgggctgggggagacggtggcccagcgcgccgagttcgccgcgcagctcgcctcgctggatcccgacgaggtgccgatgaacttcctgatcccgcagcccggcaccccgtacgaggactatgacgtggtggccggtgccgaggcgctcaagaccgtcgcggcgttccggttcgcgctgccccgcacaatcctgcgcttcgccgggggccgtgagctcaccctgggtgatctgggcgccgagcgaggcatgctgggcggcatcaatgcgatcatcgtgggcaactacctgaccaatctcggtcgaccggcgcaggcggatctggacatgctcaccgacctgcggatgccgatcaaggcgctgggccagaccttctgcgatgtctgcgggcgcccggccggcgaaggaaaccatgcgagctgcgcccgccgccgcggcctggagccgccccggtactgcccgcaatgtgcgcgccggatggtggtgcaggtaatgccggccggctggtcggcgcggtgcagcaggcacggtgtgcagccggggttgggatga\""
   ]
  },
  {
   "cell_type": "code",
   "execution_count": 80,
   "id": "b06c86a1",
   "metadata": {},
   "outputs": [
    {
     "data": {
      "text/plain": [
       "'ctgcgcttcgccgggggccgtgagctcaccctgggtgatctgggcgccgagcgaggcatgctgggcggcatcaatgcgatcatcgtgggcaactacctgaccaatctcggtcgaccggcgcaggcggatctggacatgctcaccgacctgcggatgccgatcaaggcgctgggccagaccttctgcgatgtctgcgggcgcccggccggcgaaggaaaccatgcgagctgcgcccgccgccgcggcctggagccgccccggtactgcccgcaatgtgcgcgccggatggtggtgcaggtaatgccggccggctggtcggcgcggtgcagcaggcacggtgtgcagccggggttgggatga'"
      ]
     },
     "execution_count": 80,
     "metadata": {},
     "output_type": "execute_result"
    }
   ],
   "source": [
    "pseudonocardia_nt[-360:]"
   ]
  },
  {
   "cell_type": "markdown",
   "id": "08c99763",
   "metadata": {},
   "source": [
    "### Write species and genus file from subset100 to file for Treemmer"
   ]
  },
  {
   "cell_type": "code",
   "execution_count": 110,
   "id": "286dcefa",
   "metadata": {},
   "outputs": [],
   "source": [
    "df['genus'] = df['ssciname'].str.split(expand=True)[0]\n",
    "df['name'] = df['ssciname'].str.replace(\" \", \"_\")"
   ]
  },
  {
   "cell_type": "code",
   "execution_count": 113,
   "id": "5f979a99",
   "metadata": {},
   "outputs": [],
   "source": [
    "df[['name', 'genus', 'bsap_seq']].dropna()[['name', 'genus']].to_csv(\"subset80_genus_names_lm.csv\", index=False)"
   ]
  },
  {
   "cell_type": "markdown",
   "id": "219abc20",
   "metadata": {},
   "source": [
    "## Write subset 50 fasta file from subset50 Treemmer round:"
   ]
  },
  {
   "cell_type": "code",
   "execution_count": 130,
   "id": "7061f143",
   "metadata": {},
   "outputs": [],
   "source": [
    "subset = pd.read_csv(\"blastn_bsap_cleaned_hits_round2_consensus.nwk_trimmed_list_X_50\", header=None)"
   ]
  },
  {
   "cell_type": "code",
   "execution_count": 131,
   "id": "836b7003",
   "metadata": {},
   "outputs": [
    {
     "data": {
      "text/plain": [
       "(50, 23)"
      ]
     },
     "execution_count": 131,
     "metadata": {},
     "output_type": "execute_result"
    }
   ],
   "source": [
    "df[df['name'].isin(subset[0])].shape"
   ]
  },
  {
   "cell_type": "code",
   "execution_count": 132,
   "id": "9529ecd8",
   "metadata": {},
   "outputs": [],
   "source": [
    "bsap_nt_seqs = []\n",
    "bsap_aa_seqs = []\n",
    "biob_aa_seqs = []\n",
    "\n",
    "for i in df[df['name'].isin(subset[0])].index:\n",
    "    bsap_nt_seqs.append(SeqRecord(Seq(df.loc[i, 'bsap_seq']), df.loc[i, 'ssciname'].replace(\" \", \"_\"), description=\"\"))\n",
    "    bsap_aa_seqs.append(SeqRecord(Seq(df.loc[i, 'bsap_seq']).translate(table=11), df.loc[i, 'ssciname'].replace(\" \", \"_\"), description=\"\"))\n",
    "    \n",
    "    biob_aa_seqs.append(SeqRecord(Seq(df.loc[i, 'biob_seq']).translate(table=11), df.loc[i, 'ssciname'].replace(\" \", \"_\"), description=\"\"))"
   ]
  },
  {
   "cell_type": "code",
   "execution_count": 133,
   "id": "0031a550",
   "metadata": {},
   "outputs": [
    {
     "data": {
      "text/plain": [
       "50"
      ]
     },
     "execution_count": 133,
     "metadata": {},
     "output_type": "execute_result"
    }
   ],
   "source": [
    "SeqIO.write(bsap_nt_seqs, \"bsap_nt_sequences_subset50.fa\", \"fasta\")\n",
    "SeqIO.write(bsap_aa_seqs, \"bsap_protein_sequences_subset50.fa\", \"fasta\")\n",
    "SeqIO.write(biob_aa_seqs, \"biob_protein_sequences_subset50.fa\", \"fasta\")"
   ]
  },
  {
   "cell_type": "code",
   "execution_count": null,
   "id": "5ecd864b",
   "metadata": {},
   "outputs": [],
   "source": []
  },
  {
   "cell_type": "code",
   "execution_count": null,
   "id": "eb1988eb",
   "metadata": {},
   "outputs": [],
   "source": []
  },
  {
   "cell_type": "code",
   "execution_count": null,
   "id": "787398a0",
   "metadata": {},
   "outputs": [],
   "source": []
  }
 ],
 "metadata": {
  "kernelspec": {
   "display_name": "Python 3 (ipykernel)",
   "language": "python",
   "name": "python3"
  },
  "language_info": {
   "codemirror_mode": {
    "name": "ipython",
    "version": 3
   },
   "file_extension": ".py",
   "mimetype": "text/x-python",
   "name": "python",
   "nbconvert_exporter": "python",
   "pygments_lexer": "ipython3",
   "version": "3.8.11"
  }
 },
 "nbformat": 4,
 "nbformat_minor": 5
}
