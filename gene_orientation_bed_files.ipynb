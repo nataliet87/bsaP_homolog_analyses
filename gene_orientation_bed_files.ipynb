{
 "cells": [
  {
   "cell_type": "markdown",
   "id": "634613be",
   "metadata": {},
   "source": [
    "## Setting up Bed files:"
   ]
  },
  {
   "cell_type": "code",
   "execution_count": 422,
   "id": "c2a05e8f",
   "metadata": {},
   "outputs": [],
   "source": [
    "import pandas as pd\n",
    "import os\n"
   ]
  },
  {
   "cell_type": "code",
   "execution_count": 423,
   "id": "20c12f07",
   "metadata": {},
   "outputs": [],
   "source": [
    "coords = pd.read_csv(\"final_nt_workflow/subset100_bsap_feature_metadata.csv\")\n",
    "# coords = df[['staxid', 'ssciname', 'bsap_coords', 'biob_coords']]\n",
    "coords = coords[['staxid', 'ssciname', 'bsap_coords', 'biob_coords']]"
   ]
  },
  {
   "cell_type": "code",
   "execution_count": 424,
   "id": "d22c1c15",
   "metadata": {},
   "outputs": [],
   "source": [
    "coords['bsap_strand'] = coords['bsap_coords'].fillna(\"0\").apply(lambda x: \"-\" if 'complement' in x else '+')\n",
    "coords['biob_strand'] = coords['biob_coords'].apply(lambda x: \"-\" if 'complement' in x else '+')"
   ]
  },
  {
   "cell_type": "code",
   "execution_count": 425,
   "id": "66940405",
   "metadata": {},
   "outputs": [],
   "source": [
    "coords[['biob_start', 'biob_end']] = coords['biob_coords'].str.strip(\"complement()\").str.split(\"\\.\\.\", expand=True).astype(int)\n",
    "coords[['bsap_start', 'bsap_end']] = coords['bsap_coords'].fillna(\"0..0\").str.strip(\"complement()\").str.split(\"\\.\\.\", expand=True).astype(int)"
   ]
  },
  {
   "cell_type": "code",
   "execution_count": null,
   "id": "b68e1af9",
   "metadata": {},
   "outputs": [],
   "source": []
  },
  {
   "cell_type": "code",
   "execution_count": 426,
   "id": "7f5e524f",
   "metadata": {},
   "outputs": [
    {
     "data": {
      "text/html": [
       "<div>\n",
       "<style scoped>\n",
       "    .dataframe tbody tr th:only-of-type {\n",
       "        vertical-align: middle;\n",
       "    }\n",
       "\n",
       "    .dataframe tbody tr th {\n",
       "        vertical-align: top;\n",
       "    }\n",
       "\n",
       "    .dataframe thead th {\n",
       "        text-align: right;\n",
       "    }\n",
       "</style>\n",
       "<table border=\"1\" class=\"dataframe\">\n",
       "  <thead>\n",
       "    <tr style=\"text-align: right;\">\n",
       "      <th></th>\n",
       "      <th>staxid</th>\n",
       "      <th>ssciname</th>\n",
       "      <th>bsap_coords</th>\n",
       "      <th>biob_coords</th>\n",
       "      <th>bsap_strand</th>\n",
       "      <th>biob_strand</th>\n",
       "      <th>biob_start</th>\n",
       "      <th>biob_end</th>\n",
       "      <th>bsap_start</th>\n",
       "      <th>bsap_end</th>\n",
       "    </tr>\n",
       "  </thead>\n",
       "  <tbody>\n",
       "    <tr>\n",
       "      <th>0</th>\n",
       "      <td>1220553.0</td>\n",
       "      <td>Nocardia flavorosea NBRC 108225</td>\n",
       "      <td>212068..212295</td>\n",
       "      <td>211007..212035</td>\n",
       "      <td>+</td>\n",
       "      <td>+</td>\n",
       "      <td>211007</td>\n",
       "      <td>212035</td>\n",
       "      <td>212068</td>\n",
       "      <td>212295</td>\n",
       "    </tr>\n",
       "    <tr>\n",
       "      <th>1</th>\n",
       "      <td>1210074.0</td>\n",
       "      <td>Nocardia harenae NBRC 108248</td>\n",
       "      <td>660045..660254</td>\n",
       "      <td>658996..660009</td>\n",
       "      <td>+</td>\n",
       "      <td>+</td>\n",
       "      <td>658996</td>\n",
       "      <td>660009</td>\n",
       "      <td>660045</td>\n",
       "      <td>660254</td>\n",
       "    </tr>\n",
       "    <tr>\n",
       "      <th>2</th>\n",
       "      <td>1219029.0</td>\n",
       "      <td>Rhodococcus yunnanensis NBRC 103083</td>\n",
       "      <td>99905..100120</td>\n",
       "      <td>98887..99894</td>\n",
       "      <td>+</td>\n",
       "      <td>+</td>\n",
       "      <td>98887</td>\n",
       "      <td>99894</td>\n",
       "      <td>99905</td>\n",
       "      <td>100120</td>\n",
       "    </tr>\n",
       "    <tr>\n",
       "      <th>3</th>\n",
       "      <td>158898.0</td>\n",
       "      <td>Gordonia westfalica</td>\n",
       "      <td>complement(992614..992853)</td>\n",
       "      <td>complement(992903..993940)</td>\n",
       "      <td>-</td>\n",
       "      <td>-</td>\n",
       "      <td>992903</td>\n",
       "      <td>993940</td>\n",
       "      <td>992614</td>\n",
       "      <td>992853</td>\n",
       "    </tr>\n",
       "    <tr>\n",
       "      <th>4</th>\n",
       "      <td>485602.0</td>\n",
       "      <td>Actinophytocola xinjiangensis</td>\n",
       "      <td>complement(17965..18168)</td>\n",
       "      <td>complement(18170..19219)</td>\n",
       "      <td>-</td>\n",
       "      <td>-</td>\n",
       "      <td>18170</td>\n",
       "      <td>19219</td>\n",
       "      <td>17965</td>\n",
       "      <td>18168</td>\n",
       "    </tr>\n",
       "    <tr>\n",
       "      <th>...</th>\n",
       "      <td>...</td>\n",
       "      <td>...</td>\n",
       "      <td>...</td>\n",
       "      <td>...</td>\n",
       "      <td>...</td>\n",
       "      <td>...</td>\n",
       "      <td>...</td>\n",
       "      <td>...</td>\n",
       "      <td>...</td>\n",
       "      <td>...</td>\n",
       "    </tr>\n",
       "    <tr>\n",
       "      <th>74</th>\n",
       "      <td>1200352.0</td>\n",
       "      <td>Corynebacterium terpenotabidum Y-11</td>\n",
       "      <td>1011409..1011636</td>\n",
       "      <td>1010406..1011404</td>\n",
       "      <td>+</td>\n",
       "      <td>+</td>\n",
       "      <td>1010406</td>\n",
       "      <td>1011404</td>\n",
       "      <td>1011409</td>\n",
       "      <td>1011636</td>\n",
       "    </tr>\n",
       "    <tr>\n",
       "      <th>75</th>\n",
       "      <td>1348662.0</td>\n",
       "      <td>Corynebacterium argentoratense DSM 44202</td>\n",
       "      <td>complement(1292894..1293163)</td>\n",
       "      <td>complement(1293183..1294220)</td>\n",
       "      <td>-</td>\n",
       "      <td>-</td>\n",
       "      <td>1293183</td>\n",
       "      <td>1294220</td>\n",
       "      <td>1292894</td>\n",
       "      <td>1293163</td>\n",
       "    </tr>\n",
       "    <tr>\n",
       "      <th>76</th>\n",
       "      <td>1562887.0</td>\n",
       "      <td>Frankia coriariae</td>\n",
       "      <td>62763..63035</td>\n",
       "      <td>61507..62466</td>\n",
       "      <td>+</td>\n",
       "      <td>+</td>\n",
       "      <td>61507</td>\n",
       "      <td>62466</td>\n",
       "      <td>62763</td>\n",
       "      <td>63035</td>\n",
       "    </tr>\n",
       "    <tr>\n",
       "      <th>77</th>\n",
       "      <td>NaN</td>\n",
       "      <td>Mycobacterium tuberculosis H37Rv</td>\n",
       "      <td>1791334..1791573</td>\n",
       "      <td>1790284..1791333</td>\n",
       "      <td>+</td>\n",
       "      <td>+</td>\n",
       "      <td>1790284</td>\n",
       "      <td>1791333</td>\n",
       "      <td>1791334</td>\n",
       "      <td>1791573</td>\n",
       "    </tr>\n",
       "    <tr>\n",
       "      <th>78</th>\n",
       "      <td>NaN</td>\n",
       "      <td>Pseudonocardia sp. MAG106</td>\n",
       "      <td>NaN</td>\n",
       "      <td>4969..6159</td>\n",
       "      <td>+</td>\n",
       "      <td>+</td>\n",
       "      <td>4969</td>\n",
       "      <td>6159</td>\n",
       "      <td>0</td>\n",
       "      <td>0</td>\n",
       "    </tr>\n",
       "  </tbody>\n",
       "</table>\n",
       "<p>79 rows × 10 columns</p>\n",
       "</div>"
      ],
      "text/plain": [
       "       staxid                                  ssciname  \\\n",
       "0   1220553.0           Nocardia flavorosea NBRC 108225   \n",
       "1   1210074.0              Nocardia harenae NBRC 108248   \n",
       "2   1219029.0       Rhodococcus yunnanensis NBRC 103083   \n",
       "3    158898.0                       Gordonia westfalica   \n",
       "4    485602.0             Actinophytocola xinjiangensis   \n",
       "..        ...                                       ...   \n",
       "74  1200352.0       Corynebacterium terpenotabidum Y-11   \n",
       "75  1348662.0  Corynebacterium argentoratense DSM 44202   \n",
       "76  1562887.0                         Frankia coriariae   \n",
       "77        NaN          Mycobacterium tuberculosis H37Rv   \n",
       "78        NaN                 Pseudonocardia sp. MAG106   \n",
       "\n",
       "                     bsap_coords                   biob_coords bsap_strand  \\\n",
       "0                 212068..212295                211007..212035           +   \n",
       "1                 660045..660254                658996..660009           +   \n",
       "2                  99905..100120                  98887..99894           +   \n",
       "3     complement(992614..992853)    complement(992903..993940)           -   \n",
       "4       complement(17965..18168)      complement(18170..19219)           -   \n",
       "..                           ...                           ...         ...   \n",
       "74              1011409..1011636              1010406..1011404           +   \n",
       "75  complement(1292894..1293163)  complement(1293183..1294220)           -   \n",
       "76                  62763..63035                  61507..62466           +   \n",
       "77              1791334..1791573              1790284..1791333           +   \n",
       "78                           NaN                    4969..6159           +   \n",
       "\n",
       "   biob_strand  biob_start  biob_end  bsap_start  bsap_end  \n",
       "0            +      211007    212035      212068    212295  \n",
       "1            +      658996    660009      660045    660254  \n",
       "2            +       98887     99894       99905    100120  \n",
       "3            -      992903    993940      992614    992853  \n",
       "4            -       18170     19219       17965     18168  \n",
       "..         ...         ...       ...         ...       ...  \n",
       "74           +     1010406   1011404     1011409   1011636  \n",
       "75           -     1293183   1294220     1292894   1293163  \n",
       "76           +       61507     62466       62763     63035  \n",
       "77           +     1790284   1791333     1791334   1791573  \n",
       "78           +        4969      6159           0         0  \n",
       "\n",
       "[79 rows x 10 columns]"
      ]
     },
     "execution_count": 426,
     "metadata": {},
     "output_type": "execute_result"
    }
   ],
   "source": [
    "coords"
   ]
  },
  {
   "cell_type": "code",
   "execution_count": 427,
   "id": "8a8f8b38",
   "metadata": {},
   "outputs": [
    {
     "data": {
      "text/plain": [
       "79"
      ]
     },
     "execution_count": 427,
     "metadata": {},
     "output_type": "execute_result"
    }
   ],
   "source": [
    "(coords['bsap_start'] <= coords['bsap_end']).sum()"
   ]
  },
  {
   "cell_type": "code",
   "execution_count": 428,
   "id": "a2016867",
   "metadata": {},
   "outputs": [],
   "source": [
    "def get_proximity(row):    \n",
    "    \n",
    "    if row['biob_start'] < row['bsap_start']:\n",
    "        prox = row['bsap_start'] - row['biob_end']\n",
    "    \n",
    "    else:\n",
    "        prox = row['biob_start'] - row['bsap_end']\n",
    "        \n",
    "    return prox\n",
    "    \n",
    "    "
   ]
  },
  {
   "cell_type": "code",
   "execution_count": 429,
   "id": "f3bb724e",
   "metadata": {},
   "outputs": [
    {
     "data": {
      "text/html": [
       "<div>\n",
       "<style scoped>\n",
       "    .dataframe tbody tr th:only-of-type {\n",
       "        vertical-align: middle;\n",
       "    }\n",
       "\n",
       "    .dataframe tbody tr th {\n",
       "        vertical-align: top;\n",
       "    }\n",
       "\n",
       "    .dataframe thead th {\n",
       "        text-align: right;\n",
       "    }\n",
       "</style>\n",
       "<table border=\"1\" class=\"dataframe\">\n",
       "  <thead>\n",
       "    <tr style=\"text-align: right;\">\n",
       "      <th></th>\n",
       "      <th>staxid</th>\n",
       "      <th>ssciname</th>\n",
       "      <th>bsap_coords</th>\n",
       "      <th>biob_coords</th>\n",
       "      <th>bsap_strand</th>\n",
       "      <th>biob_strand</th>\n",
       "      <th>biob_start</th>\n",
       "      <th>biob_end</th>\n",
       "      <th>bsap_start</th>\n",
       "      <th>bsap_end</th>\n",
       "    </tr>\n",
       "  </thead>\n",
       "  <tbody>\n",
       "    <tr>\n",
       "      <th>20</th>\n",
       "      <td>1993.0</td>\n",
       "      <td>Actinomadura madurae</td>\n",
       "      <td>complement(291258..291440)</td>\n",
       "      <td>complement(286905..287900)</td>\n",
       "      <td>-</td>\n",
       "      <td>-</td>\n",
       "      <td>286905</td>\n",
       "      <td>287900</td>\n",
       "      <td>291258</td>\n",
       "      <td>291440</td>\n",
       "    </tr>\n",
       "    <tr>\n",
       "      <th>26</th>\n",
       "      <td>2576905.0</td>\n",
       "      <td>Microbispora fusca</td>\n",
       "      <td>45899..46081</td>\n",
       "      <td>complement(49746..50744)</td>\n",
       "      <td>+</td>\n",
       "      <td>-</td>\n",
       "      <td>49746</td>\n",
       "      <td>50744</td>\n",
       "      <td>45899</td>\n",
       "      <td>46081</td>\n",
       "    </tr>\n",
       "    <tr>\n",
       "      <th>27</th>\n",
       "      <td>2508997.0</td>\n",
       "      <td>Actinomadura soli</td>\n",
       "      <td>complement(683..799)</td>\n",
       "      <td>complement(10066..11061)</td>\n",
       "      <td>-</td>\n",
       "      <td>-</td>\n",
       "      <td>10066</td>\n",
       "      <td>11061</td>\n",
       "      <td>683</td>\n",
       "      <td>799</td>\n",
       "    </tr>\n",
       "    <tr>\n",
       "      <th>31</th>\n",
       "      <td>2604572.0</td>\n",
       "      <td>Actinomadura decatromicini</td>\n",
       "      <td>complement(118932..119147)</td>\n",
       "      <td>complement(115636..116631)</td>\n",
       "      <td>-</td>\n",
       "      <td>-</td>\n",
       "      <td>115636</td>\n",
       "      <td>116631</td>\n",
       "      <td>118932</td>\n",
       "      <td>119147</td>\n",
       "    </tr>\n",
       "    <tr>\n",
       "      <th>49</th>\n",
       "      <td>83302.0</td>\n",
       "      <td>Microbispora corallina</td>\n",
       "      <td>complement(25686..25874)</td>\n",
       "      <td>20891..21889</td>\n",
       "      <td>-</td>\n",
       "      <td>+</td>\n",
       "      <td>20891</td>\n",
       "      <td>21889</td>\n",
       "      <td>25686</td>\n",
       "      <td>25874</td>\n",
       "    </tr>\n",
       "    <tr>\n",
       "      <th>54</th>\n",
       "      <td>2750812.0</td>\n",
       "      <td>Actinomadura graeca</td>\n",
       "      <td>6816518..6816703</td>\n",
       "      <td>6818372..6819367</td>\n",
       "      <td>+</td>\n",
       "      <td>+</td>\n",
       "      <td>6818372</td>\n",
       "      <td>6819367</td>\n",
       "      <td>6816518</td>\n",
       "      <td>6816703</td>\n",
       "    </tr>\n",
       "    <tr>\n",
       "      <th>66</th>\n",
       "      <td>479432.0</td>\n",
       "      <td>Streptosporangium roseum DSM 43021</td>\n",
       "      <td>complement(9178348..9178530)</td>\n",
       "      <td>9172426..9173424</td>\n",
       "      <td>-</td>\n",
       "      <td>+</td>\n",
       "      <td>9172426</td>\n",
       "      <td>9173424</td>\n",
       "      <td>9178348</td>\n",
       "      <td>9178530</td>\n",
       "    </tr>\n",
       "    <tr>\n",
       "      <th>73</th>\n",
       "      <td>1048339.0</td>\n",
       "      <td>Sporichthya polymorpha DSM 43042</td>\n",
       "      <td>complement(3521040..3521240)</td>\n",
       "      <td>complement(3525553..3526584)</td>\n",
       "      <td>-</td>\n",
       "      <td>-</td>\n",
       "      <td>3525553</td>\n",
       "      <td>3526584</td>\n",
       "      <td>3521040</td>\n",
       "      <td>3521240</td>\n",
       "    </tr>\n",
       "    <tr>\n",
       "      <th>78</th>\n",
       "      <td>NaN</td>\n",
       "      <td>Pseudonocardia sp. MAG106</td>\n",
       "      <td>NaN</td>\n",
       "      <td>4969..6159</td>\n",
       "      <td>+</td>\n",
       "      <td>+</td>\n",
       "      <td>4969</td>\n",
       "      <td>6159</td>\n",
       "      <td>0</td>\n",
       "      <td>0</td>\n",
       "    </tr>\n",
       "  </tbody>\n",
       "</table>\n",
       "</div>"
      ],
      "text/plain": [
       "       staxid                            ssciname  \\\n",
       "20     1993.0                Actinomadura madurae   \n",
       "26  2576905.0                  Microbispora fusca   \n",
       "27  2508997.0                   Actinomadura soli   \n",
       "31  2604572.0          Actinomadura decatromicini   \n",
       "49    83302.0              Microbispora corallina   \n",
       "54  2750812.0                 Actinomadura graeca   \n",
       "66   479432.0  Streptosporangium roseum DSM 43021   \n",
       "73  1048339.0    Sporichthya polymorpha DSM 43042   \n",
       "78        NaN           Pseudonocardia sp. MAG106   \n",
       "\n",
       "                     bsap_coords                   biob_coords bsap_strand  \\\n",
       "20    complement(291258..291440)    complement(286905..287900)           -   \n",
       "26                  45899..46081      complement(49746..50744)           +   \n",
       "27          complement(683..799)      complement(10066..11061)           -   \n",
       "31    complement(118932..119147)    complement(115636..116631)           -   \n",
       "49      complement(25686..25874)                  20891..21889           -   \n",
       "54              6816518..6816703              6818372..6819367           +   \n",
       "66  complement(9178348..9178530)              9172426..9173424           -   \n",
       "73  complement(3521040..3521240)  complement(3525553..3526584)           -   \n",
       "78                           NaN                    4969..6159           +   \n",
       "\n",
       "   biob_strand  biob_start  biob_end  bsap_start  bsap_end  \n",
       "20           -      286905    287900      291258    291440  \n",
       "26           -       49746     50744       45899     46081  \n",
       "27           -       10066     11061         683       799  \n",
       "31           -      115636    116631      118932    119147  \n",
       "49           +       20891     21889       25686     25874  \n",
       "54           +     6818372   6819367     6816518   6816703  \n",
       "66           +     9172426   9173424     9178348   9178530  \n",
       "73           -     3525553   3526584     3521040   3521240  \n",
       "78           +        4969      6159           0         0  "
      ]
     },
     "execution_count": 429,
     "metadata": {},
     "output_type": "execute_result"
    }
   ],
   "source": [
    "coords[coords.apply(get_proximity, axis=1) > 1000]"
   ]
  },
  {
   "cell_type": "code",
   "execution_count": null,
   "id": "4f0c327e",
   "metadata": {},
   "outputs": [],
   "source": []
  },
  {
   "cell_type": "code",
   "execution_count": 430,
   "id": "93c8a87f",
   "metadata": {},
   "outputs": [],
   "source": [
    "def get_relative_coords(row):\n",
    "\n",
    "    if row['bsap_start'] < row['biob_start']:\n",
    "        bsap_relative_start = row['bsap_start'] - row['bsap_start']\n",
    "        bsap_relative_end = row['bsap_end'] - row['bsap_start']\n",
    "\n",
    "        biob_relative_start = row['biob_start'] - row['bsap_start']\n",
    "        biob_relative_end = row['biob_end'] - row['bsap_start']\n",
    "\n",
    "    else:\n",
    "        bsap_relative_start = row['bsap_start'] - row['biob_start']\n",
    "        bsap_relative_end = row['bsap_end'] - row['biob_start']\n",
    "\n",
    "        biob_relative_start = row['biob_start'] - row['biob_start']\n",
    "        biob_relative_end = row['biob_end'] - row['biob_start']\n",
    "\n",
    "    return (bsap_relative_start, bsap_relative_end, row['bsap_strand']), (biob_relative_start, biob_relative_end, row['biob_strand'])"
   ]
  },
  {
   "cell_type": "code",
   "execution_count": 431,
   "id": "5dc33f14",
   "metadata": {},
   "outputs": [],
   "source": [
    "coords[['bsap_relative_coords', 'biob_relative_coords']] = pd.DataFrame(coords.apply(get_relative_coords, axis=1).tolist())"
   ]
  },
  {
   "cell_type": "code",
   "execution_count": 11,
   "id": "d45dac3e",
   "metadata": {},
   "outputs": [],
   "source": [
    "beda = coords[['staxid', 'ssciname']].merge(pd.DataFrame(coords[['bsap_relative_coords', 'biob_relative_coords']].stack(), columns=['coords']).reset_index().set_index('level_0'),\n",
    "                                     how='outer', left_index=True, right_index=True).reset_index(drop=True)"
   ]
  },
  {
   "cell_type": "code",
   "execution_count": 12,
   "id": "05ba3820",
   "metadata": {},
   "outputs": [],
   "source": [
    "beda.columns = ['taxid', 'name', 'gene', 'coords']\n",
    "beda['gene'] = beda['gene'].str.split(\"_\", expand=True)[0]"
   ]
  },
  {
   "cell_type": "code",
   "execution_count": 13,
   "id": "41b3da2a",
   "metadata": {},
   "outputs": [],
   "source": [
    "beda[['start', 'end', 'strand']] = pd.DataFrame(beda['coords'].tolist())"
   ]
  },
  {
   "cell_type": "code",
   "execution_count": 14,
   "id": "a33e842e",
   "metadata": {},
   "outputs": [
    {
     "data": {
      "text/html": [
       "<div>\n",
       "<style scoped>\n",
       "    .dataframe tbody tr th:only-of-type {\n",
       "        vertical-align: middle;\n",
       "    }\n",
       "\n",
       "    .dataframe tbody tr th {\n",
       "        vertical-align: top;\n",
       "    }\n",
       "\n",
       "    .dataframe thead th {\n",
       "        text-align: right;\n",
       "    }\n",
       "</style>\n",
       "<table border=\"1\" class=\"dataframe\">\n",
       "  <thead>\n",
       "    <tr style=\"text-align: right;\">\n",
       "      <th></th>\n",
       "      <th>taxid</th>\n",
       "      <th>name</th>\n",
       "      <th>gene</th>\n",
       "      <th>coords</th>\n",
       "      <th>start</th>\n",
       "      <th>end</th>\n",
       "      <th>strand</th>\n",
       "    </tr>\n",
       "  </thead>\n",
       "  <tbody>\n",
       "    <tr>\n",
       "      <th>0</th>\n",
       "      <td>1220553.0</td>\n",
       "      <td>Nocardia flavorosea NBRC 108225</td>\n",
       "      <td>bsap</td>\n",
       "      <td>(1061, 1288, +)</td>\n",
       "      <td>1061</td>\n",
       "      <td>1288</td>\n",
       "      <td>+</td>\n",
       "    </tr>\n",
       "    <tr>\n",
       "      <th>1</th>\n",
       "      <td>1220553.0</td>\n",
       "      <td>Nocardia flavorosea NBRC 108225</td>\n",
       "      <td>biob</td>\n",
       "      <td>(0, 1028, +)</td>\n",
       "      <td>0</td>\n",
       "      <td>1028</td>\n",
       "      <td>+</td>\n",
       "    </tr>\n",
       "    <tr>\n",
       "      <th>2</th>\n",
       "      <td>1210074.0</td>\n",
       "      <td>Nocardia harenae NBRC 108248</td>\n",
       "      <td>bsap</td>\n",
       "      <td>(1049, 1258, +)</td>\n",
       "      <td>1049</td>\n",
       "      <td>1258</td>\n",
       "      <td>+</td>\n",
       "    </tr>\n",
       "    <tr>\n",
       "      <th>3</th>\n",
       "      <td>1210074.0</td>\n",
       "      <td>Nocardia harenae NBRC 108248</td>\n",
       "      <td>biob</td>\n",
       "      <td>(0, 1013, +)</td>\n",
       "      <td>0</td>\n",
       "      <td>1013</td>\n",
       "      <td>+</td>\n",
       "    </tr>\n",
       "    <tr>\n",
       "      <th>4</th>\n",
       "      <td>1219029.0</td>\n",
       "      <td>Rhodococcus yunnanensis NBRC 103083</td>\n",
       "      <td>bsap</td>\n",
       "      <td>(1018, 1233, +)</td>\n",
       "      <td>1018</td>\n",
       "      <td>1233</td>\n",
       "      <td>+</td>\n",
       "    </tr>\n",
       "    <tr>\n",
       "      <th>...</th>\n",
       "      <td>...</td>\n",
       "      <td>...</td>\n",
       "      <td>...</td>\n",
       "      <td>...</td>\n",
       "      <td>...</td>\n",
       "      <td>...</td>\n",
       "      <td>...</td>\n",
       "    </tr>\n",
       "    <tr>\n",
       "      <th>153</th>\n",
       "      <td>1562887.0</td>\n",
       "      <td>Frankia coriariae</td>\n",
       "      <td>biob</td>\n",
       "      <td>(0, 959, +)</td>\n",
       "      <td>0</td>\n",
       "      <td>959</td>\n",
       "      <td>+</td>\n",
       "    </tr>\n",
       "    <tr>\n",
       "      <th>154</th>\n",
       "      <td>NaN</td>\n",
       "      <td>Mycobacterium tuberculosis H37Rv</td>\n",
       "      <td>bsap</td>\n",
       "      <td>(1050, 1289, +)</td>\n",
       "      <td>1050</td>\n",
       "      <td>1289</td>\n",
       "      <td>+</td>\n",
       "    </tr>\n",
       "    <tr>\n",
       "      <th>155</th>\n",
       "      <td>NaN</td>\n",
       "      <td>Mycobacterium tuberculosis H37Rv</td>\n",
       "      <td>biob</td>\n",
       "      <td>(0, 1049, +)</td>\n",
       "      <td>0</td>\n",
       "      <td>1049</td>\n",
       "      <td>+</td>\n",
       "    </tr>\n",
       "    <tr>\n",
       "      <th>156</th>\n",
       "      <td>NaN</td>\n",
       "      <td>Pseudonocardia sp. MAG106</td>\n",
       "      <td>bsap</td>\n",
       "      <td>(0, 0, +)</td>\n",
       "      <td>0</td>\n",
       "      <td>0</td>\n",
       "      <td>+</td>\n",
       "    </tr>\n",
       "    <tr>\n",
       "      <th>157</th>\n",
       "      <td>NaN</td>\n",
       "      <td>Pseudonocardia sp. MAG106</td>\n",
       "      <td>biob</td>\n",
       "      <td>(4969, 6159, +)</td>\n",
       "      <td>4969</td>\n",
       "      <td>6159</td>\n",
       "      <td>+</td>\n",
       "    </tr>\n",
       "  </tbody>\n",
       "</table>\n",
       "<p>158 rows × 7 columns</p>\n",
       "</div>"
      ],
      "text/plain": [
       "         taxid                                 name  gene           coords  \\\n",
       "0    1220553.0      Nocardia flavorosea NBRC 108225  bsap  (1061, 1288, +)   \n",
       "1    1220553.0      Nocardia flavorosea NBRC 108225  biob     (0, 1028, +)   \n",
       "2    1210074.0         Nocardia harenae NBRC 108248  bsap  (1049, 1258, +)   \n",
       "3    1210074.0         Nocardia harenae NBRC 108248  biob     (0, 1013, +)   \n",
       "4    1219029.0  Rhodococcus yunnanensis NBRC 103083  bsap  (1018, 1233, +)   \n",
       "..         ...                                  ...   ...              ...   \n",
       "153  1562887.0                    Frankia coriariae  biob      (0, 959, +)   \n",
       "154        NaN     Mycobacterium tuberculosis H37Rv  bsap  (1050, 1289, +)   \n",
       "155        NaN     Mycobacterium tuberculosis H37Rv  biob     (0, 1049, +)   \n",
       "156        NaN            Pseudonocardia sp. MAG106  bsap        (0, 0, +)   \n",
       "157        NaN            Pseudonocardia sp. MAG106  biob  (4969, 6159, +)   \n",
       "\n",
       "     start   end strand  \n",
       "0     1061  1288      +  \n",
       "1        0  1028      +  \n",
       "2     1049  1258      +  \n",
       "3        0  1013      +  \n",
       "4     1018  1233      +  \n",
       "..     ...   ...    ...  \n",
       "153      0   959      +  \n",
       "154   1050  1289      +  \n",
       "155      0  1049      +  \n",
       "156      0     0      +  \n",
       "157   4969  6159      +  \n",
       "\n",
       "[158 rows x 7 columns]"
      ]
     },
     "execution_count": 14,
     "metadata": {},
     "output_type": "execute_result"
    }
   ],
   "source": [
    "beda"
   ]
  },
  {
   "cell_type": "code",
   "execution_count": 17,
   "id": "c8cbedd5",
   "metadata": {},
   "outputs": [],
   "source": [
    "species = pd.read_csv(\"final_nt_workflow/bsap_nt_subset50_rooted_species_order.txt\").columns.str.replace(\"_\", \" \").tolist()"
   ]
  },
  {
   "cell_type": "code",
   "execution_count": 21,
   "id": "f987e8b0",
   "metadata": {},
   "outputs": [],
   "source": [
    "pd.Series(species).to_csv(\"final_nt_workflow/bsap_nt_subset50_rooted_species_order.csv\", index=False)"
   ]
  },
  {
   "cell_type": "code",
   "execution_count": 145,
   "id": "62f143e6",
   "metadata": {},
   "outputs": [],
   "source": [
    "beda = beda[beda['name'].isin(species)].reset_index(drop=True).drop(columns=['coords'])"
   ]
  },
  {
   "cell_type": "code",
   "execution_count": 146,
   "id": "beb54c08",
   "metadata": {},
   "outputs": [],
   "source": [
    "beda['score'] = beda['gene'].apply(lambda x: 0 if x == 'bsap' else 500)\n",
    "beda['chr'] = '0'"
   ]
  },
  {
   "cell_type": "code",
   "execution_count": 4,
   "id": "a6c1700a",
   "metadata": {},
   "outputs": [],
   "source": [
    "bed"
   ]
  },
  {
   "cell_type": "code",
   "execution_count": 152,
   "id": "8caed94a",
   "metadata": {},
   "outputs": [],
   "source": [
    "beda[['name', 'start', 'end', 'gene', 'score', 'strand']].to_csv(\"final_nt_workflow/subset50_gene_orientation3.bed\", index=False, sep=\"\\t\")"
   ]
  },
  {
   "cell_type": "code",
   "execution_count": 163,
   "id": "523cad46",
   "metadata": {},
   "outputs": [],
   "source": [
    "names = beda['name'].unique().tolist()"
   ]
  },
  {
   "cell_type": "code",
   "execution_count": 178,
   "id": "602078f3",
   "metadata": {},
   "outputs": [
    {
     "data": {
      "text/html": [
       "<div>\n",
       "<style scoped>\n",
       "    .dataframe tbody tr th:only-of-type {\n",
       "        vertical-align: middle;\n",
       "    }\n",
       "\n",
       "    .dataframe tbody tr th {\n",
       "        vertical-align: top;\n",
       "    }\n",
       "\n",
       "    .dataframe thead th {\n",
       "        text-align: right;\n",
       "    }\n",
       "</style>\n",
       "<table border=\"1\" class=\"dataframe\">\n",
       "  <thead>\n",
       "    <tr style=\"text-align: right;\">\n",
       "      <th></th>\n",
       "      <th>taxid</th>\n",
       "      <th>name</th>\n",
       "      <th>gene</th>\n",
       "      <th>start</th>\n",
       "      <th>end</th>\n",
       "      <th>strand</th>\n",
       "      <th>score</th>\n",
       "      <th>chr</th>\n",
       "    </tr>\n",
       "  </thead>\n",
       "  <tbody>\n",
       "    <tr>\n",
       "      <th>98</th>\n",
       "      <td>NaN</td>\n",
       "      <td>Pseudonocardia sp. MAG106</td>\n",
       "      <td>bsap</td>\n",
       "      <td>0</td>\n",
       "      <td>0</td>\n",
       "      <td>+</td>\n",
       "      <td>0</td>\n",
       "      <td>0</td>\n",
       "    </tr>\n",
       "    <tr>\n",
       "      <th>99</th>\n",
       "      <td>NaN</td>\n",
       "      <td>Pseudonocardia sp. MAG106</td>\n",
       "      <td>biob</td>\n",
       "      <td>4969</td>\n",
       "      <td>6159</td>\n",
       "      <td>+</td>\n",
       "      <td>500</td>\n",
       "      <td>0</td>\n",
       "    </tr>\n",
       "  </tbody>\n",
       "</table>\n",
       "</div>"
      ],
      "text/plain": [
       "    taxid                       name  gene  start   end strand  score chr\n",
       "98    NaN  Pseudonocardia sp. MAG106  bsap      0     0      +      0   0\n",
       "99    NaN  Pseudonocardia sp. MAG106  biob   4969  6159      +    500   0"
      ]
     },
     "execution_count": 178,
     "metadata": {},
     "output_type": "execute_result"
    }
   ],
   "source": [
    "beda[beda['name'] == name]"
   ]
  },
  {
   "cell_type": "code",
   "execution_count": 179,
   "id": "815a3388",
   "metadata": {},
   "outputs": [],
   "source": [
    "for i in range(len(names)):\n",
    "    name = names[i]\n",
    "    bed = beda[beda['name'] == name].copy()\n",
    "    \n",
    "    bed[['chr', 'start', 'end', 'name', 'score', 'strand']].to_csv(\"final_nt_workflow/bed_files/org{}.bed\".format(str(i)),\n",
    "                                                                   index=False, header=False, sep=\"\\t\")\n",
    "    "
   ]
  },
  {
   "cell_type": "code",
   "execution_count": 182,
   "id": "8f7eb905",
   "metadata": {},
   "outputs": [
    {
     "data": {
      "text/html": [
       "<div>\n",
       "<style scoped>\n",
       "    .dataframe tbody tr th:only-of-type {\n",
       "        vertical-align: middle;\n",
       "    }\n",
       "\n",
       "    .dataframe tbody tr th {\n",
       "        vertical-align: top;\n",
       "    }\n",
       "\n",
       "    .dataframe thead th {\n",
       "        text-align: right;\n",
       "    }\n",
       "</style>\n",
       "<table border=\"1\" class=\"dataframe\">\n",
       "  <thead>\n",
       "    <tr style=\"text-align: right;\">\n",
       "      <th></th>\n",
       "      <th>taxid</th>\n",
       "      <th>name</th>\n",
       "      <th>gene</th>\n",
       "      <th>start</th>\n",
       "      <th>end</th>\n",
       "      <th>strand</th>\n",
       "      <th>score</th>\n",
       "      <th>chr</th>\n",
       "    </tr>\n",
       "  </thead>\n",
       "  <tbody>\n",
       "    <tr>\n",
       "      <th>48</th>\n",
       "      <td>885042.0</td>\n",
       "      <td>Williamsia phyllosphaerae</td>\n",
       "      <td>bsap</td>\n",
       "      <td>1048</td>\n",
       "      <td>1341</td>\n",
       "      <td>+</td>\n",
       "      <td>0</td>\n",
       "      <td>0</td>\n",
       "    </tr>\n",
       "    <tr>\n",
       "      <th>49</th>\n",
       "      <td>885042.0</td>\n",
       "      <td>Williamsia phyllosphaerae</td>\n",
       "      <td>biob</td>\n",
       "      <td>0</td>\n",
       "      <td>1043</td>\n",
       "      <td>+</td>\n",
       "      <td>500</td>\n",
       "      <td>0</td>\n",
       "    </tr>\n",
       "    <tr>\n",
       "      <th>72</th>\n",
       "      <td>391736.0</td>\n",
       "      <td>Williamsia serinedens</td>\n",
       "      <td>bsap</td>\n",
       "      <td>0</td>\n",
       "      <td>257</td>\n",
       "      <td>-</td>\n",
       "      <td>0</td>\n",
       "      <td>0</td>\n",
       "    </tr>\n",
       "    <tr>\n",
       "      <th>73</th>\n",
       "      <td>391736.0</td>\n",
       "      <td>Williamsia serinedens</td>\n",
       "      <td>biob</td>\n",
       "      <td>264</td>\n",
       "      <td>1310</td>\n",
       "      <td>-</td>\n",
       "      <td>500</td>\n",
       "      <td>0</td>\n",
       "    </tr>\n",
       "  </tbody>\n",
       "</table>\n",
       "</div>"
      ],
      "text/plain": [
       "       taxid                       name  gene  start   end strand  score chr\n",
       "48  885042.0  Williamsia phyllosphaerae  bsap   1048  1341      +      0   0\n",
       "49  885042.0  Williamsia phyllosphaerae  biob      0  1043      +    500   0\n",
       "72  391736.0      Williamsia serinedens  bsap      0   257      -      0   0\n",
       "73  391736.0      Williamsia serinedens  biob    264  1310      -    500   0"
      ]
     },
     "execution_count": 182,
     "metadata": {},
     "output_type": "execute_result"
    }
   ],
   "source": [
    "beda[beda['name'].str.contains(\"William\")]"
   ]
  },
  {
   "cell_type": "code",
   "execution_count": 180,
   "id": "8d358ff2",
   "metadata": {},
   "outputs": [
    {
     "data": {
      "text/plain": [
       "1190"
      ]
     },
     "execution_count": 180,
     "metadata": {},
     "output_type": "execute_result"
    }
   ],
   "source": [
    "6159 - 4969"
   ]
  },
  {
   "cell_type": "code",
   "execution_count": 158,
   "id": "16cbb293",
   "metadata": {},
   "outputs": [
    {
     "data": {
      "text/html": [
       "<div>\n",
       "<style scoped>\n",
       "    .dataframe tbody tr th:only-of-type {\n",
       "        vertical-align: middle;\n",
       "    }\n",
       "\n",
       "    .dataframe tbody tr th {\n",
       "        vertical-align: top;\n",
       "    }\n",
       "\n",
       "    .dataframe thead th {\n",
       "        text-align: right;\n",
       "    }\n",
       "</style>\n",
       "<table border=\"1\" class=\"dataframe\">\n",
       "  <thead>\n",
       "    <tr style=\"text-align: right;\">\n",
       "      <th></th>\n",
       "      <th>chr</th>\n",
       "      <th>start</th>\n",
       "      <th>end</th>\n",
       "      <th>name</th>\n",
       "      <th>score</th>\n",
       "      <th>strand</th>\n",
       "    </tr>\n",
       "  </thead>\n",
       "  <tbody>\n",
       "    <tr>\n",
       "      <th>0</th>\n",
       "      <td>0</td>\n",
       "      <td>1018</td>\n",
       "      <td>1233</td>\n",
       "      <td>Rhodococcus yunnanensis NBRC 103083</td>\n",
       "      <td>0</td>\n",
       "      <td>+</td>\n",
       "    </tr>\n",
       "    <tr>\n",
       "      <th>1</th>\n",
       "      <td>0</td>\n",
       "      <td>0</td>\n",
       "      <td>1007</td>\n",
       "      <td>Rhodococcus yunnanensis NBRC 103083</td>\n",
       "      <td>500</td>\n",
       "      <td>+</td>\n",
       "    </tr>\n",
       "    <tr>\n",
       "      <th>2</th>\n",
       "      <td>0</td>\n",
       "      <td>0</td>\n",
       "      <td>203</td>\n",
       "      <td>Actinophytocola xinjiangensis</td>\n",
       "      <td>0</td>\n",
       "      <td>-</td>\n",
       "    </tr>\n",
       "    <tr>\n",
       "      <th>3</th>\n",
       "      <td>0</td>\n",
       "      <td>205</td>\n",
       "      <td>1254</td>\n",
       "      <td>Actinophytocola xinjiangensis</td>\n",
       "      <td>500</td>\n",
       "      <td>-</td>\n",
       "    </tr>\n",
       "    <tr>\n",
       "      <th>4</th>\n",
       "      <td>0</td>\n",
       "      <td>0</td>\n",
       "      <td>293</td>\n",
       "      <td>Corynebacterium sphenisci DSM 44792</td>\n",
       "      <td>0</td>\n",
       "      <td>-</td>\n",
       "    </tr>\n",
       "    <tr>\n",
       "      <th>...</th>\n",
       "      <td>...</td>\n",
       "      <td>...</td>\n",
       "      <td>...</td>\n",
       "      <td>...</td>\n",
       "      <td>...</td>\n",
       "      <td>...</td>\n",
       "    </tr>\n",
       "    <tr>\n",
       "      <th>95</th>\n",
       "      <td>0</td>\n",
       "      <td>0</td>\n",
       "      <td>959</td>\n",
       "      <td>Frankia coriariae</td>\n",
       "      <td>500</td>\n",
       "      <td>+</td>\n",
       "    </tr>\n",
       "    <tr>\n",
       "      <th>96</th>\n",
       "      <td>0</td>\n",
       "      <td>1050</td>\n",
       "      <td>1289</td>\n",
       "      <td>Mycobacterium tuberculosis H37Rv</td>\n",
       "      <td>0</td>\n",
       "      <td>+</td>\n",
       "    </tr>\n",
       "    <tr>\n",
       "      <th>97</th>\n",
       "      <td>0</td>\n",
       "      <td>0</td>\n",
       "      <td>1049</td>\n",
       "      <td>Mycobacterium tuberculosis H37Rv</td>\n",
       "      <td>500</td>\n",
       "      <td>+</td>\n",
       "    </tr>\n",
       "    <tr>\n",
       "      <th>98</th>\n",
       "      <td>0</td>\n",
       "      <td>0</td>\n",
       "      <td>0</td>\n",
       "      <td>Pseudonocardia sp. MAG106</td>\n",
       "      <td>0</td>\n",
       "      <td>+</td>\n",
       "    </tr>\n",
       "    <tr>\n",
       "      <th>99</th>\n",
       "      <td>0</td>\n",
       "      <td>4969</td>\n",
       "      <td>6159</td>\n",
       "      <td>Pseudonocardia sp. MAG106</td>\n",
       "      <td>500</td>\n",
       "      <td>+</td>\n",
       "    </tr>\n",
       "  </tbody>\n",
       "</table>\n",
       "<p>100 rows × 6 columns</p>\n",
       "</div>"
      ],
      "text/plain": [
       "   chr  start   end                                 name  score strand\n",
       "0    0   1018  1233  Rhodococcus yunnanensis NBRC 103083      0      +\n",
       "1    0      0  1007  Rhodococcus yunnanensis NBRC 103083    500      +\n",
       "2    0      0   203        Actinophytocola xinjiangensis      0      -\n",
       "3    0    205  1254        Actinophytocola xinjiangensis    500      -\n",
       "4    0      0   293  Corynebacterium sphenisci DSM 44792      0      -\n",
       "..  ..    ...   ...                                  ...    ...    ...\n",
       "95   0      0   959                    Frankia coriariae    500      +\n",
       "96   0   1050  1289     Mycobacterium tuberculosis H37Rv      0      +\n",
       "97   0      0  1049     Mycobacterium tuberculosis H37Rv    500      +\n",
       "98   0      0     0            Pseudonocardia sp. MAG106      0      +\n",
       "99   0   4969  6159            Pseudonocardia sp. MAG106    500      +\n",
       "\n",
       "[100 rows x 6 columns]"
      ]
     },
     "execution_count": 158,
     "metadata": {},
     "output_type": "execute_result"
    }
   ],
   "source": [
    "beda[['chr', 'start', 'end', 'name', 'score', 'strand']]"
   ]
  },
  {
   "cell_type": "code",
   "execution_count": 150,
   "id": "2aa0cf3d",
   "metadata": {},
   "outputs": [
    {
     "data": {
      "text/plain": [
       "9383"
      ]
     },
     "execution_count": 150,
     "metadata": {},
     "output_type": "execute_result"
    }
   ],
   "source": [
    "beda['start'].max()"
   ]
  },
  {
   "cell_type": "code",
   "execution_count": 151,
   "id": "428e0ad5",
   "metadata": {},
   "outputs": [
    {
     "data": {
      "text/plain": [
       "10378"
      ]
     },
     "execution_count": 151,
     "metadata": {},
     "output_type": "execute_result"
    }
   ],
   "source": [
    "beda['end'].max()"
   ]
  },
  {
   "cell_type": "code",
   "execution_count": null,
   "id": "3698a3a7",
   "metadata": {},
   "outputs": [],
   "source": [
    "beda[beda['']]"
   ]
  },
  {
   "cell_type": "code",
   "execution_count": 156,
   "id": "23bae81a",
   "metadata": {},
   "outputs": [
    {
     "data": {
      "text/html": [
       "<div>\n",
       "<style scoped>\n",
       "    .dataframe tbody tr th:only-of-type {\n",
       "        vertical-align: middle;\n",
       "    }\n",
       "\n",
       "    .dataframe tbody tr th {\n",
       "        vertical-align: top;\n",
       "    }\n",
       "\n",
       "    .dataframe thead th {\n",
       "        text-align: right;\n",
       "    }\n",
       "</style>\n",
       "<table border=\"1\" class=\"dataframe\">\n",
       "  <thead>\n",
       "    <tr style=\"text-align: right;\">\n",
       "      <th></th>\n",
       "      <th>taxid</th>\n",
       "      <th>name</th>\n",
       "      <th>gene</th>\n",
       "      <th>start</th>\n",
       "      <th>end</th>\n",
       "      <th>strand</th>\n",
       "      <th>score</th>\n",
       "      <th>chr</th>\n",
       "    </tr>\n",
       "  </thead>\n",
       "  <tbody>\n",
       "    <tr>\n",
       "      <th>22</th>\n",
       "      <td>1993.0</td>\n",
       "      <td>Actinomadura madurae</td>\n",
       "      <td>bsap</td>\n",
       "      <td>4353</td>\n",
       "      <td>4535</td>\n",
       "      <td>-</td>\n",
       "      <td>0</td>\n",
       "      <td>0</td>\n",
       "    </tr>\n",
       "    <tr>\n",
       "      <th>23</th>\n",
       "      <td>1993.0</td>\n",
       "      <td>Actinomadura madurae</td>\n",
       "      <td>biob</td>\n",
       "      <td>0</td>\n",
       "      <td>995</td>\n",
       "      <td>-</td>\n",
       "      <td>500</td>\n",
       "      <td>0</td>\n",
       "    </tr>\n",
       "    <tr>\n",
       "      <th>30</th>\n",
       "      <td>2576905.0</td>\n",
       "      <td>Microbispora fusca</td>\n",
       "      <td>bsap</td>\n",
       "      <td>0</td>\n",
       "      <td>182</td>\n",
       "      <td>+</td>\n",
       "      <td>0</td>\n",
       "      <td>0</td>\n",
       "    </tr>\n",
       "    <tr>\n",
       "      <th>31</th>\n",
       "      <td>2576905.0</td>\n",
       "      <td>Microbispora fusca</td>\n",
       "      <td>biob</td>\n",
       "      <td>3847</td>\n",
       "      <td>4845</td>\n",
       "      <td>-</td>\n",
       "      <td>500</td>\n",
       "      <td>0</td>\n",
       "    </tr>\n",
       "    <tr>\n",
       "      <th>32</th>\n",
       "      <td>2508997.0</td>\n",
       "      <td>Actinomadura soli</td>\n",
       "      <td>bsap</td>\n",
       "      <td>0</td>\n",
       "      <td>116</td>\n",
       "      <td>-</td>\n",
       "      <td>0</td>\n",
       "      <td>0</td>\n",
       "    </tr>\n",
       "    <tr>\n",
       "      <th>33</th>\n",
       "      <td>2508997.0</td>\n",
       "      <td>Actinomadura soli</td>\n",
       "      <td>biob</td>\n",
       "      <td>9383</td>\n",
       "      <td>10378</td>\n",
       "      <td>-</td>\n",
       "      <td>500</td>\n",
       "      <td>0</td>\n",
       "    </tr>\n",
       "    <tr>\n",
       "      <th>56</th>\n",
       "      <td>83302.0</td>\n",
       "      <td>Microbispora corallina</td>\n",
       "      <td>bsap</td>\n",
       "      <td>4795</td>\n",
       "      <td>4983</td>\n",
       "      <td>-</td>\n",
       "      <td>0</td>\n",
       "      <td>0</td>\n",
       "    </tr>\n",
       "    <tr>\n",
       "      <th>57</th>\n",
       "      <td>83302.0</td>\n",
       "      <td>Microbispora corallina</td>\n",
       "      <td>biob</td>\n",
       "      <td>0</td>\n",
       "      <td>998</td>\n",
       "      <td>+</td>\n",
       "      <td>500</td>\n",
       "      <td>0</td>\n",
       "    </tr>\n",
       "    <tr>\n",
       "      <th>82</th>\n",
       "      <td>479432.0</td>\n",
       "      <td>Streptosporangium roseum DSM 43021</td>\n",
       "      <td>bsap</td>\n",
       "      <td>5922</td>\n",
       "      <td>6104</td>\n",
       "      <td>-</td>\n",
       "      <td>0</td>\n",
       "      <td>0</td>\n",
       "    </tr>\n",
       "    <tr>\n",
       "      <th>83</th>\n",
       "      <td>479432.0</td>\n",
       "      <td>Streptosporangium roseum DSM 43021</td>\n",
       "      <td>biob</td>\n",
       "      <td>0</td>\n",
       "      <td>998</td>\n",
       "      <td>+</td>\n",
       "      <td>500</td>\n",
       "      <td>0</td>\n",
       "    </tr>\n",
       "    <tr>\n",
       "      <th>90</th>\n",
       "      <td>1048339.0</td>\n",
       "      <td>Sporichthya polymorpha DSM 43042</td>\n",
       "      <td>bsap</td>\n",
       "      <td>0</td>\n",
       "      <td>200</td>\n",
       "      <td>-</td>\n",
       "      <td>0</td>\n",
       "      <td>0</td>\n",
       "    </tr>\n",
       "    <tr>\n",
       "      <th>91</th>\n",
       "      <td>1048339.0</td>\n",
       "      <td>Sporichthya polymorpha DSM 43042</td>\n",
       "      <td>biob</td>\n",
       "      <td>4513</td>\n",
       "      <td>5544</td>\n",
       "      <td>-</td>\n",
       "      <td>500</td>\n",
       "      <td>0</td>\n",
       "    </tr>\n",
       "    <tr>\n",
       "      <th>98</th>\n",
       "      <td>NaN</td>\n",
       "      <td>Pseudonocardia sp. MAG106</td>\n",
       "      <td>bsap</td>\n",
       "      <td>0</td>\n",
       "      <td>0</td>\n",
       "      <td>+</td>\n",
       "      <td>0</td>\n",
       "      <td>0</td>\n",
       "    </tr>\n",
       "    <tr>\n",
       "      <th>99</th>\n",
       "      <td>NaN</td>\n",
       "      <td>Pseudonocardia sp. MAG106</td>\n",
       "      <td>biob</td>\n",
       "      <td>4969</td>\n",
       "      <td>6159</td>\n",
       "      <td>+</td>\n",
       "      <td>500</td>\n",
       "      <td>0</td>\n",
       "    </tr>\n",
       "  </tbody>\n",
       "</table>\n",
       "</div>"
      ],
      "text/plain": [
       "        taxid                                name  gene  start    end strand  \\\n",
       "22     1993.0                Actinomadura madurae  bsap   4353   4535      -   \n",
       "23     1993.0                Actinomadura madurae  biob      0    995      -   \n",
       "30  2576905.0                  Microbispora fusca  bsap      0    182      +   \n",
       "31  2576905.0                  Microbispora fusca  biob   3847   4845      -   \n",
       "32  2508997.0                   Actinomadura soli  bsap      0    116      -   \n",
       "33  2508997.0                   Actinomadura soli  biob   9383  10378      -   \n",
       "56    83302.0              Microbispora corallina  bsap   4795   4983      -   \n",
       "57    83302.0              Microbispora corallina  biob      0    998      +   \n",
       "82   479432.0  Streptosporangium roseum DSM 43021  bsap   5922   6104      -   \n",
       "83   479432.0  Streptosporangium roseum DSM 43021  biob      0    998      +   \n",
       "90  1048339.0    Sporichthya polymorpha DSM 43042  bsap      0    200      -   \n",
       "91  1048339.0    Sporichthya polymorpha DSM 43042  biob   4513   5544      -   \n",
       "98        NaN           Pseudonocardia sp. MAG106  bsap      0      0      +   \n",
       "99        NaN           Pseudonocardia sp. MAG106  biob   4969   6159      +   \n",
       "\n",
       "    score chr  \n",
       "22      0   0  \n",
       "23    500   0  \n",
       "30      0   0  \n",
       "31    500   0  \n",
       "32      0   0  \n",
       "33    500   0  \n",
       "56      0   0  \n",
       "57    500   0  \n",
       "82      0   0  \n",
       "83    500   0  \n",
       "90      0   0  \n",
       "91    500   0  \n",
       "98      0   0  \n",
       "99    500   0  "
      ]
     },
     "execution_count": 156,
     "metadata": {},
     "output_type": "execute_result"
    }
   ],
   "source": [
    "beda[beda['name'].isin(beda[beda['start'] > 2000]['name'].tolist())]"
   ]
  },
  {
   "cell_type": "code",
   "execution_count": null,
   "id": "6a56c909",
   "metadata": {},
   "outputs": [],
   "source": [
    "\n",
    "    chrom - The name of the chromosome (e.g. chr3, chrY, chr2_random) or scaffold (e.g. scaffold10671).\n",
    "    chromStart - The starting position of the feature in the chromosome or scaffold. The first base in a chromosome is numbered 0.\n",
    "    chromEnd - The ending position of the feature in the chromosome or scaffold. The chromEnd base is not included in the display of the feature, however, the number in position format will be represented. For example, the first 100 bases of chromosome 1 are defined as chrom=1, chromStart=0, chromEnd=100, and span the bases numbered 0-99 in our software (not 0-100), but will represent the position notation chr1:1-100. Read more here.\n",
    "    name - Defines the name of the BED line. This label is displayed to the left of the BED line in the Genome Browser window when the track is open to full display mode or directly to the left of the item in pack mode.\n",
    "    score - A score between 0 and 1000. If the track line useScore attribute is set to 1 for this annotation data set, the score value will determine the level of gray in which this feature is displayed (higher numbers = darker gray). This table shows the Genome Browser's translation of BED score values into shades of gray:\n",
    "    strand"
   ]
  },
  {
   "cell_type": "code",
   "execution_count": null,
   "id": "38fdfb9b",
   "metadata": {},
   "outputs": [],
   "source": []
  },
  {
   "cell_type": "code",
   "execution_count": null,
   "id": "9d1238a4",
   "metadata": {},
   "outputs": [],
   "source": []
  },
  {
   "cell_type": "code",
   "execution_count": null,
   "id": "1939bea0",
   "metadata": {},
   "outputs": [],
   "source": []
  },
  {
   "cell_type": "code",
   "execution_count": null,
   "id": "8a1cbc83",
   "metadata": {},
   "outputs": [],
   "source": []
  },
  {
   "cell_type": "markdown",
   "id": "fd6e0e41",
   "metadata": {},
   "source": [
    "### Write tracks file to call in all 50 bed files"
   ]
  },
  {
   "cell_type": "code",
   "execution_count": 171,
   "id": "dbf4a5c4",
   "metadata": {},
   "outputs": [],
   "source": [
    "def get_sample_lines(n, name):\n",
    "    \n",
    "    sample_lines = [\n",
    "        \"[bed {}]\".format(n+1),\n",
    "        \"file = bed_files/org{}.bed\".format(n),\n",
    "        \"height = 2\",\n",
    "        \"title = {}\".format(name),\n",
    "        \"fontsize = 7\",\n",
    "        \"file_type = bed\",\n",
    "        \"color = Reds\",\n",
    "        \"border_color = black\",\n",
    "        \"gene_rows = 1\"]\n",
    "    \n",
    "    return sample_lines\n"
   ]
  },
  {
   "cell_type": "code",
   "execution_count": 172,
   "id": "4c63a7ac",
   "metadata": {},
   "outputs": [
    {
     "data": {
      "text/plain": [
       "['Rhodococcus yunnanensis NBRC 103083',\n",
       " 'Actinophytocola xinjiangensis',\n",
       " 'Corynebacterium sphenisci DSM 44792',\n",
       " 'Corynebacterium aquilae DSM 44791',\n",
       " 'Mycolicibacterium iranicum']"
      ]
     },
     "execution_count": 172,
     "metadata": {},
     "output_type": "execute_result"
    }
   ],
   "source": [
    "names[:5]"
   ]
  },
  {
   "cell_type": "code",
   "execution_count": 174,
   "id": "5bdf6cc1",
   "metadata": {},
   "outputs": [],
   "source": [
    "\n",
    "def write_track_ini_file(names, track_filename):\n",
    "    header_lines = [\n",
    "        \"[x-axis]\",\n",
    "        \"fontsize = 15\",\n",
    "        \"where = top\",\n",
    "        \"[spacer]\",\n",
    "        \"height = 0.5\"]\n",
    "\n",
    "\n",
    "    ## write lines to track.ini file\n",
    "    with open(track_filename, 'w') as f:\n",
    "        for line in header_lines:\n",
    "            f.write(line)\n",
    "            f.write(\"\\n\")\n",
    "\n",
    "        for i in range(len(names)):\n",
    "\n",
    "            name = names[i]\n",
    "            sample_lines = get_sample_lines(i, name)\n",
    "\n",
    "            for line in sample_lines:\n",
    "                f.write(line)\n",
    "                f.write('\\n')\n",
    "\n",
    "    return"
   ]
  },
  {
   "cell_type": "code",
   "execution_count": 175,
   "id": "d16c6997",
   "metadata": {},
   "outputs": [],
   "source": [
    "write_track_ini_file(names, \"gene_orientation_track3.ini\")"
   ]
  },
  {
   "cell_type": "code",
   "execution_count": null,
   "id": "e2ab3aed",
   "metadata": {},
   "outputs": [],
   "source": []
  },
  {
   "cell_type": "code",
   "execution_count": null,
   "id": "f7845635",
   "metadata": {},
   "outputs": [],
   "source": []
  },
  {
   "cell_type": "markdown",
   "id": "918cde2c",
   "metadata": {},
   "source": [
    "## Set up dataframe for gggenes"
   ]
  },
  {
   "cell_type": "code",
   "execution_count": 432,
   "id": "ab0c1cff",
   "metadata": {},
   "outputs": [],
   "source": [
    "coords = pd.read_csv(\"final_nt_workflow/subset100_bsap_feature_metadata.csv\")\n",
    "# # coords = df[['staxid', 'ssciname', 'bsap_coords', 'biob_coords']]\n",
    "coords = coords[['ssciname', 'bsap_coords', 'biob_coords']]"
   ]
  },
  {
   "cell_type": "code",
   "execution_count": 433,
   "id": "92e2feab",
   "metadata": {},
   "outputs": [],
   "source": [
    "# tree = \"final_nt_workflow/bsap_nt_subset47_consensus_tree.nwk.rooted\"\n",
    "# tree = \"final_nt_workflow/bsap_nt_subset42_consensus.nwk.rooted\"\n",
    "tree = \"final_nt_workflow/bsap_nt_sequences_subset41_consensus_tree.nwk.rooted\"\n",
    "\n",
    "file = open(tree, 'r')\n",
    "nwk = file.readline()\n",
    "file.close()\n",
    "\n",
    "species_order = pd.Series(nwk.split(\",\")).str.rstrip(\"\\n\"\n",
    "    ).str.replace(\"_\", \" \").str.replace(\"(\", \" \").str.replace(\")\", \" \").str.split(\":\", expand=True)[0].str.strip().tolist()"
   ]
  },
  {
   "cell_type": "code",
   "execution_count": 434,
   "id": "3e3fbaa6",
   "metadata": {},
   "outputs": [],
   "source": [
    "coords[['ssciname']] = coords[['ssciname']].replace(\"Pseudonocardia sp. MAG106\", \"Pseudonocardia sp. MAG106*\")\n",
    "coords = coords.set_index('ssciname').loc[species_order]"
   ]
  },
  {
   "cell_type": "code",
   "execution_count": 435,
   "id": "fa91275e",
   "metadata": {},
   "outputs": [],
   "source": [
    "gg = coords.stack().reset_index()\n",
    "gg.columns = ['sciname', 'gene', 'coords']\n",
    "\n",
    "gg[['start', 'end']] = gg['coords'].fillna(\"0..0\").str.strip(\"complement()\").str.split(\"\\.\\.\", expand=True).astype(int)\n",
    "\n",
    "# gg['strand'] = gg['coords'].fillna(\"0\").apply(lambda x: \"-\" if 'complement' in x else '+')\n",
    "gg['strand'] = gg['coords'].fillna(\"0\").apply(lambda x: \"reverse\" if 'complement' in x else 'forward')\n",
    "gg['orientation'] = gg['coords'].fillna(\"0\").apply(lambda x: 0 if 'complement' in x else 1)\n",
    "\n",
    "\n",
    "gg = gg.drop(columns=['coords'])"
   ]
  },
  {
   "cell_type": "code",
   "execution_count": 436,
   "id": "dcc43d86",
   "metadata": {},
   "outputs": [],
   "source": [
    "gg['gene'] = gg['gene'].str.split(\"_\", expand=True)[0]"
   ]
  },
  {
   "cell_type": "code",
   "execution_count": 437,
   "id": "f1027704",
   "metadata": {},
   "outputs": [
    {
     "data": {
      "text/html": [
       "<div>\n",
       "<style scoped>\n",
       "    .dataframe tbody tr th:only-of-type {\n",
       "        vertical-align: middle;\n",
       "    }\n",
       "\n",
       "    .dataframe tbody tr th {\n",
       "        vertical-align: top;\n",
       "    }\n",
       "\n",
       "    .dataframe thead th {\n",
       "        text-align: right;\n",
       "    }\n",
       "</style>\n",
       "<table border=\"1\" class=\"dataframe\">\n",
       "  <thead>\n",
       "    <tr style=\"text-align: right;\">\n",
       "      <th></th>\n",
       "      <th>sciname</th>\n",
       "      <th>gene</th>\n",
       "      <th>start</th>\n",
       "      <th>end</th>\n",
       "      <th>strand</th>\n",
       "      <th>orientation</th>\n",
       "    </tr>\n",
       "  </thead>\n",
       "  <tbody>\n",
       "    <tr>\n",
       "      <th>0</th>\n",
       "      <td>Hoyosella rhizosphaerae</td>\n",
       "      <td>bsap</td>\n",
       "      <td>66301</td>\n",
       "      <td>66636</td>\n",
       "      <td>reverse</td>\n",
       "      <td>0</td>\n",
       "    </tr>\n",
       "    <tr>\n",
       "      <th>1</th>\n",
       "      <td>Hoyosella rhizosphaerae</td>\n",
       "      <td>biob</td>\n",
       "      <td>66647</td>\n",
       "      <td>67690</td>\n",
       "      <td>reverse</td>\n",
       "      <td>0</td>\n",
       "    </tr>\n",
       "    <tr>\n",
       "      <th>2</th>\n",
       "      <td>Hoyosella lacisalsi</td>\n",
       "      <td>bsap</td>\n",
       "      <td>109098</td>\n",
       "      <td>109427</td>\n",
       "      <td>forward</td>\n",
       "      <td>1</td>\n",
       "    </tr>\n",
       "    <tr>\n",
       "      <th>3</th>\n",
       "      <td>Hoyosella lacisalsi</td>\n",
       "      <td>biob</td>\n",
       "      <td>107977</td>\n",
       "      <td>109020</td>\n",
       "      <td>forward</td>\n",
       "      <td>1</td>\n",
       "    </tr>\n",
       "    <tr>\n",
       "      <th>4</th>\n",
       "      <td>Williamsia serinedens</td>\n",
       "      <td>bsap</td>\n",
       "      <td>87161</td>\n",
       "      <td>87418</td>\n",
       "      <td>reverse</td>\n",
       "      <td>0</td>\n",
       "    </tr>\n",
       "  </tbody>\n",
       "</table>\n",
       "</div>"
      ],
      "text/plain": [
       "                   sciname  gene   start     end   strand  orientation\n",
       "0  Hoyosella rhizosphaerae  bsap   66301   66636  reverse            0\n",
       "1  Hoyosella rhizosphaerae  biob   66647   67690  reverse            0\n",
       "2      Hoyosella lacisalsi  bsap  109098  109427  forward            1\n",
       "3      Hoyosella lacisalsi  biob  107977  109020  forward            1\n",
       "4    Williamsia serinedens  bsap   87161   87418  reverse            0"
      ]
     },
     "execution_count": 437,
     "metadata": {},
     "output_type": "execute_result"
    }
   ],
   "source": [
    "gg.head()"
   ]
  },
  {
   "cell_type": "code",
   "execution_count": 438,
   "id": "048002b0",
   "metadata": {},
   "outputs": [],
   "source": [
    "gg.columns = ['molecule', 'gene', 'start', 'end', 'strand', 'orientation']"
   ]
  },
  {
   "cell_type": "code",
   "execution_count": 439,
   "id": "366ffa5b",
   "metadata": {},
   "outputs": [
    {
     "data": {
      "text/plain": [
       "0"
      ]
     },
     "execution_count": 439,
     "metadata": {},
     "output_type": "execute_result"
    }
   ],
   "source": [
    "gg.isna().sum().sum()"
   ]
  },
  {
   "cell_type": "code",
   "execution_count": 440,
   "id": "6ed703d7",
   "metadata": {},
   "outputs": [],
   "source": [
    "gg['gene'] = gg['gene'].replace(\"bsap\", \"BsaP\")\n",
    "gg['gene'] = gg['gene'].replace(\"biob\", \"BioB\")"
   ]
  },
  {
   "cell_type": "code",
   "execution_count": null,
   "id": "f3a5c101",
   "metadata": {},
   "outputs": [],
   "source": []
  },
  {
   "cell_type": "code",
   "execution_count": 441,
   "id": "2a813309",
   "metadata": {},
   "outputs": [],
   "source": [
    "gggene_columns = ['molecule', 'start', 'end', 'strand', 'gene', 'orientation']\n",
    "gg[gggene_columns].to_csv(\"gene_orientation/gggenes_gene_annotation_subset41.csv\", index=False)"
   ]
  },
  {
   "cell_type": "code",
   "execution_count": null,
   "id": "f5dbd9a3",
   "metadata": {},
   "outputs": [],
   "source": []
  },
  {
   "cell_type": "markdown",
   "id": "3d6118a1",
   "metadata": {},
   "source": [
    "### setting up gggenes datafram with relative coordinates:"
   ]
  },
  {
   "cell_type": "code",
   "execution_count": 442,
   "id": "a5f53da5",
   "metadata": {},
   "outputs": [],
   "source": [
    "def get_relative_coords(row):\n",
    "    \n",
    "    # deal with pseudonocardia MAG:\n",
    "    if row.name == \"Pseudonocardia sp. MAG106*\":\n",
    "#         return (1, 1, \"forward\"), (1, 1191, \"forward\")\n",
    "        return (1, 1, \"forward\"), (-595, 595, \"forward\")\n",
    "\n",
    "    \n",
    "        # get bsap strand:\n",
    "    if 'complement' in row.bsap_coords:\n",
    "        bsap_strand = \"reverse\"\n",
    "        \n",
    "    else:\n",
    "        bsap_strand = \"forward\"\n",
    "        \n",
    "    # get biob strand:\n",
    "    if 'complement' in row.biob_coords:\n",
    "        biob_strand = \"reverse\"\n",
    "        \n",
    "    else:\n",
    "        biob_strand = \"forward\"\n",
    "        \n",
    "    # get coordinates:\n",
    "    \n",
    "    bsap_start, bsap_end = [int(i) for i in row.bsap_coords.strip(\"complement()\").split(\"..\")]\n",
    "    biob_start, biob_end = [int(i) for i in row.biob_coords.strip(\"complement()\").split(\"..\")]\n",
    "    \n",
    "    # set all coordinates to center around 0\n",
    "    if bsap_start < biob_start:\n",
    "\n",
    "        span = biob_end - bsap_start\n",
    "\n",
    "        bsap_relative_start = -(span//2)\n",
    "        biob_relative_end = span//2\n",
    "\n",
    "        bsap_relative_end = bsap_relative_start + (bsap_end-bsap_start)\n",
    "        biob_relative_start = biob_relative_end - (biob_end-biob_start)\n",
    "\n",
    "    else: #(biob_start < bsap_start)\n",
    "\n",
    "        span = bsap_end - biob_start\n",
    "\n",
    "        biob_relative_start = -(span//2)\n",
    "        bsap_relative_end = span//2\n",
    "\n",
    "        bsap_relative_start = bsap_relative_end - (bsap_end-bsap_start)\n",
    "        biob_relative_end = biob_relative_start + (biob_end-biob_start)\n",
    "    \n",
    "    if span > 2000:\n",
    "        print(row.name, span)\n",
    "\n",
    "#     print(\"{},\".format(str(span)))\n",
    "        \n",
    "    # edit coordinates with range that's too broad:\n",
    "    \n",
    "    return (bsap_relative_start, bsap_relative_end, bsap_strand), (biob_relative_start, biob_relative_end, biob_strand)\n",
    "\n",
    "    \n",
    "#     # set all coordinates with the first feature starting at coordinate=1\n",
    "#     if bsap_coords[0] > biob_coords[0]: # bsap_start > biob_start\n",
    "        \n",
    "#         bsap_relative_start = bsap_coords[0] - biob_coords[0] + 1\n",
    "#         bsap_relative_end = bsap_coords[1] - biob_coords[0] + 1\n",
    "        \n",
    "#         biob_relative_start = biob_coords[0] - biob_coords[0] + 1\n",
    "#         biob_relative_end = biob_coords[1] - biob_coords[0] + 1\n",
    "        \n",
    "#     else: # biob_start >= bsap_start\n",
    "#         bsap_relative_start = bsap_coords[0] - bsap_coords[0] + 1\n",
    "#         bsap_relative_end = bsap_coords[1] - bsap_coords[0] + 1\n",
    "        \n",
    "#         biob_relative_start = biob_coords[0] - bsap_coords[0] + 1\n",
    "#         biob_relative_end = biob_coords[1] - bsap_coords[0] + 1\n",
    "        \n",
    "#     return (bsap_relative_start, bsap_relative_end, bsap_strand), (biob_relative_start, biob_relative_end, biob_strand)\n",
    "\n"
   ]
  },
  {
   "cell_type": "code",
   "execution_count": null,
   "id": "74e5d35e",
   "metadata": {},
   "outputs": [],
   "source": []
  },
  {
   "cell_type": "code",
   "execution_count": null,
   "id": "99b137d8",
   "metadata": {},
   "outputs": [],
   "source": []
  },
  {
   "cell_type": "code",
   "execution_count": null,
   "id": "7ac354e9",
   "metadata": {},
   "outputs": [],
   "source": []
  },
  {
   "cell_type": "code",
   "execution_count": 443,
   "id": "abcbfdfd",
   "metadata": {},
   "outputs": [],
   "source": [
    "coords[['relative_bsap', 'relative_biob']] = pd.DataFrame(coords.apply(get_relative_coords, axis=1).tolist(), index=coords.index)\n",
    "\n",
    "gg_rel = coords[['relative_bsap', 'relative_biob']].stack().reset_index()\n",
    "\n",
    "gg_rel.columns = ['sciname', 'gene', 'coords']\n",
    "gg_rel['gene'] = gg_rel['gene'].str.split(\"_\", expand=True)[1]\n",
    "gg_rel['gene'] = gg_rel['gene'].replace(\"biob\", \"BioB\").replace(\"bsap\", \"BsaP\")\n",
    "\n",
    "gg_rel[['start', 'end', 'strand']] = pd.DataFrame(gg_rel['coords'].tolist())\n",
    "gg_rel['orientation'] = gg_rel['strand'].apply(lambda x: 0 if x == 'reverse' else 1)\n",
    "\n",
    "gg_rel = gg_rel.drop(columns=['coords'])"
   ]
  },
  {
   "cell_type": "code",
   "execution_count": 444,
   "id": "0e04f356",
   "metadata": {},
   "outputs": [],
   "source": [
    "gggene_columns = ['molecule', 'gene', 'start', 'end', 'strand', 'orientation']\n",
    "gg_rel.columns = gggene_columns\n"
   ]
  },
  {
   "cell_type": "code",
   "execution_count": 445,
   "id": "82785418",
   "metadata": {},
   "outputs": [
    {
     "data": {
      "text/html": [
       "<div>\n",
       "<style scoped>\n",
       "    .dataframe tbody tr th:only-of-type {\n",
       "        vertical-align: middle;\n",
       "    }\n",
       "\n",
       "    .dataframe tbody tr th {\n",
       "        vertical-align: top;\n",
       "    }\n",
       "\n",
       "    .dataframe thead th {\n",
       "        text-align: right;\n",
       "    }\n",
       "</style>\n",
       "<table border=\"1\" class=\"dataframe\">\n",
       "  <thead>\n",
       "    <tr style=\"text-align: right;\">\n",
       "      <th></th>\n",
       "      <th>molecule</th>\n",
       "      <th>gene</th>\n",
       "      <th>start</th>\n",
       "      <th>end</th>\n",
       "      <th>strand</th>\n",
       "      <th>orientation</th>\n",
       "    </tr>\n",
       "  </thead>\n",
       "  <tbody>\n",
       "    <tr>\n",
       "      <th>0</th>\n",
       "      <td>Hoyosella rhizosphaerae</td>\n",
       "      <td>BsaP</td>\n",
       "      <td>-694</td>\n",
       "      <td>-359</td>\n",
       "      <td>reverse</td>\n",
       "      <td>0</td>\n",
       "    </tr>\n",
       "    <tr>\n",
       "      <th>1</th>\n",
       "      <td>Hoyosella rhizosphaerae</td>\n",
       "      <td>BioB</td>\n",
       "      <td>-349</td>\n",
       "      <td>694</td>\n",
       "      <td>reverse</td>\n",
       "      <td>0</td>\n",
       "    </tr>\n",
       "    <tr>\n",
       "      <th>2</th>\n",
       "      <td>Hoyosella lacisalsi</td>\n",
       "      <td>BsaP</td>\n",
       "      <td>396</td>\n",
       "      <td>725</td>\n",
       "      <td>forward</td>\n",
       "      <td>1</td>\n",
       "    </tr>\n",
       "    <tr>\n",
       "      <th>3</th>\n",
       "      <td>Hoyosella lacisalsi</td>\n",
       "      <td>BioB</td>\n",
       "      <td>-725</td>\n",
       "      <td>318</td>\n",
       "      <td>forward</td>\n",
       "      <td>1</td>\n",
       "    </tr>\n",
       "    <tr>\n",
       "      <th>4</th>\n",
       "      <td>Williamsia serinedens</td>\n",
       "      <td>BsaP</td>\n",
       "      <td>-655</td>\n",
       "      <td>-398</td>\n",
       "      <td>reverse</td>\n",
       "      <td>0</td>\n",
       "    </tr>\n",
       "    <tr>\n",
       "      <th>5</th>\n",
       "      <td>Williamsia serinedens</td>\n",
       "      <td>BioB</td>\n",
       "      <td>-391</td>\n",
       "      <td>655</td>\n",
       "      <td>reverse</td>\n",
       "      <td>0</td>\n",
       "    </tr>\n",
       "    <tr>\n",
       "      <th>6</th>\n",
       "      <td>Mycolicibacter terrae</td>\n",
       "      <td>BsaP</td>\n",
       "      <td>-644</td>\n",
       "      <td>-408</td>\n",
       "      <td>reverse</td>\n",
       "      <td>0</td>\n",
       "    </tr>\n",
       "    <tr>\n",
       "      <th>7</th>\n",
       "      <td>Mycolicibacter terrae</td>\n",
       "      <td>BioB</td>\n",
       "      <td>-393</td>\n",
       "      <td>644</td>\n",
       "      <td>reverse</td>\n",
       "      <td>0</td>\n",
       "    </tr>\n",
       "    <tr>\n",
       "      <th>8</th>\n",
       "      <td>Mycolicibacterium iranicum</td>\n",
       "      <td>BsaP</td>\n",
       "      <td>-635</td>\n",
       "      <td>-387</td>\n",
       "      <td>reverse</td>\n",
       "      <td>0</td>\n",
       "    </tr>\n",
       "    <tr>\n",
       "      <th>9</th>\n",
       "      <td>Mycolicibacterium iranicum</td>\n",
       "      <td>BioB</td>\n",
       "      <td>-360</td>\n",
       "      <td>635</td>\n",
       "      <td>reverse</td>\n",
       "      <td>0</td>\n",
       "    </tr>\n",
       "  </tbody>\n",
       "</table>\n",
       "</div>"
      ],
      "text/plain": [
       "                     molecule  gene  start  end   strand  orientation\n",
       "0     Hoyosella rhizosphaerae  BsaP   -694 -359  reverse            0\n",
       "1     Hoyosella rhizosphaerae  BioB   -349  694  reverse            0\n",
       "2         Hoyosella lacisalsi  BsaP    396  725  forward            1\n",
       "3         Hoyosella lacisalsi  BioB   -725  318  forward            1\n",
       "4       Williamsia serinedens  BsaP   -655 -398  reverse            0\n",
       "5       Williamsia serinedens  BioB   -391  655  reverse            0\n",
       "6       Mycolicibacter terrae  BsaP   -644 -408  reverse            0\n",
       "7       Mycolicibacter terrae  BioB   -393  644  reverse            0\n",
       "8  Mycolicibacterium iranicum  BsaP   -635 -387  reverse            0\n",
       "9  Mycolicibacterium iranicum  BioB   -360  635  reverse            0"
      ]
     },
     "execution_count": 445,
     "metadata": {},
     "output_type": "execute_result"
    }
   ],
   "source": [
    "gg_rel.head(n=10)"
   ]
  },
  {
   "cell_type": "code",
   "execution_count": 446,
   "id": "d5e85374",
   "metadata": {},
   "outputs": [
    {
     "data": {
      "text/plain": [
       "725"
      ]
     },
     "execution_count": 446,
     "metadata": {},
     "output_type": "execute_result"
    }
   ],
   "source": [
    "abs(gg_rel['start'].min())"
   ]
  },
  {
   "cell_type": "code",
   "execution_count": 447,
   "id": "4a7aa5ce",
   "metadata": {},
   "outputs": [],
   "source": [
    "# gg_rel['start'] = gg_rel['start'] + abs(gg_rel['start'].min()) + 1\n",
    "# gg_rel['end'] = gg_rel['end'] + abs(gg_rel['start'].min()) + 1"
   ]
  },
  {
   "cell_type": "code",
   "execution_count": 448,
   "id": "fc57284c",
   "metadata": {},
   "outputs": [],
   "source": [
    "gg_rel = gg_rel.set_index('molecule').loc[species_order].reset_index()"
   ]
  },
  {
   "cell_type": "code",
   "execution_count": 449,
   "id": "89b1120d",
   "metadata": {},
   "outputs": [],
   "source": [
    "# gg_rel.loc[(gg_rel['molecule'] == \"Actinomadura madurae\") & (gg_rel['gene'] == 'BsaP'), 'start'] = 543\n",
    "# gg_rel.loc[(gg_rel['molecule'] == \"Actinomadura madurae\") & (gg_rel['gene'] == 'BsaP'), 'end'] = 725\n",
    "\n",
    "# gg_rel.loc[(gg_rel['molecule'] == \"Actinomadura madurae\") & (gg_rel['gene'] == 'BioB'), 'start'] = -725\n",
    "# gg_rel.loc[(gg_rel['molecule'] == \"Actinomadura madurae\") & (gg_rel['gene'] == 'BioB'), 'end'] = 270"
   ]
  },
  {
   "cell_type": "code",
   "execution_count": null,
   "id": "b8c57eca",
   "metadata": {},
   "outputs": [],
   "source": []
  },
  {
   "cell_type": "code",
   "execution_count": 450,
   "id": "57b71af3",
   "metadata": {},
   "outputs": [],
   "source": [
    "gg_rel['order'] = np.arange(len(gg_rel['molecule'].unique()) * 2) // 2\n"
   ]
  },
  {
   "cell_type": "code",
   "execution_count": 451,
   "id": "3f06bd5b",
   "metadata": {},
   "outputs": [
    {
     "data": {
      "text/html": [
       "<div>\n",
       "<style scoped>\n",
       "    .dataframe tbody tr th:only-of-type {\n",
       "        vertical-align: middle;\n",
       "    }\n",
       "\n",
       "    .dataframe tbody tr th {\n",
       "        vertical-align: top;\n",
       "    }\n",
       "\n",
       "    .dataframe thead th {\n",
       "        text-align: right;\n",
       "    }\n",
       "</style>\n",
       "<table border=\"1\" class=\"dataframe\">\n",
       "  <thead>\n",
       "    <tr style=\"text-align: right;\">\n",
       "      <th></th>\n",
       "      <th>molecule</th>\n",
       "      <th>gene</th>\n",
       "      <th>start</th>\n",
       "      <th>end</th>\n",
       "      <th>strand</th>\n",
       "      <th>orientation</th>\n",
       "      <th>order</th>\n",
       "    </tr>\n",
       "  </thead>\n",
       "  <tbody>\n",
       "    <tr>\n",
       "      <th>54</th>\n",
       "      <td>Pseudonocardia sp. MAG106*</td>\n",
       "      <td>BsaP</td>\n",
       "      <td>1</td>\n",
       "      <td>1</td>\n",
       "      <td>forward</td>\n",
       "      <td>1</td>\n",
       "      <td>27</td>\n",
       "    </tr>\n",
       "    <tr>\n",
       "      <th>55</th>\n",
       "      <td>Pseudonocardia sp. MAG106*</td>\n",
       "      <td>BioB</td>\n",
       "      <td>-595</td>\n",
       "      <td>595</td>\n",
       "      <td>forward</td>\n",
       "      <td>1</td>\n",
       "      <td>27</td>\n",
       "    </tr>\n",
       "    <tr>\n",
       "      <th>56</th>\n",
       "      <td>Pseudonocardia kunmingensis</td>\n",
       "      <td>BsaP</td>\n",
       "      <td>-596</td>\n",
       "      <td>-417</td>\n",
       "      <td>reverse</td>\n",
       "      <td>0</td>\n",
       "      <td>28</td>\n",
       "    </tr>\n",
       "    <tr>\n",
       "      <th>57</th>\n",
       "      <td>Pseudonocardia kunmingensis</td>\n",
       "      <td>BioB</td>\n",
       "      <td>-405</td>\n",
       "      <td>596</td>\n",
       "      <td>reverse</td>\n",
       "      <td>0</td>\n",
       "      <td>28</td>\n",
       "    </tr>\n",
       "  </tbody>\n",
       "</table>\n",
       "</div>"
      ],
      "text/plain": [
       "                       molecule  gene  start  end   strand  orientation  order\n",
       "54   Pseudonocardia sp. MAG106*  BsaP      1    1  forward            1     27\n",
       "55   Pseudonocardia sp. MAG106*  BioB   -595  595  forward            1     27\n",
       "56  Pseudonocardia kunmingensis  BsaP   -596 -417  reverse            0     28\n",
       "57  Pseudonocardia kunmingensis  BioB   -405  596  reverse            0     28"
      ]
     },
     "execution_count": 451,
     "metadata": {},
     "output_type": "execute_result"
    }
   ],
   "source": [
    "gg_rel[gg_rel['molecule'].str.contains('Pseudo')]"
   ]
  },
  {
   "cell_type": "code",
   "execution_count": 452,
   "id": "e198f6f3",
   "metadata": {},
   "outputs": [],
   "source": [
    "gg_rel = gg_rel.drop(gg_rel[ (gg_rel['molecule'] == 'Pseudonocardia sp. MAG106*') & (gg_rel['gene'] == 'BsaP') ].index.item()).reset_index(drop=True)"
   ]
  },
  {
   "cell_type": "code",
   "execution_count": 453,
   "id": "03e8a4d3",
   "metadata": {},
   "outputs": [],
   "source": [
    "gg_rel = gg_rel.drop(gg_rel[gg_rel['molecule'] == 'Actinomadura madurae'].index)"
   ]
  },
  {
   "cell_type": "code",
   "execution_count": null,
   "id": "22d508c4",
   "metadata": {},
   "outputs": [],
   "source": []
  },
  {
   "cell_type": "code",
   "execution_count": 454,
   "id": "09ace523",
   "metadata": {},
   "outputs": [],
   "source": [
    "gg_rel.to_csv(\"gene_orientation/gggenes_gene_relative_annotation_subset41.csv\", index=False)"
   ]
  },
  {
   "cell_type": "code",
   "execution_count": 364,
   "id": "cd692366",
   "metadata": {},
   "outputs": [
    {
     "data": {
      "text/plain": [
       "-725"
      ]
     },
     "execution_count": 364,
     "metadata": {},
     "output_type": "execute_result"
    }
   ],
   "source": [
    "gg_rel[~gg_rel['molecule'].str.contains('madurae')]['start'].min()"
   ]
  },
  {
   "cell_type": "code",
   "execution_count": 365,
   "id": "46124fa5",
   "metadata": {},
   "outputs": [
    {
     "data": {
      "text/plain": [
       "725"
      ]
     },
     "execution_count": 365,
     "metadata": {},
     "output_type": "execute_result"
    }
   ],
   "source": [
    "gg_rel[~gg_rel['molecule'].str.contains('madurae')]['end'].max()"
   ]
  },
  {
   "cell_type": "code",
   "execution_count": 366,
   "id": "926598a4",
   "metadata": {},
   "outputs": [
    {
     "data": {
      "text/html": [
       "<div>\n",
       "<style scoped>\n",
       "    .dataframe tbody tr th:only-of-type {\n",
       "        vertical-align: middle;\n",
       "    }\n",
       "\n",
       "    .dataframe tbody tr th {\n",
       "        vertical-align: top;\n",
       "    }\n",
       "\n",
       "    .dataframe thead th {\n",
       "        text-align: right;\n",
       "    }\n",
       "</style>\n",
       "<table border=\"1\" class=\"dataframe\">\n",
       "  <thead>\n",
       "    <tr style=\"text-align: right;\">\n",
       "      <th></th>\n",
       "      <th>molecule</th>\n",
       "      <th>gene</th>\n",
       "      <th>start</th>\n",
       "      <th>end</th>\n",
       "      <th>strand</th>\n",
       "      <th>orientation</th>\n",
       "    </tr>\n",
       "  </thead>\n",
       "  <tbody>\n",
       "    <tr>\n",
       "      <th>4</th>\n",
       "      <td>Actinomadura madurae</td>\n",
       "      <td>BsaP</td>\n",
       "      <td>2085</td>\n",
       "      <td>2267</td>\n",
       "      <td>reverse</td>\n",
       "      <td>0</td>\n",
       "    </tr>\n",
       "    <tr>\n",
       "      <th>5</th>\n",
       "      <td>Actinomadura madurae</td>\n",
       "      <td>BioB</td>\n",
       "      <td>-2267</td>\n",
       "      <td>-1272</td>\n",
       "      <td>reverse</td>\n",
       "      <td>0</td>\n",
       "    </tr>\n",
       "  </tbody>\n",
       "</table>\n",
       "</div>"
      ],
      "text/plain": [
       "               molecule  gene  start   end   strand  orientation\n",
       "4  Actinomadura madurae  BsaP   2085  2267  reverse            0\n",
       "5  Actinomadura madurae  BioB  -2267 -1272  reverse            0"
      ]
     },
     "execution_count": 366,
     "metadata": {},
     "output_type": "execute_result"
    }
   ],
   "source": [
    "gg_rel[gg_rel['molecule'].str.contains('madurae')]"
   ]
  },
  {
   "cell_type": "code",
   "execution_count": 367,
   "id": "fd6048e9",
   "metadata": {},
   "outputs": [
    {
     "name": "stdout",
     "output_type": "stream",
     "text": [
      "-725\n",
      "270\n"
     ]
    }
   ],
   "source": [
    "print(-2267 + 1542)\n",
    "print(-1272 + 1542)"
   ]
  },
  {
   "cell_type": "code",
   "execution_count": 368,
   "id": "fcb19e22",
   "metadata": {},
   "outputs": [
    {
     "name": "stdout",
     "output_type": "stream",
     "text": [
      "543\n",
      "725\n"
     ]
    }
   ],
   "source": [
    "print(2085 - 1542)\n",
    "print(2267 - 1542)"
   ]
  },
  {
   "cell_type": "code",
   "execution_count": 369,
   "id": "a679fb24",
   "metadata": {},
   "outputs": [
    {
     "data": {
      "text/plain": [
       "1542"
      ]
     },
     "execution_count": 369,
     "metadata": {},
     "output_type": "execute_result"
    }
   ],
   "source": [
    "2267 - 725"
   ]
  },
  {
   "cell_type": "code",
   "execution_count": 399,
   "id": "540c7c1c",
   "metadata": {},
   "outputs": [
    {
     "data": {
      "text/html": [
       "<div>\n",
       "<style scoped>\n",
       "    .dataframe tbody tr th:only-of-type {\n",
       "        vertical-align: middle;\n",
       "    }\n",
       "\n",
       "    .dataframe tbody tr th {\n",
       "        vertical-align: top;\n",
       "    }\n",
       "\n",
       "    .dataframe thead th {\n",
       "        text-align: right;\n",
       "    }\n",
       "</style>\n",
       "<table border=\"1\" class=\"dataframe\">\n",
       "  <thead>\n",
       "    <tr style=\"text-align: right;\">\n",
       "      <th></th>\n",
       "      <th>bsap_coords</th>\n",
       "      <th>biob_coords</th>\n",
       "      <th>relative_bsap</th>\n",
       "      <th>relative_biob</th>\n",
       "    </tr>\n",
       "    <tr>\n",
       "      <th>ssciname</th>\n",
       "      <th></th>\n",
       "      <th></th>\n",
       "      <th></th>\n",
       "      <th></th>\n",
       "    </tr>\n",
       "  </thead>\n",
       "  <tbody>\n",
       "    <tr>\n",
       "      <th>Kribbella flavida DSM 17836</th>\n",
       "      <td>complement(6460154..6460345)</td>\n",
       "      <td>complement(6460342..6461337)</td>\n",
       "      <td>(-591, -400, reverse)</td>\n",
       "      <td>(-404, 591, reverse)</td>\n",
       "    </tr>\n",
       "    <tr>\n",
       "      <th>Kribbella speibonae</th>\n",
       "      <td>320619..320801</td>\n",
       "      <td>319627..320622</td>\n",
       "      <td>(405, 587, forward)</td>\n",
       "      <td>(-587, 408, forward)</td>\n",
       "    </tr>\n",
       "    <tr>\n",
       "      <th>Actinomadura madurae</th>\n",
       "      <td>complement(291258..291440)</td>\n",
       "      <td>complement(286905..287900)</td>\n",
       "      <td>(2085, 2267, reverse)</td>\n",
       "      <td>(-2267, -1272, reverse)</td>\n",
       "    </tr>\n",
       "    <tr>\n",
       "      <th>Amycolatopsis pithecellobii</th>\n",
       "      <td>complement(8750..8950)</td>\n",
       "      <td>complement(8947..9963)</td>\n",
       "      <td>(-606, -406, reverse)</td>\n",
       "      <td>(-410, 606, reverse)</td>\n",
       "    </tr>\n",
       "    <tr>\n",
       "      <th>Actinokineospora baliensis</th>\n",
       "      <td>complement(6700920..6701114)</td>\n",
       "      <td>complement(6701319..6702356)</td>\n",
       "      <td>(-718, -524, reverse)</td>\n",
       "      <td>(-319, 718, reverse)</td>\n",
       "    </tr>\n",
       "    <tr>\n",
       "      <th>Actinophytocola xinjiangensis</th>\n",
       "      <td>complement(17965..18168)</td>\n",
       "      <td>complement(18170..19219)</td>\n",
       "      <td>(-627, -424, reverse)</td>\n",
       "      <td>(-422, 627, reverse)</td>\n",
       "    </tr>\n",
       "    <tr>\n",
       "      <th>Pseudonocardia kunmingensis</th>\n",
       "      <td>complement(831877..832056)</td>\n",
       "      <td>complement(832068..833069)</td>\n",
       "      <td>(-596, -417, reverse)</td>\n",
       "      <td>(-405, 596, reverse)</td>\n",
       "    </tr>\n",
       "    <tr>\n",
       "      <th>Pseudonocardia sp. MAG106*</th>\n",
       "      <td>NaN</td>\n",
       "      <td>4969..6159</td>\n",
       "      <td>(1, 1, forward)</td>\n",
       "      <td>(-595, 595, forward)</td>\n",
       "    </tr>\n",
       "    <tr>\n",
       "      <th>Umezawaea endophytica</th>\n",
       "      <td>complement(279594..279779)</td>\n",
       "      <td>complement(279779..280807)</td>\n",
       "      <td>(-606, -421, reverse)</td>\n",
       "      <td>(-422, 606, reverse)</td>\n",
       "    </tr>\n",
       "    <tr>\n",
       "      <th>Saccharothrix ecbatanensis</th>\n",
       "      <td>complement(5722436..5722624)</td>\n",
       "      <td>complement(5722621..5723637)</td>\n",
       "      <td>(-600, -412, reverse)</td>\n",
       "      <td>(-416, 600, reverse)</td>\n",
       "    </tr>\n",
       "    <tr>\n",
       "      <th>Williamsia serinedens</th>\n",
       "      <td>complement(87161..87418)</td>\n",
       "      <td>complement(87425..88471)</td>\n",
       "      <td>(-655, -398, reverse)</td>\n",
       "      <td>(-391, 655, reverse)</td>\n",
       "    </tr>\n",
       "    <tr>\n",
       "      <th>Tsukamurella paurometabola DSM 20162</th>\n",
       "      <td>2092009..2092236</td>\n",
       "      <td>2091014..2092012</td>\n",
       "      <td>(384, 611, forward)</td>\n",
       "      <td>(-611, 387, forward)</td>\n",
       "    </tr>\n",
       "    <tr>\n",
       "      <th>Hoyosella rhizosphaerae</th>\n",
       "      <td>complement(66301..66636)</td>\n",
       "      <td>complement(66647..67690)</td>\n",
       "      <td>(-694, -359, reverse)</td>\n",
       "      <td>(-349, 694, reverse)</td>\n",
       "    </tr>\n",
       "    <tr>\n",
       "      <th>Hoyosella lacisalsi</th>\n",
       "      <td>109098..109427</td>\n",
       "      <td>107977..109020</td>\n",
       "      <td>(396, 725, forward)</td>\n",
       "      <td>(-725, 318, forward)</td>\n",
       "    </tr>\n",
       "    <tr>\n",
       "      <th>Tomitella gaofuii</th>\n",
       "      <td>complement(2892424..2892699)</td>\n",
       "      <td>complement(2892696..2893736)</td>\n",
       "      <td>(-656, -381, reverse)</td>\n",
       "      <td>(-384, 656, reverse)</td>\n",
       "    </tr>\n",
       "    <tr>\n",
       "      <th>Gordonia bronchialis DSM 43247</th>\n",
       "      <td>complement(3171889..3172158)</td>\n",
       "      <td>complement(3172205..3173242)</td>\n",
       "      <td>(-676, -407, reverse)</td>\n",
       "      <td>(-361, 676, reverse)</td>\n",
       "    </tr>\n",
       "    <tr>\n",
       "      <th>Gordonia liuliyuniae</th>\n",
       "      <td>complement(107188..107448)</td>\n",
       "      <td>complement(107507..108541)</td>\n",
       "      <td>(-676, -416, reverse)</td>\n",
       "      <td>(-358, 676, reverse)</td>\n",
       "    </tr>\n",
       "    <tr>\n",
       "      <th>Williamsia phyllosphaerae</th>\n",
       "      <td>2893719..2894012</td>\n",
       "      <td>2892671..2893714</td>\n",
       "      <td>(377, 670, forward)</td>\n",
       "      <td>(-670, 373, forward)</td>\n",
       "    </tr>\n",
       "    <tr>\n",
       "      <th>Gordonia crocea</th>\n",
       "      <td>complement(2397278..2397517)</td>\n",
       "      <td>complement(2397522..2398559)</td>\n",
       "      <td>(-640, -401, reverse)</td>\n",
       "      <td>(-397, 640, reverse)</td>\n",
       "    </tr>\n",
       "    <tr>\n",
       "      <th>Gordonia araii NBRC 100433</th>\n",
       "      <td>complement(25628..25888)</td>\n",
       "      <td>complement(25893..26930)</td>\n",
       "      <td>(-651, -391, reverse)</td>\n",
       "      <td>(-386, 651, reverse)</td>\n",
       "    </tr>\n",
       "    <tr>\n",
       "      <th>Mycolicibacter terrae</th>\n",
       "      <td>complement(2227866..2228102)</td>\n",
       "      <td>complement(2228117..2229154)</td>\n",
       "      <td>(-644, -408, reverse)</td>\n",
       "      <td>(-393, 644, reverse)</td>\n",
       "    </tr>\n",
       "    <tr>\n",
       "      <th>Mycolicibacterium vanbaalenii PYR-1</th>\n",
       "      <td>2964512..2964763</td>\n",
       "      <td>2963507..2964502</td>\n",
       "      <td>(377, 628, forward)</td>\n",
       "      <td>(-628, 367, forward)</td>\n",
       "    </tr>\n",
       "    <tr>\n",
       "      <th>Mycolicibacterium iranicum</th>\n",
       "      <td>complement(142749..142997)</td>\n",
       "      <td>complement(143025..144020)</td>\n",
       "      <td>(-635, -387, reverse)</td>\n",
       "      <td>(-360, 635, reverse)</td>\n",
       "    </tr>\n",
       "    <tr>\n",
       "      <th>Mycobacterium leprae</th>\n",
       "      <td>1408129..1408371</td>\n",
       "      <td>1407066..1408103</td>\n",
       "      <td>(410, 652, forward)</td>\n",
       "      <td>(-652, 385, forward)</td>\n",
       "    </tr>\n",
       "    <tr>\n",
       "      <th>Mycobacterium ostraviense</th>\n",
       "      <td>complement(2728317..2728544)</td>\n",
       "      <td>complement(2728558..2729553)</td>\n",
       "      <td>(-618, -391, reverse)</td>\n",
       "      <td>(-377, 618, reverse)</td>\n",
       "    </tr>\n",
       "    <tr>\n",
       "      <th>Mycobacterium tuberculosis H37Rv</th>\n",
       "      <td>1791334..1791573</td>\n",
       "      <td>1790284..1791333</td>\n",
       "      <td>(405, 644, forward)</td>\n",
       "      <td>(-644, 405, forward)</td>\n",
       "    </tr>\n",
       "    <tr>\n",
       "      <th>Mycobacterium doricum</th>\n",
       "      <td>complement(2253458..2253658)</td>\n",
       "      <td>complement(2253658..2254653)</td>\n",
       "      <td>(-597, -397, reverse)</td>\n",
       "      <td>(-398, 597, reverse)</td>\n",
       "    </tr>\n",
       "    <tr>\n",
       "      <th>Mycolicibacterium komossense</th>\n",
       "      <td>complement(275754..275981)</td>\n",
       "      <td>complement(276004..277020)</td>\n",
       "      <td>(-633, -406, reverse)</td>\n",
       "      <td>(-383, 633, reverse)</td>\n",
       "    </tr>\n",
       "    <tr>\n",
       "      <th>Mycolicibacterium lacusdiani</th>\n",
       "      <td>285526..285735</td>\n",
       "      <td>284509..285516</td>\n",
       "      <td>(404, 613, forward)</td>\n",
       "      <td>(-613, 394, forward)</td>\n",
       "    </tr>\n",
       "    <tr>\n",
       "      <th>Rhodococcus triatomae</th>\n",
       "      <td>1584640..1584915</td>\n",
       "      <td>1583617..1584630</td>\n",
       "      <td>(374, 649, forward)</td>\n",
       "      <td>(-649, 364, forward)</td>\n",
       "    </tr>\n",
       "    <tr>\n",
       "      <th>Rhodococcus yunnanensis NBRC 103083</th>\n",
       "      <td>99905..100120</td>\n",
       "      <td>98887..99894</td>\n",
       "      <td>(401, 616, forward)</td>\n",
       "      <td>(-616, 391, forward)</td>\n",
       "    </tr>\n",
       "    <tr>\n",
       "      <th>Rhodococcus oxybenzonivorans</th>\n",
       "      <td>2675173..2675430</td>\n",
       "      <td>2674160..2675173</td>\n",
       "      <td>(378, 635, forward)</td>\n",
       "      <td>(-635, 378, forward)</td>\n",
       "    </tr>\n",
       "    <tr>\n",
       "      <th>Prescottella subtropica</th>\n",
       "      <td>7572..7787</td>\n",
       "      <td>6581..7585</td>\n",
       "      <td>(388, 603, forward)</td>\n",
       "      <td>(-603, 401, forward)</td>\n",
       "    </tr>\n",
       "    <tr>\n",
       "      <th>Nocardia terpenica</th>\n",
       "      <td>2963554..2963763</td>\n",
       "      <td>2962491..2963516</td>\n",
       "      <td>(427, 636, forward)</td>\n",
       "      <td>(-636, 389, forward)</td>\n",
       "    </tr>\n",
       "    <tr>\n",
       "      <th>Rhodococcus aetherivorans</th>\n",
       "      <td>2194993..2195187</td>\n",
       "      <td>2193928..2194983</td>\n",
       "      <td>(435, 629, forward)</td>\n",
       "      <td>(-629, 426, forward)</td>\n",
       "    </tr>\n",
       "    <tr>\n",
       "      <th>Corynebacterium silvaticum</th>\n",
       "      <td>86111..86365</td>\n",
       "      <td>85110..86105</td>\n",
       "      <td>(373, 627, forward)</td>\n",
       "      <td>(-627, 368, forward)</td>\n",
       "    </tr>\n",
       "    <tr>\n",
       "      <th>Corynebacterium argentoratense DSM 44202</th>\n",
       "      <td>complement(1292894..1293163)</td>\n",
       "      <td>complement(1293183..1294220)</td>\n",
       "      <td>(-663, -394, reverse)</td>\n",
       "      <td>(-374, 663, reverse)</td>\n",
       "    </tr>\n",
       "    <tr>\n",
       "      <th>Corynebacterium aquilae DSM 44791</th>\n",
       "      <td>complement(1909135..1909392)</td>\n",
       "      <td>complement(1909494..1910513)</td>\n",
       "      <td>(-689, -432, reverse)</td>\n",
       "      <td>(-330, 689, reverse)</td>\n",
       "    </tr>\n",
       "    <tr>\n",
       "      <th>Corynebacterium gallinarum</th>\n",
       "      <td>244610..244885</td>\n",
       "      <td>243606..244610</td>\n",
       "      <td>(364, 639, forward)</td>\n",
       "      <td>(-639, 365, forward)</td>\n",
       "    </tr>\n",
       "    <tr>\n",
       "      <th>Corynebacterium phoceense</th>\n",
       "      <td>complement(111601..111858)</td>\n",
       "      <td>complement(111858..112838)</td>\n",
       "      <td>(-618, -361, reverse)</td>\n",
       "      <td>(-362, 618, reverse)</td>\n",
       "    </tr>\n",
       "    <tr>\n",
       "      <th>Corynebacterium falsenii</th>\n",
       "      <td>2080075..2080434</td>\n",
       "      <td>2078994..2080031</td>\n",
       "      <td>(361, 720, forward)</td>\n",
       "      <td>(-720, 317, forward)</td>\n",
       "    </tr>\n",
       "    <tr>\n",
       "      <th>Corynebacterium sphenisci DSM 44792</th>\n",
       "      <td>complement(1620974..1621267)</td>\n",
       "      <td>complement(1621254..1622303)</td>\n",
       "      <td>(-664, -371, reverse)</td>\n",
       "      <td>(-385, 664, reverse)</td>\n",
       "    </tr>\n",
       "  </tbody>\n",
       "</table>\n",
       "</div>"
      ],
      "text/plain": [
       "                                                           bsap_coords  \\\n",
       "ssciname                                                                 \n",
       "Kribbella flavida DSM 17836               complement(6460154..6460345)   \n",
       "Kribbella speibonae                                     320619..320801   \n",
       "Actinomadura madurae                        complement(291258..291440)   \n",
       "Amycolatopsis pithecellobii                     complement(8750..8950)   \n",
       "Actinokineospora baliensis                complement(6700920..6701114)   \n",
       "Actinophytocola xinjiangensis                 complement(17965..18168)   \n",
       "Pseudonocardia kunmingensis                 complement(831877..832056)   \n",
       "Pseudonocardia sp. MAG106*                                         NaN   \n",
       "Umezawaea endophytica                       complement(279594..279779)   \n",
       "Saccharothrix ecbatanensis                complement(5722436..5722624)   \n",
       "Williamsia serinedens                         complement(87161..87418)   \n",
       "Tsukamurella paurometabola DSM 20162                  2092009..2092236   \n",
       "Hoyosella rhizosphaerae                       complement(66301..66636)   \n",
       "Hoyosella lacisalsi                                     109098..109427   \n",
       "Tomitella gaofuii                         complement(2892424..2892699)   \n",
       "Gordonia bronchialis DSM 43247            complement(3171889..3172158)   \n",
       "Gordonia liuliyuniae                        complement(107188..107448)   \n",
       "Williamsia phyllosphaerae                             2893719..2894012   \n",
       "Gordonia crocea                           complement(2397278..2397517)   \n",
       "Gordonia araii NBRC 100433                    complement(25628..25888)   \n",
       "Mycolicibacter terrae                     complement(2227866..2228102)   \n",
       "Mycolicibacterium vanbaalenii PYR-1                   2964512..2964763   \n",
       "Mycolicibacterium iranicum                  complement(142749..142997)   \n",
       "Mycobacterium leprae                                  1408129..1408371   \n",
       "Mycobacterium ostraviense                 complement(2728317..2728544)   \n",
       "Mycobacterium tuberculosis H37Rv                      1791334..1791573   \n",
       "Mycobacterium doricum                     complement(2253458..2253658)   \n",
       "Mycolicibacterium komossense                complement(275754..275981)   \n",
       "Mycolicibacterium lacusdiani                            285526..285735   \n",
       "Rhodococcus triatomae                                 1584640..1584915   \n",
       "Rhodococcus yunnanensis NBRC 103083                      99905..100120   \n",
       "Rhodococcus oxybenzonivorans                          2675173..2675430   \n",
       "Prescottella subtropica                                     7572..7787   \n",
       "Nocardia terpenica                                    2963554..2963763   \n",
       "Rhodococcus aetherivorans                             2194993..2195187   \n",
       "Corynebacterium silvaticum                                86111..86365   \n",
       "Corynebacterium argentoratense DSM 44202  complement(1292894..1293163)   \n",
       "Corynebacterium aquilae DSM 44791         complement(1909135..1909392)   \n",
       "Corynebacterium gallinarum                              244610..244885   \n",
       "Corynebacterium phoceense                   complement(111601..111858)   \n",
       "Corynebacterium falsenii                              2080075..2080434   \n",
       "Corynebacterium sphenisci DSM 44792       complement(1620974..1621267)   \n",
       "\n",
       "                                                           biob_coords  \\\n",
       "ssciname                                                                 \n",
       "Kribbella flavida DSM 17836               complement(6460342..6461337)   \n",
       "Kribbella speibonae                                     319627..320622   \n",
       "Actinomadura madurae                        complement(286905..287900)   \n",
       "Amycolatopsis pithecellobii                     complement(8947..9963)   \n",
       "Actinokineospora baliensis                complement(6701319..6702356)   \n",
       "Actinophytocola xinjiangensis                 complement(18170..19219)   \n",
       "Pseudonocardia kunmingensis                 complement(832068..833069)   \n",
       "Pseudonocardia sp. MAG106*                                  4969..6159   \n",
       "Umezawaea endophytica                       complement(279779..280807)   \n",
       "Saccharothrix ecbatanensis                complement(5722621..5723637)   \n",
       "Williamsia serinedens                         complement(87425..88471)   \n",
       "Tsukamurella paurometabola DSM 20162                  2091014..2092012   \n",
       "Hoyosella rhizosphaerae                       complement(66647..67690)   \n",
       "Hoyosella lacisalsi                                     107977..109020   \n",
       "Tomitella gaofuii                         complement(2892696..2893736)   \n",
       "Gordonia bronchialis DSM 43247            complement(3172205..3173242)   \n",
       "Gordonia liuliyuniae                        complement(107507..108541)   \n",
       "Williamsia phyllosphaerae                             2892671..2893714   \n",
       "Gordonia crocea                           complement(2397522..2398559)   \n",
       "Gordonia araii NBRC 100433                    complement(25893..26930)   \n",
       "Mycolicibacter terrae                     complement(2228117..2229154)   \n",
       "Mycolicibacterium vanbaalenii PYR-1                   2963507..2964502   \n",
       "Mycolicibacterium iranicum                  complement(143025..144020)   \n",
       "Mycobacterium leprae                                  1407066..1408103   \n",
       "Mycobacterium ostraviense                 complement(2728558..2729553)   \n",
       "Mycobacterium tuberculosis H37Rv                      1790284..1791333   \n",
       "Mycobacterium doricum                     complement(2253658..2254653)   \n",
       "Mycolicibacterium komossense                complement(276004..277020)   \n",
       "Mycolicibacterium lacusdiani                            284509..285516   \n",
       "Rhodococcus triatomae                                 1583617..1584630   \n",
       "Rhodococcus yunnanensis NBRC 103083                       98887..99894   \n",
       "Rhodococcus oxybenzonivorans                          2674160..2675173   \n",
       "Prescottella subtropica                                     6581..7585   \n",
       "Nocardia terpenica                                    2962491..2963516   \n",
       "Rhodococcus aetherivorans                             2193928..2194983   \n",
       "Corynebacterium silvaticum                                85110..86105   \n",
       "Corynebacterium argentoratense DSM 44202  complement(1293183..1294220)   \n",
       "Corynebacterium aquilae DSM 44791         complement(1909494..1910513)   \n",
       "Corynebacterium gallinarum                              243606..244610   \n",
       "Corynebacterium phoceense                   complement(111858..112838)   \n",
       "Corynebacterium falsenii                              2078994..2080031   \n",
       "Corynebacterium sphenisci DSM 44792       complement(1621254..1622303)   \n",
       "\n",
       "                                                  relative_bsap  \\\n",
       "ssciname                                                          \n",
       "Kribbella flavida DSM 17836               (-591, -400, reverse)   \n",
       "Kribbella speibonae                         (405, 587, forward)   \n",
       "Actinomadura madurae                      (2085, 2267, reverse)   \n",
       "Amycolatopsis pithecellobii               (-606, -406, reverse)   \n",
       "Actinokineospora baliensis                (-718, -524, reverse)   \n",
       "Actinophytocola xinjiangensis             (-627, -424, reverse)   \n",
       "Pseudonocardia kunmingensis               (-596, -417, reverse)   \n",
       "Pseudonocardia sp. MAG106*                      (1, 1, forward)   \n",
       "Umezawaea endophytica                     (-606, -421, reverse)   \n",
       "Saccharothrix ecbatanensis                (-600, -412, reverse)   \n",
       "Williamsia serinedens                     (-655, -398, reverse)   \n",
       "Tsukamurella paurometabola DSM 20162        (384, 611, forward)   \n",
       "Hoyosella rhizosphaerae                   (-694, -359, reverse)   \n",
       "Hoyosella lacisalsi                         (396, 725, forward)   \n",
       "Tomitella gaofuii                         (-656, -381, reverse)   \n",
       "Gordonia bronchialis DSM 43247            (-676, -407, reverse)   \n",
       "Gordonia liuliyuniae                      (-676, -416, reverse)   \n",
       "Williamsia phyllosphaerae                   (377, 670, forward)   \n",
       "Gordonia crocea                           (-640, -401, reverse)   \n",
       "Gordonia araii NBRC 100433                (-651, -391, reverse)   \n",
       "Mycolicibacter terrae                     (-644, -408, reverse)   \n",
       "Mycolicibacterium vanbaalenii PYR-1         (377, 628, forward)   \n",
       "Mycolicibacterium iranicum                (-635, -387, reverse)   \n",
       "Mycobacterium leprae                        (410, 652, forward)   \n",
       "Mycobacterium ostraviense                 (-618, -391, reverse)   \n",
       "Mycobacterium tuberculosis H37Rv            (405, 644, forward)   \n",
       "Mycobacterium doricum                     (-597, -397, reverse)   \n",
       "Mycolicibacterium komossense              (-633, -406, reverse)   \n",
       "Mycolicibacterium lacusdiani                (404, 613, forward)   \n",
       "Rhodococcus triatomae                       (374, 649, forward)   \n",
       "Rhodococcus yunnanensis NBRC 103083         (401, 616, forward)   \n",
       "Rhodococcus oxybenzonivorans                (378, 635, forward)   \n",
       "Prescottella subtropica                     (388, 603, forward)   \n",
       "Nocardia terpenica                          (427, 636, forward)   \n",
       "Rhodococcus aetherivorans                   (435, 629, forward)   \n",
       "Corynebacterium silvaticum                  (373, 627, forward)   \n",
       "Corynebacterium argentoratense DSM 44202  (-663, -394, reverse)   \n",
       "Corynebacterium aquilae DSM 44791         (-689, -432, reverse)   \n",
       "Corynebacterium gallinarum                  (364, 639, forward)   \n",
       "Corynebacterium phoceense                 (-618, -361, reverse)   \n",
       "Corynebacterium falsenii                    (361, 720, forward)   \n",
       "Corynebacterium sphenisci DSM 44792       (-664, -371, reverse)   \n",
       "\n",
       "                                                    relative_biob  \n",
       "ssciname                                                           \n",
       "Kribbella flavida DSM 17836                  (-404, 591, reverse)  \n",
       "Kribbella speibonae                          (-587, 408, forward)  \n",
       "Actinomadura madurae                      (-2267, -1272, reverse)  \n",
       "Amycolatopsis pithecellobii                  (-410, 606, reverse)  \n",
       "Actinokineospora baliensis                   (-319, 718, reverse)  \n",
       "Actinophytocola xinjiangensis                (-422, 627, reverse)  \n",
       "Pseudonocardia kunmingensis                  (-405, 596, reverse)  \n",
       "Pseudonocardia sp. MAG106*                   (-595, 595, forward)  \n",
       "Umezawaea endophytica                        (-422, 606, reverse)  \n",
       "Saccharothrix ecbatanensis                   (-416, 600, reverse)  \n",
       "Williamsia serinedens                        (-391, 655, reverse)  \n",
       "Tsukamurella paurometabola DSM 20162         (-611, 387, forward)  \n",
       "Hoyosella rhizosphaerae                      (-349, 694, reverse)  \n",
       "Hoyosella lacisalsi                          (-725, 318, forward)  \n",
       "Tomitella gaofuii                            (-384, 656, reverse)  \n",
       "Gordonia bronchialis DSM 43247               (-361, 676, reverse)  \n",
       "Gordonia liuliyuniae                         (-358, 676, reverse)  \n",
       "Williamsia phyllosphaerae                    (-670, 373, forward)  \n",
       "Gordonia crocea                              (-397, 640, reverse)  \n",
       "Gordonia araii NBRC 100433                   (-386, 651, reverse)  \n",
       "Mycolicibacter terrae                        (-393, 644, reverse)  \n",
       "Mycolicibacterium vanbaalenii PYR-1          (-628, 367, forward)  \n",
       "Mycolicibacterium iranicum                   (-360, 635, reverse)  \n",
       "Mycobacterium leprae                         (-652, 385, forward)  \n",
       "Mycobacterium ostraviense                    (-377, 618, reverse)  \n",
       "Mycobacterium tuberculosis H37Rv             (-644, 405, forward)  \n",
       "Mycobacterium doricum                        (-398, 597, reverse)  \n",
       "Mycolicibacterium komossense                 (-383, 633, reverse)  \n",
       "Mycolicibacterium lacusdiani                 (-613, 394, forward)  \n",
       "Rhodococcus triatomae                        (-649, 364, forward)  \n",
       "Rhodococcus yunnanensis NBRC 103083          (-616, 391, forward)  \n",
       "Rhodococcus oxybenzonivorans                 (-635, 378, forward)  \n",
       "Prescottella subtropica                      (-603, 401, forward)  \n",
       "Nocardia terpenica                           (-636, 389, forward)  \n",
       "Rhodococcus aetherivorans                    (-629, 426, forward)  \n",
       "Corynebacterium silvaticum                   (-627, 368, forward)  \n",
       "Corynebacterium argentoratense DSM 44202     (-374, 663, reverse)  \n",
       "Corynebacterium aquilae DSM 44791            (-330, 689, reverse)  \n",
       "Corynebacterium gallinarum                   (-639, 365, forward)  \n",
       "Corynebacterium phoceense                    (-362, 618, reverse)  \n",
       "Corynebacterium falsenii                     (-720, 317, forward)  \n",
       "Corynebacterium sphenisci DSM 44792          (-385, 664, reverse)  "
      ]
     },
     "execution_count": 399,
     "metadata": {},
     "output_type": "execute_result"
    }
   ],
   "source": [
    "coords"
   ]
  },
  {
   "cell_type": "code",
   "execution_count": null,
   "id": "601c2635",
   "metadata": {},
   "outputs": [],
   "source": []
  },
  {
   "cell_type": "code",
   "execution_count": null,
   "id": "f1071561",
   "metadata": {},
   "outputs": [],
   "source": []
  },
  {
   "cell_type": "code",
   "execution_count": null,
   "id": "f8c9b727",
   "metadata": {},
   "outputs": [],
   "source": []
  },
  {
   "cell_type": "code",
   "execution_count": null,
   "id": "e0eb8a56",
   "metadata": {},
   "outputs": [],
   "source": [
    "molecule: the genome\n",
    "gene: the name of the gene\n",
    "start: the start position of the gene\n",
    "end: the end position of the gene\n",
    "strand: the strand of the gene\n",
    "orientation: the orientation of the gene"
   ]
  },
  {
   "cell_type": "code",
   "execution_count": null,
   "id": "79441e35",
   "metadata": {},
   "outputs": [],
   "source": []
  },
  {
   "cell_type": "code",
   "execution_count": null,
   "id": "23992654",
   "metadata": {},
   "outputs": [],
   "source": []
  },
  {
   "cell_type": "markdown",
   "id": "b276e2aa",
   "metadata": {},
   "source": [
    "## Using DNA Features Viewer"
   ]
  },
  {
   "cell_type": "code",
   "execution_count": 3,
   "id": "ced15be8",
   "metadata": {},
   "outputs": [],
   "source": [
    "import pandas as pd\n",
    "import numpy as np\n",
    "import os\n",
    "\n",
    "from dna_features_viewer import GraphicFeature, GraphicRecord"
   ]
  },
  {
   "cell_type": "code",
   "execution_count": 24,
   "id": "274d9d7d",
   "metadata": {},
   "outputs": [],
   "source": [
    "df = pd.read_csv(\"gene_orientation/subset50_gene_orientation.csv\")"
   ]
  },
  {
   "cell_type": "code",
   "execution_count": 26,
   "id": "a96d1f70",
   "metadata": {},
   "outputs": [],
   "source": [
    "bed = pd.read_csv(\"gene_orientation/subset50_gene_orientation.bed\", delimiter=\"\\t\")"
   ]
  },
  {
   "cell_type": "code",
   "execution_count": 27,
   "id": "270c0b97",
   "metadata": {},
   "outputs": [
    {
     "data": {
      "text/html": [
       "<div>\n",
       "<style scoped>\n",
       "    .dataframe tbody tr th:only-of-type {\n",
       "        vertical-align: middle;\n",
       "    }\n",
       "\n",
       "    .dataframe tbody tr th {\n",
       "        vertical-align: top;\n",
       "    }\n",
       "\n",
       "    .dataframe thead th {\n",
       "        text-align: right;\n",
       "    }\n",
       "</style>\n",
       "<table border=\"1\" class=\"dataframe\">\n",
       "  <thead>\n",
       "    <tr style=\"text-align: right;\">\n",
       "      <th></th>\n",
       "      <th>name</th>\n",
       "      <th>start</th>\n",
       "      <th>end</th>\n",
       "      <th>gene</th>\n",
       "      <th>score</th>\n",
       "      <th>strand</th>\n",
       "    </tr>\n",
       "  </thead>\n",
       "  <tbody>\n",
       "    <tr>\n",
       "      <th>0</th>\n",
       "      <td>Amycolatopsis pithecellobii</td>\n",
       "      <td>0</td>\n",
       "      <td>200</td>\n",
       "      <td>bsap</td>\n",
       "      <td>0</td>\n",
       "      <td>-</td>\n",
       "    </tr>\n",
       "    <tr>\n",
       "      <th>1</th>\n",
       "      <td>Amycolatopsis pithecellobii</td>\n",
       "      <td>197</td>\n",
       "      <td>1213</td>\n",
       "      <td>biob</td>\n",
       "      <td>500</td>\n",
       "      <td>-</td>\n",
       "    </tr>\n",
       "    <tr>\n",
       "      <th>2</th>\n",
       "      <td>Actinophytocola xinjiangensis</td>\n",
       "      <td>0</td>\n",
       "      <td>203</td>\n",
       "      <td>bsap</td>\n",
       "      <td>0</td>\n",
       "      <td>-</td>\n",
       "    </tr>\n",
       "    <tr>\n",
       "      <th>3</th>\n",
       "      <td>Actinophytocola xinjiangensis</td>\n",
       "      <td>205</td>\n",
       "      <td>1254</td>\n",
       "      <td>biob</td>\n",
       "      <td>500</td>\n",
       "      <td>-</td>\n",
       "    </tr>\n",
       "    <tr>\n",
       "      <th>4</th>\n",
       "      <td>Actinokineospora baliensis</td>\n",
       "      <td>0</td>\n",
       "      <td>194</td>\n",
       "      <td>bsap</td>\n",
       "      <td>0</td>\n",
       "      <td>-</td>\n",
       "    </tr>\n",
       "    <tr>\n",
       "      <th>...</th>\n",
       "      <td>...</td>\n",
       "      <td>...</td>\n",
       "      <td>...</td>\n",
       "      <td>...</td>\n",
       "      <td>...</td>\n",
       "      <td>...</td>\n",
       "    </tr>\n",
       "    <tr>\n",
       "      <th>87</th>\n",
       "      <td>Corynebacterium gallinarum</td>\n",
       "      <td>0</td>\n",
       "      <td>1004</td>\n",
       "      <td>biob</td>\n",
       "      <td>500</td>\n",
       "      <td>+</td>\n",
       "    </tr>\n",
       "    <tr>\n",
       "      <th>88</th>\n",
       "      <td>Corynebacterium phoceense</td>\n",
       "      <td>0</td>\n",
       "      <td>257</td>\n",
       "      <td>bsap</td>\n",
       "      <td>0</td>\n",
       "      <td>-</td>\n",
       "    </tr>\n",
       "    <tr>\n",
       "      <th>89</th>\n",
       "      <td>Corynebacterium phoceense</td>\n",
       "      <td>257</td>\n",
       "      <td>1237</td>\n",
       "      <td>biob</td>\n",
       "      <td>500</td>\n",
       "      <td>-</td>\n",
       "    </tr>\n",
       "    <tr>\n",
       "      <th>90</th>\n",
       "      <td>Corynebacterium sphenisci DSM 44792</td>\n",
       "      <td>0</td>\n",
       "      <td>293</td>\n",
       "      <td>bsap</td>\n",
       "      <td>0</td>\n",
       "      <td>-</td>\n",
       "    </tr>\n",
       "    <tr>\n",
       "      <th>91</th>\n",
       "      <td>Corynebacterium sphenisci DSM 44792</td>\n",
       "      <td>280</td>\n",
       "      <td>1329</td>\n",
       "      <td>biob</td>\n",
       "      <td>500</td>\n",
       "      <td>-</td>\n",
       "    </tr>\n",
       "  </tbody>\n",
       "</table>\n",
       "<p>92 rows × 6 columns</p>\n",
       "</div>"
      ],
      "text/plain": [
       "                                   name  start   end  gene  score strand\n",
       "0           Amycolatopsis pithecellobii      0   200  bsap      0      -\n",
       "1           Amycolatopsis pithecellobii    197  1213  biob    500      -\n",
       "2         Actinophytocola xinjiangensis      0   203  bsap      0      -\n",
       "3         Actinophytocola xinjiangensis    205  1254  biob    500      -\n",
       "4            Actinokineospora baliensis      0   194  bsap      0      -\n",
       "..                                  ...    ...   ...   ...    ...    ...\n",
       "87           Corynebacterium gallinarum      0  1004  biob    500      +\n",
       "88            Corynebacterium phoceense      0   257  bsap      0      -\n",
       "89            Corynebacterium phoceense    257  1237  biob    500      -\n",
       "90  Corynebacterium sphenisci DSM 44792      0   293  bsap      0      -\n",
       "91  Corynebacterium sphenisci DSM 44792    280  1329  biob    500      -\n",
       "\n",
       "[92 rows x 6 columns]"
      ]
     },
     "execution_count": 27,
     "metadata": {},
     "output_type": "execute_result"
    }
   ],
   "source": []
  },
  {
   "cell_type": "code",
   "execution_count": null,
   "id": "16a2f44d",
   "metadata": {},
   "outputs": [],
   "source": [
    "sequence = str(h37rv_biob.seq)\n",
    "record = GraphicRecord(sequence=sequence, features=[\n",
    "    GraphicFeature(start=5, end=10, strand=0, color='#ffcccc'),\n",
    "#     GraphicFeature(start=8, end=15, strand=+1, color='#ccccff')\n",
    "])\n",
    "\n",
    "ax, _ = record.plot(figure_width=40)\n",
    "record.plot_sequence(ax)\n",
    "record.plot_translation(ax, (0, len(sequence)), fontdict={'weight': 'bold'})\n",
    "\n",
    "# ax.figure.savefig('sequence_and_translation.png', bbox_inches='tight')"
   ]
  },
  {
   "cell_type": "code",
   "execution_count": null,
   "id": "6c948011",
   "metadata": {},
   "outputs": [],
   "source": []
  },
  {
   "cell_type": "code",
   "execution_count": 43,
   "id": "926cbe65",
   "metadata": {},
   "outputs": [],
   "source": [
    "\n",
    "# def get_feature_list(bed):\n",
    "#     features = []\n",
    "\n",
    "#     color_map = {\n",
    "#         \"biob\": \"#cffccc\",\n",
    "#         \"bsap\": \"#ccccff\"\n",
    "#     }\n",
    "    \n",
    "#     for i in bed.index:\n",
    "        \n",
    "#         feat = GraphicFeature(start=bed.loc[i, 'start'],\n",
    "#                              end=bed.loc[i, 'end'],\n",
    "#                              strand=bed.loc[i, 'strand'],\n",
    "#                              color=color_map[bed.loc[i, 'gene']],\n",
    "#                              label=bed.loc[i, 'name'])\n",
    "#         features.append(feat)\n",
    "        \n",
    "#     return features\n",
    "\n",
    "# feature_list = get_feature_list(bed)\n",
    "\n",
    "\n",
    "def get_record_list(df):\n",
    "    records = []\n",
    "    \n",
    "    color_map = {\n",
    "    \"biob\": \"#cffccc\",\n",
    "    \"bsap\": \"#ccccff\"\n",
    "    }\n",
    "    \n",
    "    for i in df.index:\n",
    "        feature_list = [\n",
    "            GraphicFeature(start = df.loc[i, 'bsap_Rstart'], \n",
    "                           end = df.loc[i, 'bsap_Rend'],\n",
    "                           strand = df.loc[i, 'bsap_strand'],\n",
    "                           color = color_map['bsap'],\n",
    "                           label = df.loc[i, 'ssciname']),\n",
    "            GraphicFeature(start=df.loc[i, 'bsap_Rstart'], \n",
    "                           end=df.loc[i, 'bsap_Rend'],\n",
    "                           strand=df.loc[i, 'biob_strand'],\n",
    "                           color=color_map['biob'],\n",
    "                          label = df.loc[i, 'ssciname'])\n",
    "        ]\n",
    "        \n",
    "        records.append(GraphicRecord(sequence_length=7000, features=feature_list))\n",
    "        \n",
    "    return records\n",
    "\n",
    "        \n",
    "record_list = get_record_list(df)"
   ]
  },
  {
   "cell_type": "code",
   "execution_count": 40,
   "id": "29a7f049",
   "metadata": {},
   "outputs": [
    {
     "data": {
      "text/html": [
       "<div>\n",
       "<style scoped>\n",
       "    .dataframe tbody tr th:only-of-type {\n",
       "        vertical-align: middle;\n",
       "    }\n",
       "\n",
       "    .dataframe tbody tr th {\n",
       "        vertical-align: top;\n",
       "    }\n",
       "\n",
       "    .dataframe thead th {\n",
       "        text-align: right;\n",
       "    }\n",
       "</style>\n",
       "<table border=\"1\" class=\"dataframe\">\n",
       "  <thead>\n",
       "    <tr style=\"text-align: right;\">\n",
       "      <th></th>\n",
       "      <th>ssciname</th>\n",
       "      <th>bsap_strand</th>\n",
       "      <th>bsap_Rstart</th>\n",
       "      <th>bsap_Rend</th>\n",
       "      <th>biob_strand</th>\n",
       "      <th>biob_Rstart</th>\n",
       "      <th>biob_Rend</th>\n",
       "    </tr>\n",
       "  </thead>\n",
       "  <tbody>\n",
       "    <tr>\n",
       "      <th>0</th>\n",
       "      <td>Amycolatopsis pithecellobii</td>\n",
       "      <td>-</td>\n",
       "      <td>0</td>\n",
       "      <td>200</td>\n",
       "      <td>-</td>\n",
       "      <td>197</td>\n",
       "      <td>1213</td>\n",
       "    </tr>\n",
       "    <tr>\n",
       "      <th>1</th>\n",
       "      <td>Actinophytocola xinjiangensis</td>\n",
       "      <td>-</td>\n",
       "      <td>0</td>\n",
       "      <td>203</td>\n",
       "      <td>-</td>\n",
       "      <td>205</td>\n",
       "      <td>1254</td>\n",
       "    </tr>\n",
       "    <tr>\n",
       "      <th>2</th>\n",
       "      <td>Actinokineospora baliensis</td>\n",
       "      <td>-</td>\n",
       "      <td>0</td>\n",
       "      <td>194</td>\n",
       "      <td>-</td>\n",
       "      <td>399</td>\n",
       "      <td>1436</td>\n",
       "    </tr>\n",
       "    <tr>\n",
       "      <th>3</th>\n",
       "      <td>Pseudonocardia sp. MAG106</td>\n",
       "      <td>+</td>\n",
       "      <td>0</td>\n",
       "      <td>0</td>\n",
       "      <td>+</td>\n",
       "      <td>4969</td>\n",
       "      <td>6159</td>\n",
       "    </tr>\n",
       "    <tr>\n",
       "      <th>4</th>\n",
       "      <td>Umezawaea endophytica</td>\n",
       "      <td>-</td>\n",
       "      <td>0</td>\n",
       "      <td>185</td>\n",
       "      <td>-</td>\n",
       "      <td>185</td>\n",
       "      <td>1213</td>\n",
       "    </tr>\n",
       "  </tbody>\n",
       "</table>\n",
       "</div>"
      ],
      "text/plain": [
       "                        ssciname bsap_strand  bsap_Rstart  bsap_Rend  \\\n",
       "0    Amycolatopsis pithecellobii           -            0        200   \n",
       "1  Actinophytocola xinjiangensis           -            0        203   \n",
       "2     Actinokineospora baliensis           -            0        194   \n",
       "3      Pseudonocardia sp. MAG106           +            0          0   \n",
       "4          Umezawaea endophytica           -            0        185   \n",
       "\n",
       "  biob_strand  biob_Rstart  biob_Rend  \n",
       "0           -          197       1213  \n",
       "1           -          205       1254  \n",
       "2           -          399       1436  \n",
       "3           +         4969       6159  \n",
       "4           -          185       1213  "
      ]
     },
     "execution_count": 40,
     "metadata": {},
     "output_type": "execute_result"
    }
   ],
   "source": [
    "df.head()"
   ]
  },
  {
   "cell_type": "code",
   "execution_count": 45,
   "id": "6df25904",
   "metadata": {},
   "outputs": [
    {
     "name": "stderr",
     "output_type": "stream",
     "text": [
      "/Users/nataliethornton/anaconda3/envs/ete/lib/python3.6/site-packages/dna_features_viewer/GraphicRecord/MatplotlibPlottableMixin.py:438: RuntimeWarning: More than 20 figures have been opened. Figures created through the pyplot interface (`matplotlib.pyplot.figure`) are retained until explicitly closed and may consume too much memory. (To control this warning, see the rcParam `figure.max_open_warning`).\n",
      "  fig, ax = plt.subplots(1, figsize=(figure_width, height))\n"
     ]
    },
    {
     "data": {
      "image/png": "[encoded data removed]",
      "text/plain": [
       "<Figure size 576x187.2 with 1 Axes>"
      ]
     },
     "metadata": {},
     "output_type": "display_data"
    },
    {
     "data": {
      "image/png": "[encoded data removed]",
      "text/plain": [
       "<Figure size 576x187.2 with 1 Axes>"
      ]
     },
     "metadata": {},
     "output_type": "display_data"
    },
    {
     "data": {
      "image/png": "[encoded data removed]",
      "text/plain": [
       "<Figure size 576x187.2 with 1 Axes>"
      ]
     },
     "metadata": {},
     "output_type": "display_data"
    },
    {
     "data": {
      "image/png": "[encoded data removed]",
      "text/plain": [
       "<Figure size 576x158.4 with 1 Axes>"
      ]
     },
     "metadata": {},
     "output_type": "display_data"
    },
    {
     "data": {
      "image/png": "[encoded data removed]",
      "text/plain": [
       "<Figure size 576x187.2 with 1 Axes>"
      ]
     },
     "metadata": {},
     "output_type": "display_data"
    },
    {
     "data": {
      "image/png": "[encoded data removed]",
      "text/plain": [
       "<Figure size 576x187.2 with 1 Axes>"
      ]
     },
     "metadata": {},
     "output_type": "display_data"
    },
    {
     "data": {
      "image/png": "[encoded data removed]",
      "text/plain": [
       "<Figure size 576x187.2 with 1 Axes>"
      ]
     },
     "metadata": {},
     "output_type": "display_data"
    },
    {
     "data": {
      "image/png": "[encoded data removed]",
      "text/plain": [
       "<Figure size 576x230.4 with 1 Axes>"
      ]
     },
     "metadata": {},
     "output_type": "display_data"
    },
    {
     "data": {
      "image/png": "[encoded data removed]",
      "text/plain": [
       "<Figure size 576x187.2 with 1 Axes>"
      ]
     },
     "metadata": {},
     "output_type": "display_data"
    },
    {
     "data": {
      "image/png": "[encoded data removed]",
      "text/plain": [
       "<Figure size 576x187.2 with 1 Axes>"
      ]
     },
     "metadata": {},
     "output_type": "display_data"
    },
    {
     "data": {
      "image/png": "[encoded data removed]",
      "text/plain": [
       "<Figure size 576x230.4 with 1 Axes>"
      ]
     },
     "metadata": {},
     "output_type": "display_data"
    },
    {
     "data": {
      "image/png": "[encoded data removed]",
      "text/plain": [
       "<Figure size 576x187.2 with 1 Axes>"
      ]
     },
     "metadata": {},
     "output_type": "display_data"
    },
    {
     "data": {
      "image/png": "[encoded data removed]",
      "text/plain": [
       "<Figure size 576x187.2 with 1 Axes>"
      ]
     },
     "metadata": {},
     "output_type": "display_data"
    },
    {
     "data": {
      "image/png": "[encoded data removed]",
      "text/plain": [
       "<Figure size 576x187.2 with 1 Axes>"
      ]
     },
     "metadata": {},
     "output_type": "display_data"
    },
    {
     "data": {
      "image/png": "[encoded data removed]",
      "text/plain": [
       "<Figure size 576x187.2 with 1 Axes>"
      ]
     },
     "metadata": {},
     "output_type": "display_data"
    },
    {
     "data": {
      "image/png": "[encoded data removed]",
      "text/plain": [
       "<Figure size 576x187.2 with 1 Axes>"
      ]
     },
     "metadata": {},
     "output_type": "display_data"
    },
    {
     "data": {
      "image/png": "[encoded data removed]",
      "text/plain": [
       "<Figure size 576x187.2 with 1 Axes>"
      ]
     },
     "metadata": {},
     "output_type": "display_data"
    },
    {
     "data": {
      "image/png": "[encoded data removed]",
      "text/plain": [
       "<Figure size 576x187.2 with 1 Axes>"
      ]
     },
     "metadata": {},
     "output_type": "display_data"
    },
    {
     "data": {
      "image/png": "[encoded data removed]",
      "text/plain": [
       "<Figure size 576x187.2 with 1 Axes>"
      ]
     },
     "metadata": {},
     "output_type": "display_data"
    },
    {
     "data": {
      "image/png": "[encoded data removed]",
      "text/plain": [
       "<Figure size 576x187.2 with 1 Axes>"
      ]
     },
     "metadata": {},
     "output_type": "display_data"
    },
    {
     "data": {
      "image/png": "[encoded data removed]",
      "text/plain": [
       "<Figure size 576x187.2 with 1 Axes>"
      ]
     },
     "metadata": {},
     "output_type": "display_data"
    },
    {
     "data": {
      "image/png": "[encoded data removed]",
      "text/plain": [
       "<Figure size 576x187.2 with 1 Axes>"
      ]
     },
     "metadata": {},
     "output_type": "display_data"
    },
    {
     "data": {
      "image/png": "[encoded data removed]",
      "text/plain": [
       "<Figure size 576x187.2 with 1 Axes>"
      ]
     },
     "metadata": {},
     "output_type": "display_data"
    },
    {
     "data": {
      "image/png": "[encoded data removed]",
      "text/plain": [
       "<Figure size 576x187.2 with 1 Axes>"
      ]
     },
     "metadata": {},
     "output_type": "display_data"
    },
    {
     "data": {
      "image/png": "[encoded data removed]",
      "text/plain": [
       "<Figure size 576x230.4 with 1 Axes>"
      ]
     },
     "metadata": {},
     "output_type": "display_data"
    },
    {
     "data": {
      "image/png": "[encoded data removed]",
      "text/plain": [
       "<Figure size 576x187.2 with 1 Axes>"
      ]
     },
     "metadata": {},
     "output_type": "display_data"
    },
    {
     "data": {
      "image/png": "[encoded data removed]",
      "text/plain": [
       "<Figure size 576x187.2 with 1 Axes>"
      ]
     },
     "metadata": {},
     "output_type": "display_data"
    },
    {
     "data": {
      "image/png": "[encoded data removed]",
      "text/plain": [
       "<Figure size 576x187.2 with 1 Axes>"
      ]
     },
     "metadata": {},
     "output_type": "display_data"
    },
    {
     "data": {
      "image/png": "[encoded data removed]",
      "text/plain": [
       "<Figure size 576x187.2 with 1 Axes>"
      ]
     },
     "metadata": {},
     "output_type": "display_data"
    },
    {
     "data": {
      "image/png": "[encoded data removed]",
      "text/plain": [
       "<Figure size 576x187.2 with 1 Axes>"
      ]
     },
     "metadata": {},
     "output_type": "display_data"
    },
    {
     "data": {
      "image/png": "[encoded data removed]",
      "text/plain": [
       "<Figure size 576x230.4 with 1 Axes>"
      ]
     },
     "metadata": {},
     "output_type": "display_data"
    },
    {
     "data": {
      "image/png": "[encoded data removed]",
      "text/plain": [
       "<Figure size 576x187.2 with 1 Axes>"
      ]
     },
     "metadata": {},
     "output_type": "display_data"
    },
    {
     "data": {
      "image/png": "[encoded data removed]",
      "text/plain": [
       "<Figure size 576x187.2 with 1 Axes>"
      ]
     },
     "metadata": {},
     "output_type": "display_data"
    },
    {
     "data": {
      "image/png": "[encoded data removed]",
      "text/plain": [
       "<Figure size 576x187.2 with 1 Axes>"
      ]
     },
     "metadata": {},
     "output_type": "display_data"
    },
    {
     "data": {
      "image/png": "[encoded data removed]",
      "text/plain": [
       "<Figure size 576x230.4 with 1 Axes>"
      ]
     },
     "metadata": {},
     "output_type": "display_data"
    },
    {
     "data": {
      "image/png": "[encoded data removed]",
      "text/plain": [
       "<Figure size 576x187.2 with 1 Axes>"
      ]
     },
     "metadata": {},
     "output_type": "display_data"
    },
    {
     "data": {
      "image/png": "[encoded data removed]",
      "text/plain": [
       "<Figure size 576x187.2 with 1 Axes>"
      ]
     },
     "metadata": {},
     "output_type": "display_data"
    },
    {
     "data": {
      "image/png": "[encoded data removed]",
      "text/plain": [
       "<Figure size 576x230.4 with 1 Axes>"
      ]
     },
     "metadata": {},
     "output_type": "display_data"
    },
    {
     "data": {
      "image/png": "[encoded data removed]",
      "text/plain": [
       "<Figure size 576x187.2 with 1 Axes>"
      ]
     },
     "metadata": {},
     "output_type": "display_data"
    },
    {
     "data": {
      "image/png": "[encoded data removed]",
      "text/plain": [
       "<Figure size 576x187.2 with 1 Axes>"
      ]
     },
     "metadata": {},
     "output_type": "display_data"
    },
    {
     "data": {
      "image/png": "[encoded data removed]",
      "text/plain": [
       "<Figure size 576x187.2 with 1 Axes>"
      ]
     },
     "metadata": {},
     "output_type": "display_data"
    },
    {
     "data": {
      "image/png": "[encoded data removed]",
      "text/plain": [
       "<Figure size 576x230.4 with 1 Axes>"
      ]
     },
     "metadata": {},
     "output_type": "display_data"
    },
    {
     "data": {
      "image/png": "[encoded data removed]",
      "text/plain": [
       "<Figure size 576x230.4 with 1 Axes>"
      ]
     },
     "metadata": {},
     "output_type": "display_data"
    },
    {
     "data": {
      "image/png": "[encoded data removed]",
      "text/plain": [
       "<Figure size 576x187.2 with 1 Axes>"
      ]
     },
     "metadata": {},
     "output_type": "display_data"
    },
    {
     "data": {
      "image/png": "[encoded data removed]",
      "text/plain": [
       "<Figure size 576x187.2 with 1 Axes>"
      ]
     },
     "metadata": {},
     "output_type": "display_data"
    },
    {
     "data": {
      "image/png": "[encoded data removed]",
      "text/plain": [
       "<Figure size 576x230.4 with 1 Axes>"
      ]
     },
     "metadata": {},
     "output_type": "display_data"
    }
   ],
   "source": [
    "\n",
    "# features=[\n",
    "#     GraphicFeature(start=0, end=20, strand=+1, color=\"#ffd700\",\n",
    "#                    label=\"Small feature\"),\n",
    "#     GraphicFeature(start=20, end=500, strand=+1, color=\"#ffcccc\",\n",
    "#                    label=\"Gene 1 with a very long name\"),\n",
    "#     GraphicFeature(start=400, end=700, strand=-1, color=\"#cffccc\",\n",
    "#                    label=\"Gene 2\"),\n",
    "#     GraphicFeature(start=600, end=900, strand=+1, color=\"#ccccff\",\n",
    "#                    label=\"Gene 3\")\n",
    "# ]\n",
    "\n",
    "# record = GraphicRecord(sequence_length=7000, features=feature_list)\n",
    "# record.plot()\n",
    "\n",
    "for rec in record_list:\n",
    "    rec.plot()\n"
   ]
  },
  {
   "cell_type": "code",
   "execution_count": null,
   "id": "ef3815a8",
   "metadata": {},
   "outputs": [],
   "source": []
  }
 ],
 "metadata": {
  "kernelspec": {
   "display_name": "Python 3 (ipykernel)",
   "language": "python",
   "name": "python3"
  },
  "language_info": {
   "codemirror_mode": {
    "name": "ipython",
    "version": 3
   },
   "file_extension": ".py",
   "mimetype": "text/x-python",
   "name": "python",
   "nbconvert_exporter": "python",
   "pygments_lexer": "ipython3",
   "version": "3.8.11"
  }
 },
 "nbformat": 4,
 "nbformat_minor": 5
}
