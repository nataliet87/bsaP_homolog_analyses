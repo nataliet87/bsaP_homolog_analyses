{
 "cells": [
  {
   "cell_type": "code",
   "execution_count": 3,
   "id": "560a2861",
   "metadata": {
    "executionInfo": {
     "elapsed": 8,
     "status": "ok",
     "timestamp": 1696453338073,
     "user": {
      "displayName": "Natalie",
      "userId": "12056772489247444267"
     },
     "user_tz": 240
    },
    "id": "8888a6f5"
   },
   "outputs": [],
   "source": [
    "import pandas as pd\n",
    "import numpy as np\n",
    "import os\n",
    "\n",
    "from Bio import SeqIO\n",
    "from Bio.SeqRecord import SeqRecord\n",
    "from Bio.Seq import Seq"
   ]
  },
  {
   "cell_type": "code",
   "execution_count": null,
   "id": "abe82a54",
   "metadata": {
    "id": "b3775097"
   },
   "outputs": [],
   "source": [
    "def write_df_to_fasta(df, seq_col, name_col, fasta_out_path):\n",
    "\n",
    "    sequences = []\n",
    "\n",
    "    for i in df.index:\n",
    "\n",
    "        seq_id = df.loc[i, name_col].replace(\" \", \"_\")\n",
    "\n",
    "        # sequences.append(SeqRecord(Seq(df.loc[i, seq_col]), id=seq_id, description=\"\"))\n",
    "        sequences.append(SeqRecord(df.loc[i, seq_col], id=seq_id, description=\"\"))\n",
    "\n",
    "    with open(fasta_out_path, \"w\") as output_handle:\n",
    "        SeqIO.write(sequences, output_handle, \"fasta\")\n",
    "\n",
    "    return\n",
    "\n",
    "\n",
    "def read_in_fasta(fasta_path):\n",
    "    seqs = []\n",
    "\n",
    "    for record in SeqIO.parse(fasta_path, \"fasta\"):\n",
    "\n",
    "        seqs.append([record.id, record.seq])\n",
    "\n",
    "    seqs = pd.DataFrame(seqs, columns=['id', 'seq'])\n",
    "\n",
    "    return seqs"
   ]
  },
  {
   "cell_type": "markdown",
   "id": "d99e7145",
   "metadata": {
    "id": "3f33ba2a-c40b-4a44-a530-1c4fdeb978f3"
   },
   "source": [
    "## Get Kingdom level biob dataset and sample down to n=1000:"
   ]
  },
  {
   "cell_type": "code",
   "execution_count": null,
   "id": "fbec2f10",
   "metadata": {
    "id": "b7508dda"
   },
   "outputs": [],
   "source": [
    "df = pd.read_csv(\"motif/Bacteria_bvbrc_genomes.csv\")\n",
    "\n",
    "df = df[['Genome ID', 'Genome Name', 'NCBI Taxon ID', 'Kingdom', 'Phylum', 'Class', 'Order', 'Family', 'Genus', 'Genome Status', 'Reference', 'BioProject Accession']]\n",
    "df = df.dropna(subset=['Kingdom'])\n",
    "\n",
    "# df.to_csv(\"motif/bacteria_bvbrc_genomes_cleaned.csv\", index=None)\n",
    "# df[['NCBI Taxon ID']].to_csv(\"motif/bacteria_bvbrc_genomes_cleaned_taxid_list\", index=None, header=None)"
   ]
  },
  {
   "cell_type": "code",
   "execution_count": null,
   "id": "bf06c459",
   "metadata": {
    "id": "855f2832-1aaf-430b-b1cd-53e182573d69"
   },
   "outputs": [],
   "source": [
    "ncbi_taxid_dict = df[['Genome ID', 'NCBI Taxon ID']].set_index('Genome ID').to_dict()['NCBI Taxon ID']"
   ]
  },
  {
   "cell_type": "code",
   "execution_count": null,
   "id": "30f17bc0",
   "metadata": {
    "id": "40812a57"
   },
   "outputs": [],
   "source": [
    "biob = pd.read_csv(\"motif_prev/PGF_01400330_family_feature_list_full_seq.tsv\", delimiter=\"\\t\")"
   ]
  },
  {
   "cell_type": "code",
   "execution_count": null,
   "id": "1938a991",
   "metadata": {
    "id": "5e7a67d4"
   },
   "outputs": [],
   "source": [
    "biob = biob.merge(df[['Genome ID', 'Phylum', 'Class', 'Order', 'Family', 'Genus']], left_on='feature.genome_id', right_on='Genome ID', how='inner')\n",
    "biob = biob.drop_duplicates(subset=['Genome ID'])\n",
    "\n",
    "biob = biob.dropna(subset=['feature.na_sequence'])\n",
    "biob = biob[biob['feature.na_sequence'].apply(len) > 500]\n",
    "\n",
    "biob['class_weight'] = biob['Class'].map(biob['Class'].value_counts().to_dict())"
   ]
  },
  {
   "cell_type": "code",
   "execution_count": null,
   "id": "28e4f7a3",
   "metadata": {
    "id": "92991cec"
   },
   "outputs": [],
   "source": [
    "# biob_subset = biob.sample(n=1000, weights='class_weight')\n",
    "\n",
    "# biob_subset['feature.genome_name'] = biob_subset['feature.genome_name'].str.replace(\" strain Not applicable\", \"\")\n",
    "# biob_subset['feature.genome_name'] = biob_subset['feature.genome_name'].str.replace(\" strain not applicable\", \"\")\n",
    "\n",
    "# biob_subset['name'] = biob_subset['feature.genome_name'].str.replace(\" \", \"_\")\n",
    "\n",
    "# write_df_to_fasta(biob_subset, 'feature.aa_sequence', 'name', 'motif/bacteria_subset1000_biob_aa.fasta')"
   ]
  },
  {
   "cell_type": "code",
   "execution_count": null,
   "id": "104e9891",
   "metadata": {
    "id": "2db23e1e"
   },
   "outputs": [],
   "source": []
  },
  {
   "cell_type": "code",
   "execution_count": null,
   "id": "1a917742",
   "metadata": {
    "id": "8761bf20"
   },
   "outputs": [],
   "source": [
    "biob_subset = read_in_fasta(\"motif/bacteria_subset1000_biob_aa.fasta\")"
   ]
  },
  {
   "cell_type": "code",
   "execution_count": null,
   "id": "5b3b254b",
   "metadata": {
    "id": "7066272c-790f-4537-841f-f230456ad4cd"
   },
   "outputs": [],
   "source": [
    "biob['id'] = biob['feature.genome_name'].str.replace(\" strain Not applicable\", \"\")\n",
    "biob['id'] = biob['id'].str.replace(\" strain not applicable\", \"\")\n",
    "\n",
    "biob['id'] = biob['id'].str.replace(\" \", \"_\")"
   ]
  },
  {
   "cell_type": "code",
   "execution_count": null,
   "id": "abb6acba",
   "metadata": {
    "id": "756a3746-9b99-4d3d-9b32-1c2879e14436"
   },
   "outputs": [],
   "source": [
    "biob_subset = biob.merge(biob_subset, how='right', on='id').drop(columns=['feature.na_sequence', 'feature.aa_sequence', 'feature.genome_id', 'family'])"
   ]
  },
  {
   "cell_type": "code",
   "execution_count": null,
   "id": "4290c91f",
   "metadata": {
    "id": "9b4d2958-b632-4320-bb84-8a5787abf31d"
   },
   "outputs": [],
   "source": [
    "# biob_subset.to_csv(\"motif/bacteria_subset1000_biob_metadata.csv\", index=False)"
   ]
  },
  {
   "cell_type": "code",
   "execution_count": null,
   "id": "a770fc94",
   "metadata": {
    "id": "1feff216-3182-470c-951a-af41ecdde908"
   },
   "outputs": [],
   "source": [
    "# biob_subset[['id', 'Family']].to_csv(\"motif/bacteria_subset1000_family_lm.csv\", index=False)"
   ]
  },
  {
   "cell_type": "code",
   "execution_count": null,
   "id": "e2646c90",
   "metadata": {
    "id": "a5bc245e"
   },
   "outputs": [],
   "source": []
  },
  {
   "cell_type": "markdown",
   "id": "2b4f6ea4",
   "metadata": {
    "id": "fc3819f6-5e82-4f7c-96a4-cd414f3783a4"
   },
   "source": [
    "## filter biob subset by treemmer 500x and 200x lists and write new fastas:"
   ]
  },
  {
   "cell_type": "code",
   "execution_count": null,
   "id": "f78eeeba",
   "metadata": {
    "id": "7751c594-9712-454e-aafb-d757a2a5acfa"
   },
   "outputs": [],
   "source": [
    "x500 = pd.read_csv(\"motif/bacteria_subset1000_biob_aa2.msa.contree_trimmed_list_X_500\", names=['id'])\n",
    "x200 = pd.read_csv(\"motif/bacteria_subset1000_biob_aa2.msa.contree_trimmed_list_X_200\", names=['id'])"
   ]
  },
  {
   "cell_type": "code",
   "execution_count": null,
   "id": "6735ca52",
   "metadata": {
    "id": "8d9c4297-da90-4475-9a62-e411391a1cd7"
   },
   "outputs": [],
   "source": [
    "x500 = biob_subset[biob_subset['id'].isin(x500['id'])]\n",
    "x200 = biob_subset[biob_subset['id'].isin(x200['id'])]"
   ]
  },
  {
   "cell_type": "code",
   "execution_count": null,
   "id": "297b728c",
   "metadata": {
    "id": "f8bac30f-cff9-4aef-a094-181283451479",
    "outputId": "4049875b-2824-4222-e9dd-79d3c48f3ae3"
   },
   "outputs": [
    {
     "data": {
      "text/html": [
       "<div>\n",
       "<style scoped>\n",
       "    .dataframe tbody tr th:only-of-type {\n",
       "        vertical-align: middle;\n",
       "    }\n",
       "\n",
       "    .dataframe tbody tr th {\n",
       "        vertical-align: top;\n",
       "    }\n",
       "\n",
       "    .dataframe thead th {\n",
       "        text-align: right;\n",
       "    }\n",
       "</style>\n",
       "<table border=\"1\" class=\"dataframe\">\n",
       "  <thead>\n",
       "    <tr style=\"text-align: right;\">\n",
       "      <th></th>\n",
       "      <th>id</th>\n",
       "      <th>seq</th>\n",
       "    </tr>\n",
       "  </thead>\n",
       "  <tbody>\n",
       "    <tr>\n",
       "      <th>11</th>\n",
       "      <td>Hydrogenophaga_pseudoflava_strain_DSM_1084</td>\n",
       "      <td>(M, N, H, I, A, E, A, P, V, T, L, H, R, P, A, ...</td>\n",
       "    </tr>\n",
       "    <tr>\n",
       "      <th>12</th>\n",
       "      <td>Thioalkalivibrio_sulfidophilus_HL-EbGr7</td>\n",
       "      <td>(M, S, P, A, S, P, M, S, E, I, R, H, D, W, Q, ...</td>\n",
       "    </tr>\n",
       "    <tr>\n",
       "      <th>19</th>\n",
       "      <td>Nocardiopsis_gilva_YIM_90087</td>\n",
       "      <td>(M, I, F, V, M, V, K, F, D, A, L, A, D, K, A, ...</td>\n",
       "    </tr>\n",
       "    <tr>\n",
       "      <th>22</th>\n",
       "      <td>Candidatus_Methylospira_mobilis_strain_Shm1</td>\n",
       "      <td>(M, L, I, R, S, I, D, A, D, E, A, T, G, C, V, ...</td>\n",
       "    </tr>\n",
       "    <tr>\n",
       "      <th>23</th>\n",
       "      <td>Thiomicrorhabdus_sp._13-15A</td>\n",
       "      <td>(M, S, E, N, A, Q, T, S, Q, I, G, Q, I, R, H, ...</td>\n",
       "    </tr>\n",
       "  </tbody>\n",
       "</table>\n",
       "</div>"
      ],
      "text/plain": [
       "                                             id  \\\n",
       "11   Hydrogenophaga_pseudoflava_strain_DSM_1084   \n",
       "12      Thioalkalivibrio_sulfidophilus_HL-EbGr7   \n",
       "19                 Nocardiopsis_gilva_YIM_90087   \n",
       "22  Candidatus_Methylospira_mobilis_strain_Shm1   \n",
       "23                  Thiomicrorhabdus_sp._13-15A   \n",
       "\n",
       "                                                  seq  \n",
       "11  (M, N, H, I, A, E, A, P, V, T, L, H, R, P, A, ...  \n",
       "12  (M, S, P, A, S, P, M, S, E, I, R, H, D, W, Q, ...  \n",
       "19  (M, I, F, V, M, V, K, F, D, A, L, A, D, K, A, ...  \n",
       "22  (M, L, I, R, S, I, D, A, D, E, A, T, G, C, V, ...  \n",
       "23  (M, S, E, N, A, Q, T, S, Q, I, G, Q, I, R, H, ...  "
      ]
     },
     "execution_count": 15,
     "metadata": {},
     "output_type": "execute_result"
    }
   ],
   "source": [
    "x200[['id', 'seq']].head()"
   ]
  },
  {
   "cell_type": "code",
   "execution_count": null,
   "id": "3574406c",
   "metadata": {
    "id": "f3ac5fca-a026-45b1-9d92-d52e743413fd"
   },
   "outputs": [],
   "source": [
    "# write_df_to_fasta(x500, 'seq', 'id', 'motif/bacteria_subset500_biob_aa.fasta')\n",
    "# write_df_to_fasta(x200, 'seq', 'id', 'motif/bacteria_subset200_biob_aa.fasta')"
   ]
  },
  {
   "cell_type": "code",
   "execution_count": null,
   "id": "a6af9367",
   "metadata": {
    "id": "95ea1b5c-d700-4bc4-9ef5-bd7f5e5bbd24"
   },
   "outputs": [],
   "source": []
  },
  {
   "cell_type": "code",
   "execution_count": null,
   "id": "e64bf274",
   "metadata": {
    "id": "0776b0c0-cb31-4a05-9b77-188c39121261"
   },
   "outputs": [],
   "source": []
  },
  {
   "cell_type": "markdown",
   "id": "aa83e7ee",
   "metadata": {
    "id": "b1f7fc1a-6aab-49a7-9f64-70008475d7b3"
   },
   "source": [
    "## setup bsap independent/dependent categorization"
   ]
  },
  {
   "cell_type": "code",
   "execution_count": null,
   "id": "592cbf46",
   "metadata": {
    "id": "be2ba14c-25dd-48cb-b7a2-cd233c854750"
   },
   "outputs": [],
   "source": [
    "blast_cols = ['seqid', 'evalue', 'bitscore', 'pident', 'length', 'staxid', 'ssname', 'scomname', 'sstart', 'ssend', 'sseq']\n",
    "\n",
    "bsap_hits = pd.read_csv(\"motif/bsap_bvbrc_blastn_hits_1Oct2023.tsv\", delimiter=\"\\t\", names=blast_cols, index_col=False)\n",
    "biob_hits = pd.read_csv(\"motif/biob_bvbrc_blastn_hits_3Oct2023.tsv\", delimiter=\"\\t\", names=blast_cols, index_col=False)\n",
    "\n",
    "bsap_hits = bsap_hits[ (bsap_hits['length'] > 75) & (bsap_hits['pident'] > 50) ]\n",
    "biob_hits = biob_hits[ (biob_hits['length'] > 100) ]"
   ]
  },
  {
   "cell_type": "code",
   "execution_count": null,
   "id": "229b15a2",
   "metadata": {
    "id": "26eacf9d-db44-4d90-913d-d74202f06cac"
   },
   "outputs": [],
   "source": [
    "biob_subset['staxid'] = biob_subset['Genome ID'].map(ncbi_taxid_dict)"
   ]
  },
  {
   "cell_type": "code",
   "execution_count": null,
   "id": "f10f85ef",
   "metadata": {
    "id": "0496ae68-ebc2-4b7d-83ca-7f0e1c38d683"
   },
   "outputs": [],
   "source": [
    "cols_to_merge = ['pident', 'length', 'staxid', 'ssname', 'sstart', 'ssend']\n",
    "bsap_hits = biob_hits[cols_to_merge].merge(bsap_hits[cols_to_merge], how='inner', on='staxid', suffixes=(\"_biob\", \"_bsap\"))"
   ]
  },
  {
   "cell_type": "code",
   "execution_count": null,
   "id": "2a6ba7b5",
   "metadata": {
    "id": "bf171dca-25fb-414c-8abd-67a963fa72bc"
   },
   "outputs": [],
   "source": [
    "def get_feature_proximity(row):\n",
    "    bsap_start = min(row.sstart_bsap, row.ssend_bsap)\n",
    "    bsap_end = max(row.sstart_bsap, row.ssend_bsap)\n",
    "\n",
    "    biob_start = min(row.sstart_biob, row.ssend_biob)\n",
    "    biob_end = max(row.sstart_biob, row.ssend_biob)\n",
    "\n",
    "\n",
    "    if biob_start < bsap_start:\n",
    "        prox = biob_start - biob_end\n",
    "\n",
    "    elif bsap_start <= biob_start:\n",
    "        prox = biob_start - bsap_end\n",
    "\n",
    "    return prox\n"
   ]
  },
  {
   "cell_type": "code",
   "execution_count": null,
   "id": "616ff06d",
   "metadata": {
    "id": "9060a113-44eb-4c0d-9fd6-c36306351028"
   },
   "outputs": [],
   "source": [
    "bsap_hits['proximity'] = bsap_hits.apply(get_feature_proximity, axis=1)"
   ]
  },
  {
   "cell_type": "code",
   "execution_count": null,
   "id": "74ed8990",
   "metadata": {
    "id": "4c60152d-04f9-4794-b3b1-647b2bb12938"
   },
   "outputs": [],
   "source": [
    "bsap_hits = bsap_hits[bsap_hits['proximity'] < 1000]"
   ]
  },
  {
   "cell_type": "code",
   "execution_count": null,
   "id": "db851d25",
   "metadata": {
    "id": "c61ab87a-8425-4ca4-9f9c-93a8bd9d0df3",
    "outputId": "bfcc5d7a-ea31-4ce4-d578-23c92e9c6604"
   },
   "outputs": [
    {
     "data": {
      "text/plain": [
       "Index(['pident_biob', 'length_biob', 'staxid', 'ssname_biob', 'sstart_biob',\n",
       "       'ssend_biob', 'pident_bsap', 'length_bsap', 'ssname_bsap',\n",
       "       'sstart_bsap', 'ssend_bsap', 'proximity'],\n",
       "      dtype='object')"
      ]
     },
     "execution_count": 90,
     "metadata": {},
     "output_type": "execute_result"
    }
   ],
   "source": [
    "bsap_hits.columns"
   ]
  },
  {
   "cell_type": "code",
   "execution_count": null,
   "id": "c196ba49",
   "metadata": {
    "id": "6a54e8c9-aa7a-42a4-a949-9c717e0564a6"
   },
   "outputs": [],
   "source": [
    "biob_subset['type'] = 'ind'\n",
    "biob_subset.loc[biob_subset['staxid'].isin(bsap_hits['staxid']), 'type'] = 'dep'"
   ]
  },
  {
   "cell_type": "code",
   "execution_count": null,
   "id": "aa7f1f28",
   "metadata": {
    "id": "9cda3371-fc83-41ad-81c6-bd7f1e638c3b",
    "outputId": "c81d0273-04e4-4d85-d136-2afd078382ba"
   },
   "outputs": [
    {
     "data": {
      "text/plain": [
       "type\n",
       "ind    931\n",
       "dep     69\n",
       "Name: count, dtype: int64"
      ]
     },
     "execution_count": 93,
     "metadata": {},
     "output_type": "execute_result"
    }
   ],
   "source": [
    "biob_subset['type'].value_counts()"
   ]
  },
  {
   "cell_type": "code",
   "execution_count": null,
   "id": "f7c35bb2",
   "metadata": {
    "id": "80364e17-1965-4e9c-9d4c-8d225b12baa4"
   },
   "outputs": [],
   "source": [
    "biob_subset[['id', 'type']].to_csv('motif/biob_subset1000_species_type.csv', index=False)"
   ]
  },
  {
   "cell_type": "markdown",
   "id": "55982f64",
   "metadata": {
    "id": "a97be89a-cb00-4fe6-ba14-c87f4830130f"
   },
   "source": [
    "## seperate x200 and x500 datasets into independent and dependent msa files"
   ]
  },
  {
   "cell_type": "code",
   "execution_count": null,
   "id": "7c391148",
   "metadata": {
    "id": "29a3e445-aee6-46ce-94b5-4eec7c9a31d2"
   },
   "outputs": [],
   "source": [
    "dep_species_list = biob_subset[biob_subset['type'] == 'dep']['id'].tolist()"
   ]
  },
  {
   "cell_type": "code",
   "execution_count": null,
   "id": "0b346615",
   "metadata": {
    "id": "4c1d4c9b-5b79-45cc-ac30-500fce0ddc58",
    "outputId": "d3b91af4-e720-467e-efeb-b64759f51606"
   },
   "outputs": [
    {
     "data": {
      "text/plain": [
       "(12, 11)"
      ]
     },
     "execution_count": 108,
     "metadata": {},
     "output_type": "execute_result"
    }
   ],
   "source": [
    "x500[x500['id'].isin(dep_species_list)].shape"
   ]
  },
  {
   "cell_type": "code",
   "execution_count": null,
   "id": "b0a3320c",
   "metadata": {
    "id": "d552045c-1248-4786-bde3-8db6182b04be",
    "outputId": "129f7214-e220-4f88-9891-bc5fdc61fc1b"
   },
   "outputs": [
    {
     "data": {
      "text/plain": [
       "(2, 11)"
      ]
     },
     "execution_count": 109,
     "metadata": {},
     "output_type": "execute_result"
    }
   ],
   "source": [
    "x200[x200['id'].isin(dep_species_list)].shape"
   ]
  },
  {
   "cell_type": "code",
   "execution_count": null,
   "id": "d6b0e7a0",
   "metadata": {
    "id": "55a3e7c2-ec4e-4e5a-9c2e-820752f11bbd"
   },
   "outputs": [],
   "source": [
    "x503 = read_in_fasta(\"motif/bacteria_subset503_biob_aa.msa\")"
   ]
  },
  {
   "cell_type": "code",
   "execution_count": null,
   "id": "ee4ecf3e",
   "metadata": {
    "id": "99b80c70-8f00-40c7-aa05-4aeedf94772e"
   },
   "outputs": [],
   "source": [
    "write_df_to_fasta(x503[x503['id'].isin(dep_species_list)], 'seq', 'id', 'motif/bacteria_subset503_biob_dependent_aa.msa')\n",
    "write_df_to_fasta(x503[~x503['id'].isin(dep_species_list)], 'seq', 'id', 'motif/bacteria_subset503_biob_independent_aa.msa')"
   ]
  },
  {
   "cell_type": "code",
   "execution_count": null,
   "id": "d88a1c48",
   "metadata": {
    "id": "3e8360a3-8d9e-47eb-b887-358846936ccc",
    "outputId": "d0a42d8f-5fb5-4ea0-c5bc-f440f1bbe4b0"
   },
   "outputs": [
    {
     "data": {
      "text/plain": [
       "Index(['feature.genome_name', 'feature.patric_id', 'Genome ID', 'Phylum',\n",
       "       'Class', 'Order', 'Family', 'Genus', 'class_weight', 'id', 'seq',\n",
       "       'staxid', 'type'],\n",
       "      dtype='object')"
      ]
     },
     "execution_count": 124,
     "metadata": {},
     "output_type": "execute_result"
    }
   ],
   "source": [
    "# biob_subset.append()\n"
   ]
  },
  {
   "cell_type": "code",
   "execution_count": null,
   "id": "4f857952",
   "metadata": {
    "id": "c7dbd64b-b0c6-442b-abdb-c3c36e6591e8"
   },
   "outputs": [],
   "source": []
  },
  {
   "cell_type": "code",
   "execution_count": null,
   "id": "bdeab9fe",
   "metadata": {
    "id": "0026e49c-25c7-47a3-8781-e8457f432a85"
   },
   "outputs": [],
   "source": [
    "# write_df_to_fasta(x500, 'seq', 'id', 'motif/bacteria_subset500_biob_aa.fasta')\n",
    "# write_df_to_fasta(x200, 'seq', 'id', 'motif/bacteria_subset200_biob_aa.fasta')"
   ]
  },
  {
   "cell_type": "markdown",
   "id": "88b4d8ee",
   "metadata": {
    "id": "61cc772a-d47b-40c0-8524-dcec2cf9c5ed"
   },
   "source": [
    "## set up labeling files for subset300 (for whitch bacteria x200 was cat-ted with a n100 subset of bsap-dependent biob copies:"
   ]
  },
  {
   "cell_type": "code",
   "execution_count": 4,
   "id": "8da7e117",
   "metadata": {
    "executionInfo": {
     "elapsed": 5,
     "status": "ok",
     "timestamp": 1696453358647,
     "user": {
      "displayName": "Natalie",
      "userId": "12056772489247444267"
     },
     "user_tz": 240
    },
    "id": "dIf1nJB0fu0l"
   },
   "outputs": [],
   "source": [
    "import pandas as pd\n",
    "import os\n",
    "from google.colab import drive\n"
   ]
  },
  {
   "cell_type": "code",
   "execution_count": 8,
   "id": "8ac45953",
   "metadata": {
    "colab": {
     "base_uri": "https://localhost:8080/"
    },
    "executionInfo": {
     "elapsed": 27878,
     "status": "ok",
     "timestamp": 1696453486370,
     "user": {
      "displayName": "Natalie",
      "userId": "12056772489247444267"
     },
     "user_tz": 240
    },
    "id": "Pz2HmkHhgIX2",
    "outputId": "11f199d0-bf8a-46e2-8af6-2ff0ed1028e9"
   },
   "outputs": [
    {
     "name": "stdout",
     "output_type": "stream",
     "text": [
      "Mounted at /content/drive\n"
     ]
    }
   ],
   "source": [
    "\n",
    "drive.mount('/content/drive')\n"
   ]
  },
  {
   "cell_type": "code",
   "execution_count": 14,
   "id": "7b68f47d",
   "metadata": {
    "executionInfo": {
     "elapsed": 2475,
     "status": "ok",
     "timestamp": 1696453740435,
     "user": {
      "displayName": "Natalie",
      "userId": "12056772489247444267"
     },
     "user_tz": 240
    },
    "id": "P3qUp76Wfw5O"
   },
   "outputs": [],
   "source": [
    "x300 = pd.read_csv(\"/content/drive/MyDrive/seds_final_files/bsaP_homology/motif/bacteria_subset300_type.csv\")\n",
    "dep = pd.read_csv(\"/content/drive/MyDrive/seds_final_files/bsaP_homology/motif/biob_merged_subset200_annotation_filter3.csv\")"
   ]
  },
  {
   "cell_type": "code",
   "execution_count": 16,
   "id": "89ec73dd",
   "metadata": {
    "colab": {
     "base_uri": "https://localhost:8080/",
     "height": 206
    },
    "executionInfo": {
     "elapsed": 27,
     "status": "ok",
     "timestamp": 1696453756614,
     "user": {
      "displayName": "Natalie",
      "userId": "12056772489247444267"
     },
     "user_tz": 240
    },
    "id": "pbCgAMiCheRR",
    "outputId": "19bd62a7-c2a5-4b3b-c146-62a9c75f7a1e"
   },
   "outputs": [
    {
     "data": {
      "text/html": [
       "\n",
       "  <div id=\"df-faa0760a-1c65-478e-828c-3c5e8c68725b\" class=\"colab-df-container\">\n",
       "    <div>\n",
       "<style scoped>\n",
       "    .dataframe tbody tr th:only-of-type {\n",
       "        vertical-align: middle;\n",
       "    }\n",
       "\n",
       "    .dataframe tbody tr th {\n",
       "        vertical-align: top;\n",
       "    }\n",
       "\n",
       "    .dataframe thead th {\n",
       "        text-align: right;\n",
       "    }\n",
       "</style>\n",
       "<table border=\"1\" class=\"dataframe\">\n",
       "  <thead>\n",
       "    <tr style=\"text-align: right;\">\n",
       "      <th></th>\n",
       "      <th>Unnamed: 0</th>\n",
       "      <th>id</th>\n",
       "      <th>type</th>\n",
       "    </tr>\n",
       "  </thead>\n",
       "  <tbody>\n",
       "    <tr>\n",
       "      <th>0</th>\n",
       "      <td>0</td>\n",
       "      <td>Lawsonella_clevelandensis_strain_X1036</td>\n",
       "      <td>ind</td>\n",
       "    </tr>\n",
       "    <tr>\n",
       "      <th>1</th>\n",
       "      <td>1</td>\n",
       "      <td>Corynebacterium_terpenotabidum_Y-11</td>\n",
       "      <td>dep</td>\n",
       "    </tr>\n",
       "    <tr>\n",
       "      <th>2</th>\n",
       "      <td>2</td>\n",
       "      <td>Corynebacterium_variabile_strain_NBRC_15286</td>\n",
       "      <td>dep</td>\n",
       "    </tr>\n",
       "    <tr>\n",
       "      <th>3</th>\n",
       "      <td>3</td>\n",
       "      <td>Mycobacterium_terrae_strain_NCTC10856</td>\n",
       "      <td>dep</td>\n",
       "    </tr>\n",
       "    <tr>\n",
       "      <th>4</th>\n",
       "      <td>4</td>\n",
       "      <td>Corynebacterium_sp._Sa1YVA5</td>\n",
       "      <td>dep</td>\n",
       "    </tr>\n",
       "  </tbody>\n",
       "</table>\n",
       "</div>\n",
       "    <div class=\"colab-df-buttons\">\n",
       "\n",
       "  <div class=\"colab-df-container\">\n",
       "    <button class=\"colab-df-convert\" onclick=\"convertToInteractive('df-faa0760a-1c65-478e-828c-3c5e8c68725b')\"\n",
       "            title=\"Convert this dataframe to an interactive table.\"\n",
       "            style=\"display:none;\">\n",
       "\n",
       "  <svg xmlns=\"http://www.w3.org/2000/svg\" height=\"24px\" viewBox=\"0 -960 960 960\">\n",
       "    <path d=\"M120-120v-720h720v720H120Zm60-500h600v-160H180v160Zm220 220h160v-160H400v160Zm0 220h160v-160H400v160ZM180-400h160v-160H180v160Zm440 0h160v-160H620v160ZM180-180h160v-160H180v160Zm440 0h160v-160H620v160Z\"/>\n",
       "  </svg>\n",
       "    </button>\n",
       "\n",
       "  <style>\n",
       "    .colab-df-container {\n",
       "      display:flex;\n",
       "      gap: 12px;\n",
       "    }\n",
       "\n",
       "    .colab-df-convert {\n",
       "      background-color: #E8F0FE;\n",
       "      border: none;\n",
       "      border-radius: 50%;\n",
       "      cursor: pointer;\n",
       "      display: none;\n",
       "      fill: #1967D2;\n",
       "      height: 32px;\n",
       "      padding: 0 0 0 0;\n",
       "      width: 32px;\n",
       "    }\n",
       "\n",
       "    .colab-df-convert:hover {\n",
       "      background-color: #E2EBFA;\n",
       "      box-shadow: 0px 1px 2px rgba(60, 64, 67, 0.3), 0px 1px 3px 1px rgba(60, 64, 67, 0.15);\n",
       "      fill: #174EA6;\n",
       "    }\n",
       "\n",
       "    .colab-df-buttons div {\n",
       "      margin-bottom: 4px;\n",
       "    }\n",
       "\n",
       "    [theme=dark] .colab-df-convert {\n",
       "      background-color: #3B4455;\n",
       "      fill: #D2E3FC;\n",
       "    }\n",
       "\n",
       "    [theme=dark] .colab-df-convert:hover {\n",
       "      background-color: #434B5C;\n",
       "      box-shadow: 0px 1px 3px 1px rgba(0, 0, 0, 0.15);\n",
       "      filter: drop-shadow(0px 1px 2px rgba(0, 0, 0, 0.3));\n",
       "      fill: #FFFFFF;\n",
       "    }\n",
       "  </style>\n",
       "\n",
       "    <script>\n",
       "      const buttonEl =\n",
       "        document.querySelector('#df-faa0760a-1c65-478e-828c-3c5e8c68725b button.colab-df-convert');\n",
       "      buttonEl.style.display =\n",
       "        google.colab.kernel.accessAllowed ? 'block' : 'none';\n",
       "\n",
       "      async function convertToInteractive(key) {\n",
       "        const element = document.querySelector('#df-faa0760a-1c65-478e-828c-3c5e8c68725b');\n",
       "        const dataTable =\n",
       "          await google.colab.kernel.invokeFunction('convertToInteractive',\n",
       "                                                    [key], {});\n",
       "        if (!dataTable) return;\n",
       "\n",
       "        const docLinkHtml = 'Like what you see? Visit the ' +\n",
       "          '<a target=\"_blank\" href=https://colab.research.google.com/notebooks/data_table.ipynb>data table notebook</a>'\n",
       "          + ' to learn more about interactive tables.';\n",
       "        element.innerHTML = '';\n",
       "        dataTable['output_type'] = 'display_data';\n",
       "        await google.colab.output.renderOutput(dataTable, element);\n",
       "        const docLink = document.createElement('div');\n",
       "        docLink.innerHTML = docLinkHtml;\n",
       "        element.appendChild(docLink);\n",
       "      }\n",
       "    </script>\n",
       "  </div>\n",
       "\n",
       "\n",
       "<div id=\"df-14997b2d-8783-40ab-95a3-8e1f6f1e478c\">\n",
       "  <button class=\"colab-df-quickchart\" onclick=\"quickchart('df-14997b2d-8783-40ab-95a3-8e1f6f1e478c')\"\n",
       "            title=\"Suggest charts.\"\n",
       "            style=\"display:none;\">\n",
       "\n",
       "<svg xmlns=\"http://www.w3.org/2000/svg\" height=\"24px\"viewBox=\"0 0 24 24\"\n",
       "     width=\"24px\">\n",
       "    <g>\n",
       "        <path d=\"M19 3H5c-1.1 0-2 .9-2 2v14c0 1.1.9 2 2 2h14c1.1 0 2-.9 2-2V5c0-1.1-.9-2-2-2zM9 17H7v-7h2v7zm4 0h-2V7h2v10zm4 0h-2v-4h2v4z\"/>\n",
       "    </g>\n",
       "</svg>\n",
       "  </button>\n",
       "\n",
       "<style>\n",
       "  .colab-df-quickchart {\n",
       "      --bg-color: #E8F0FE;\n",
       "      --fill-color: #1967D2;\n",
       "      --hover-bg-color: #E2EBFA;\n",
       "      --hover-fill-color: #174EA6;\n",
       "      --disabled-fill-color: #AAA;\n",
       "      --disabled-bg-color: #DDD;\n",
       "  }\n",
       "\n",
       "  [theme=dark] .colab-df-quickchart {\n",
       "      --bg-color: #3B4455;\n",
       "      --fill-color: #D2E3FC;\n",
       "      --hover-bg-color: #434B5C;\n",
       "      --hover-fill-color: #FFFFFF;\n",
       "      --disabled-bg-color: #3B4455;\n",
       "      --disabled-fill-color: #666;\n",
       "  }\n",
       "\n",
       "  .colab-df-quickchart {\n",
       "    background-color: var(--bg-color);\n",
       "    border: none;\n",
       "    border-radius: 50%;\n",
       "    cursor: pointer;\n",
       "    display: none;\n",
       "    fill: var(--fill-color);\n",
       "    height: 32px;\n",
       "    padding: 0;\n",
       "    width: 32px;\n",
       "  }\n",
       "\n",
       "  .colab-df-quickchart:hover {\n",
       "    background-color: var(--hover-bg-color);\n",
       "    box-shadow: 0 1px 2px rgba(60, 64, 67, 0.3), 0 1px 3px 1px rgba(60, 64, 67, 0.15);\n",
       "    fill: var(--button-hover-fill-color);\n",
       "  }\n",
       "\n",
       "  .colab-df-quickchart-complete:disabled,\n",
       "  .colab-df-quickchart-complete:disabled:hover {\n",
       "    background-color: var(--disabled-bg-color);\n",
       "    fill: var(--disabled-fill-color);\n",
       "    box-shadow: none;\n",
       "  }\n",
       "\n",
       "  .colab-df-spinner {\n",
       "    border: 2px solid var(--fill-color);\n",
       "    border-color: transparent;\n",
       "    border-bottom-color: var(--fill-color);\n",
       "    animation:\n",
       "      spin 1s steps(1) infinite;\n",
       "  }\n",
       "\n",
       "  @keyframes spin {\n",
       "    0% {\n",
       "      border-color: transparent;\n",
       "      border-bottom-color: var(--fill-color);\n",
       "      border-left-color: var(--fill-color);\n",
       "    }\n",
       "    20% {\n",
       "      border-color: transparent;\n",
       "      border-left-color: var(--fill-color);\n",
       "      border-top-color: var(--fill-color);\n",
       "    }\n",
       "    30% {\n",
       "      border-color: transparent;\n",
       "      border-left-color: var(--fill-color);\n",
       "      border-top-color: var(--fill-color);\n",
       "      border-right-color: var(--fill-color);\n",
       "    }\n",
       "    40% {\n",
       "      border-color: transparent;\n",
       "      border-right-color: var(--fill-color);\n",
       "      border-top-color: var(--fill-color);\n",
       "    }\n",
       "    60% {\n",
       "      border-color: transparent;\n",
       "      border-right-color: var(--fill-color);\n",
       "    }\n",
       "    80% {\n",
       "      border-color: transparent;\n",
       "      border-right-color: var(--fill-color);\n",
       "      border-bottom-color: var(--fill-color);\n",
       "    }\n",
       "    90% {\n",
       "      border-color: transparent;\n",
       "      border-bottom-color: var(--fill-color);\n",
       "    }\n",
       "  }\n",
       "</style>\n",
       "\n",
       "  <script>\n",
       "    async function quickchart(key) {\n",
       "      const quickchartButtonEl =\n",
       "        document.querySelector('#' + key + ' button');\n",
       "      quickchartButtonEl.disabled = true;  // To prevent multiple clicks.\n",
       "      quickchartButtonEl.classList.add('colab-df-spinner');\n",
       "      try {\n",
       "        const charts = await google.colab.kernel.invokeFunction(\n",
       "            'suggestCharts', [key], {});\n",
       "      } catch (error) {\n",
       "        console.error('Error during call to suggestCharts:', error);\n",
       "      }\n",
       "      quickchartButtonEl.classList.remove('colab-df-spinner');\n",
       "      quickchartButtonEl.classList.add('colab-df-quickchart-complete');\n",
       "    }\n",
       "    (() => {\n",
       "      let quickchartButtonEl =\n",
       "        document.querySelector('#df-14997b2d-8783-40ab-95a3-8e1f6f1e478c button');\n",
       "      quickchartButtonEl.style.display =\n",
       "        google.colab.kernel.accessAllowed ? 'block' : 'none';\n",
       "    })();\n",
       "  </script>\n",
       "</div>\n",
       "    </div>\n",
       "  </div>\n"
      ],
      "text/plain": [
       "   Unnamed: 0                                           id type\n",
       "0           0       Lawsonella_clevelandensis_strain_X1036  ind\n",
       "1           1          Corynebacterium_terpenotabidum_Y-11  dep\n",
       "2           2  Corynebacterium_variabile_strain_NBRC_15286  dep\n",
       "3           3        Mycobacterium_terrae_strain_NCTC10856  dep\n",
       "4           4                  Corynebacterium_sp._Sa1YVA5  dep"
      ]
     },
     "execution_count": 16,
     "metadata": {},
     "output_type": "execute_result"
    }
   ],
   "source": [
    "x300.head()"
   ]
  },
  {
   "cell_type": "code",
   "execution_count": 20,
   "id": "91ae2c3d",
   "metadata": {
    "colab": {
     "base_uri": "https://localhost:8080/"
    },
    "executionInfo": {
     "elapsed": 281,
     "status": "ok",
     "timestamp": 1696453871973,
     "user": {
      "displayName": "Natalie",
      "userId": "12056772489247444267"
     },
     "user_tz": 240
    },
    "id": "QevcHS5jhsHu",
    "outputId": "2c2c033e-455a-45d7-8036-c10a6a67d304"
   },
   "outputs": [
    {
     "data": {
      "text/plain": [
       "array(['Actinomadura_macra_NBRC_14102',\n",
       "       'Alloactinosynnema_iranicum_strain_IBRC-M_10403',\n",
       "       'Amycolatopsis_pretoriensis_strain_DSM_44654',\n",
       "       'Amycolatopsis_rhizosphaerae_strain_TBRC_6029',\n",
       "       'Amycolatopsis_sp._K13G38', 'Corynebacterium_phoceense_4QC4O2',\n",
       "       'Corynebacterium_sp._Sa1YVA5',\n",
       "       'Kribbella_albertanoniae_strain_JCM_30547',\n",
       "       'Kribbella_aluminosa_strain_DSM_18824',\n",
       "       'Mycobacterium_conspicuum_strain_JCM_14738',\n",
       "       'Mycobacterium_heidelbergense_strain_JCM_14842',\n",
       "       'Mycobacterium_sp._CECT_8779',\n",
       "       'Mycobacterium_thermoresistibile_strain_NCTC10409',\n",
       "       'Mycobacterium_timonense_CCUG_56329',\n",
       "       'Mycobacteroides_salmoniphilum_strain_DSM_43276',\n",
       "       'Mycolicibacterium_litorale_strain_JCM_17423',\n",
       "       'Mycolicibacterium_sp._CECT_8783', 'Nocardia_anaemiae_NBRC_100462',\n",
       "       'Nocardia_fluminea_strain_DSM_44489',\n",
       "       'Nocardia_inohanensis_NBRC_100128',\n",
       "       'Nocardia_pseudobrasiliensis_strain_DSM_44290',\n",
       "       'Nocardia_sienata_NBRC_100364',\n",
       "       'Pseudonocardia_kujensis_KCTC_29062', 'Pseudonocardia_sp._KRD-185',\n",
       "       'Rhodococcus_phenolicus_strain_DSM_44812', 'Rhodococcus_sp._C9-28',\n",
       "       'Saccharothrix_ecbatanensis_strain_DSM_45486',\n",
       "       'Skermania_piniformis_strain_DSM_43998',\n",
       "       'Spirillospora_albida_strain_NRRL_B-3350',\n",
       "       'Williamsia_phyllosphaerae_strain_CCM_7855'], dtype='<U58')"
      ]
     },
     "execution_count": 20,
     "metadata": {},
     "output_type": "execute_result"
    }
   ],
   "source": [
    "\n",
    "np.setdiff1d(x300[x300['type'] == 'dep']['id'].tolist(), dep['name'].tolist())"
   ]
  },
  {
   "cell_type": "code",
   "execution_count": 18,
   "id": "1d3ed323",
   "metadata": {
    "executionInfo": {
     "elapsed": 11,
     "status": "ok",
     "timestamp": 1696453771863,
     "user": {
      "displayName": "Natalie",
      "userId": "12056772489247444267"
     },
     "user_tz": 240
    },
    "id": "nEwsLGShhjBJ"
   },
   "outputs": [],
   "source": [
    "\n",
    "np.setdiff1d(x300['id'])"
   ]
  },
  {
   "cell_type": "code",
   "execution_count": 17,
   "id": "ea5d0dea",
   "metadata": {
    "colab": {
     "base_uri": "https://localhost:8080/",
     "height": 293
    },
    "executionInfo": {
     "elapsed": 23,
     "status": "ok",
     "timestamp": 1696453763706,
     "user": {
      "displayName": "Natalie",
      "userId": "12056772489247444267"
     },
     "user_tz": 240
    },
    "id": "5hNLygTBheeZ",
    "outputId": "526bded9-a673-4019-835a-c5bd78f5a343"
   },
   "outputs": [
    {
     "data": {
      "text/html": [
       "\n",
       "  <div id=\"df-74e8b937-f6e8-48d1-a4ff-e75427339d60\" class=\"colab-df-container\">\n",
       "    <div>\n",
       "<style scoped>\n",
       "    .dataframe tbody tr th:only-of-type {\n",
       "        vertical-align: middle;\n",
       "    }\n",
       "\n",
       "    .dataframe tbody tr th {\n",
       "        vertical-align: top;\n",
       "    }\n",
       "\n",
       "    .dataframe thead th {\n",
       "        text-align: right;\n",
       "    }\n",
       "</style>\n",
       "<table border=\"1\" class=\"dataframe\">\n",
       "  <thead>\n",
       "    <tr style=\"text-align: right;\">\n",
       "      <th></th>\n",
       "      <th>Genome Name</th>\n",
       "      <th>staxid</th>\n",
       "      <th>Order</th>\n",
       "      <th>Family</th>\n",
       "      <th>Genus</th>\n",
       "      <th>type</th>\n",
       "      <th>name</th>\n",
       "    </tr>\n",
       "  </thead>\n",
       "  <tbody>\n",
       "    <tr>\n",
       "      <th>0</th>\n",
       "      <td>Nonomuraea soli strain DSM 45533</td>\n",
       "      <td>1032476</td>\n",
       "      <td>Streptosporangiales</td>\n",
       "      <td>Streptosporangiaceae</td>\n",
       "      <td>Nonomuraea</td>\n",
       "      <td>ind</td>\n",
       "      <td>Nonomuraea_soli_strain_DSM_45533</td>\n",
       "    </tr>\n",
       "    <tr>\n",
       "      <th>1</th>\n",
       "      <td>Actinoplanes atraurantiacus strain CGMCC 4.6857</td>\n",
       "      <td>1036182</td>\n",
       "      <td>Micromonosporales</td>\n",
       "      <td>Micromonosporaceae</td>\n",
       "      <td>Actinoplanes</td>\n",
       "      <td>ind</td>\n",
       "      <td>Actinoplanes_atraurantiacus_strain_CGMCC_4.6857</td>\n",
       "    </tr>\n",
       "    <tr>\n",
       "      <th>2</th>\n",
       "      <td>Kutzneria kofuensis strain DSM 43851</td>\n",
       "      <td>103725</td>\n",
       "      <td>Pseudonocardiales</td>\n",
       "      <td>Pseudonocardiaceae</td>\n",
       "      <td>Kutzneria</td>\n",
       "      <td>ind</td>\n",
       "      <td>Kutzneria_kofuensis_strain_DSM_43851</td>\n",
       "    </tr>\n",
       "    <tr>\n",
       "      <th>3</th>\n",
       "      <td>Thermocatellispora tengchongensis strain DSM 4...</td>\n",
       "      <td>1073253</td>\n",
       "      <td>Streptosporangiales</td>\n",
       "      <td>Streptosporangiaceae</td>\n",
       "      <td>Thermocatellispora</td>\n",
       "      <td>ind</td>\n",
       "      <td>Thermocatellispora_tengchongensis_strain_DSM_4...</td>\n",
       "    </tr>\n",
       "    <tr>\n",
       "      <th>4</th>\n",
       "      <td>Phytohabitans flavus strain NBRC 107702</td>\n",
       "      <td>1076124</td>\n",
       "      <td>Micromonosporales</td>\n",
       "      <td>Micromonosporaceae</td>\n",
       "      <td>Phytohabitans</td>\n",
       "      <td>ind</td>\n",
       "      <td>Phytohabitans_flavus_strain_NBRC_107702</td>\n",
       "    </tr>\n",
       "  </tbody>\n",
       "</table>\n",
       "</div>\n",
       "    <div class=\"colab-df-buttons\">\n",
       "\n",
       "  <div class=\"colab-df-container\">\n",
       "    <button class=\"colab-df-convert\" onclick=\"convertToInteractive('df-74e8b937-f6e8-48d1-a4ff-e75427339d60')\"\n",
       "            title=\"Convert this dataframe to an interactive table.\"\n",
       "            style=\"display:none;\">\n",
       "\n",
       "  <svg xmlns=\"http://www.w3.org/2000/svg\" height=\"24px\" viewBox=\"0 -960 960 960\">\n",
       "    <path d=\"M120-120v-720h720v720H120Zm60-500h600v-160H180v160Zm220 220h160v-160H400v160Zm0 220h160v-160H400v160ZM180-400h160v-160H180v160Zm440 0h160v-160H620v160ZM180-180h160v-160H180v160Zm440 0h160v-160H620v160Z\"/>\n",
       "  </svg>\n",
       "    </button>\n",
       "\n",
       "  <style>\n",
       "    .colab-df-container {\n",
       "      display:flex;\n",
       "      gap: 12px;\n",
       "    }\n",
       "\n",
       "    .colab-df-convert {\n",
       "      background-color: #E8F0FE;\n",
       "      border: none;\n",
       "      border-radius: 50%;\n",
       "      cursor: pointer;\n",
       "      display: none;\n",
       "      fill: #1967D2;\n",
       "      height: 32px;\n",
       "      padding: 0 0 0 0;\n",
       "      width: 32px;\n",
       "    }\n",
       "\n",
       "    .colab-df-convert:hover {\n",
       "      background-color: #E2EBFA;\n",
       "      box-shadow: 0px 1px 2px rgba(60, 64, 67, 0.3), 0px 1px 3px 1px rgba(60, 64, 67, 0.15);\n",
       "      fill: #174EA6;\n",
       "    }\n",
       "\n",
       "    .colab-df-buttons div {\n",
       "      margin-bottom: 4px;\n",
       "    }\n",
       "\n",
       "    [theme=dark] .colab-df-convert {\n",
       "      background-color: #3B4455;\n",
       "      fill: #D2E3FC;\n",
       "    }\n",
       "\n",
       "    [theme=dark] .colab-df-convert:hover {\n",
       "      background-color: #434B5C;\n",
       "      box-shadow: 0px 1px 3px 1px rgba(0, 0, 0, 0.15);\n",
       "      filter: drop-shadow(0px 1px 2px rgba(0, 0, 0, 0.3));\n",
       "      fill: #FFFFFF;\n",
       "    }\n",
       "  </style>\n",
       "\n",
       "    <script>\n",
       "      const buttonEl =\n",
       "        document.querySelector('#df-74e8b937-f6e8-48d1-a4ff-e75427339d60 button.colab-df-convert');\n",
       "      buttonEl.style.display =\n",
       "        google.colab.kernel.accessAllowed ? 'block' : 'none';\n",
       "\n",
       "      async function convertToInteractive(key) {\n",
       "        const element = document.querySelector('#df-74e8b937-f6e8-48d1-a4ff-e75427339d60');\n",
       "        const dataTable =\n",
       "          await google.colab.kernel.invokeFunction('convertToInteractive',\n",
       "                                                    [key], {});\n",
       "        if (!dataTable) return;\n",
       "\n",
       "        const docLinkHtml = 'Like what you see? Visit the ' +\n",
       "          '<a target=\"_blank\" href=https://colab.research.google.com/notebooks/data_table.ipynb>data table notebook</a>'\n",
       "          + ' to learn more about interactive tables.';\n",
       "        element.innerHTML = '';\n",
       "        dataTable['output_type'] = 'display_data';\n",
       "        await google.colab.output.renderOutput(dataTable, element);\n",
       "        const docLink = document.createElement('div');\n",
       "        docLink.innerHTML = docLinkHtml;\n",
       "        element.appendChild(docLink);\n",
       "      }\n",
       "    </script>\n",
       "  </div>\n",
       "\n",
       "\n",
       "<div id=\"df-12fc9d9e-98b6-44f0-91bf-04e4073a4fea\">\n",
       "  <button class=\"colab-df-quickchart\" onclick=\"quickchart('df-12fc9d9e-98b6-44f0-91bf-04e4073a4fea')\"\n",
       "            title=\"Suggest charts.\"\n",
       "            style=\"display:none;\">\n",
       "\n",
       "<svg xmlns=\"http://www.w3.org/2000/svg\" height=\"24px\"viewBox=\"0 0 24 24\"\n",
       "     width=\"24px\">\n",
       "    <g>\n",
       "        <path d=\"M19 3H5c-1.1 0-2 .9-2 2v14c0 1.1.9 2 2 2h14c1.1 0 2-.9 2-2V5c0-1.1-.9-2-2-2zM9 17H7v-7h2v7zm4 0h-2V7h2v10zm4 0h-2v-4h2v4z\"/>\n",
       "    </g>\n",
       "</svg>\n",
       "  </button>\n",
       "\n",
       "<style>\n",
       "  .colab-df-quickchart {\n",
       "      --bg-color: #E8F0FE;\n",
       "      --fill-color: #1967D2;\n",
       "      --hover-bg-color: #E2EBFA;\n",
       "      --hover-fill-color: #174EA6;\n",
       "      --disabled-fill-color: #AAA;\n",
       "      --disabled-bg-color: #DDD;\n",
       "  }\n",
       "\n",
       "  [theme=dark] .colab-df-quickchart {\n",
       "      --bg-color: #3B4455;\n",
       "      --fill-color: #D2E3FC;\n",
       "      --hover-bg-color: #434B5C;\n",
       "      --hover-fill-color: #FFFFFF;\n",
       "      --disabled-bg-color: #3B4455;\n",
       "      --disabled-fill-color: #666;\n",
       "  }\n",
       "\n",
       "  .colab-df-quickchart {\n",
       "    background-color: var(--bg-color);\n",
       "    border: none;\n",
       "    border-radius: 50%;\n",
       "    cursor: pointer;\n",
       "    display: none;\n",
       "    fill: var(--fill-color);\n",
       "    height: 32px;\n",
       "    padding: 0;\n",
       "    width: 32px;\n",
       "  }\n",
       "\n",
       "  .colab-df-quickchart:hover {\n",
       "    background-color: var(--hover-bg-color);\n",
       "    box-shadow: 0 1px 2px rgba(60, 64, 67, 0.3), 0 1px 3px 1px rgba(60, 64, 67, 0.15);\n",
       "    fill: var(--button-hover-fill-color);\n",
       "  }\n",
       "\n",
       "  .colab-df-quickchart-complete:disabled,\n",
       "  .colab-df-quickchart-complete:disabled:hover {\n",
       "    background-color: var(--disabled-bg-color);\n",
       "    fill: var(--disabled-fill-color);\n",
       "    box-shadow: none;\n",
       "  }\n",
       "\n",
       "  .colab-df-spinner {\n",
       "    border: 2px solid var(--fill-color);\n",
       "    border-color: transparent;\n",
       "    border-bottom-color: var(--fill-color);\n",
       "    animation:\n",
       "      spin 1s steps(1) infinite;\n",
       "  }\n",
       "\n",
       "  @keyframes spin {\n",
       "    0% {\n",
       "      border-color: transparent;\n",
       "      border-bottom-color: var(--fill-color);\n",
       "      border-left-color: var(--fill-color);\n",
       "    }\n",
       "    20% {\n",
       "      border-color: transparent;\n",
       "      border-left-color: var(--fill-color);\n",
       "      border-top-color: var(--fill-color);\n",
       "    }\n",
       "    30% {\n",
       "      border-color: transparent;\n",
       "      border-left-color: var(--fill-color);\n",
       "      border-top-color: var(--fill-color);\n",
       "      border-right-color: var(--fill-color);\n",
       "    }\n",
       "    40% {\n",
       "      border-color: transparent;\n",
       "      border-right-color: var(--fill-color);\n",
       "      border-top-color: var(--fill-color);\n",
       "    }\n",
       "    60% {\n",
       "      border-color: transparent;\n",
       "      border-right-color: var(--fill-color);\n",
       "    }\n",
       "    80% {\n",
       "      border-color: transparent;\n",
       "      border-right-color: var(--fill-color);\n",
       "      border-bottom-color: var(--fill-color);\n",
       "    }\n",
       "    90% {\n",
       "      border-color: transparent;\n",
       "      border-bottom-color: var(--fill-color);\n",
       "    }\n",
       "  }\n",
       "</style>\n",
       "\n",
       "  <script>\n",
       "    async function quickchart(key) {\n",
       "      const quickchartButtonEl =\n",
       "        document.querySelector('#' + key + ' button');\n",
       "      quickchartButtonEl.disabled = true;  // To prevent multiple clicks.\n",
       "      quickchartButtonEl.classList.add('colab-df-spinner');\n",
       "      try {\n",
       "        const charts = await google.colab.kernel.invokeFunction(\n",
       "            'suggestCharts', [key], {});\n",
       "      } catch (error) {\n",
       "        console.error('Error during call to suggestCharts:', error);\n",
       "      }\n",
       "      quickchartButtonEl.classList.remove('colab-df-spinner');\n",
       "      quickchartButtonEl.classList.add('colab-df-quickchart-complete');\n",
       "    }\n",
       "    (() => {\n",
       "      let quickchartButtonEl =\n",
       "        document.querySelector('#df-12fc9d9e-98b6-44f0-91bf-04e4073a4fea button');\n",
       "      quickchartButtonEl.style.display =\n",
       "        google.colab.kernel.accessAllowed ? 'block' : 'none';\n",
       "    })();\n",
       "  </script>\n",
       "</div>\n",
       "    </div>\n",
       "  </div>\n"
      ],
      "text/plain": [
       "                                         Genome Name   staxid  \\\n",
       "0                   Nonomuraea soli strain DSM 45533  1032476   \n",
       "1    Actinoplanes atraurantiacus strain CGMCC 4.6857  1036182   \n",
       "2               Kutzneria kofuensis strain DSM 43851   103725   \n",
       "3  Thermocatellispora tengchongensis strain DSM 4...  1073253   \n",
       "4            Phytohabitans flavus strain NBRC 107702  1076124   \n",
       "\n",
       "                 Order                Family               Genus type  \\\n",
       "0  Streptosporangiales  Streptosporangiaceae          Nonomuraea  ind   \n",
       "1    Micromonosporales    Micromonosporaceae        Actinoplanes  ind   \n",
       "2    Pseudonocardiales    Pseudonocardiaceae           Kutzneria  ind   \n",
       "3  Streptosporangiales  Streptosporangiaceae  Thermocatellispora  ind   \n",
       "4    Micromonosporales    Micromonosporaceae       Phytohabitans  ind   \n",
       "\n",
       "                                                name  \n",
       "0                   Nonomuraea_soli_strain_DSM_45533  \n",
       "1    Actinoplanes_atraurantiacus_strain_CGMCC_4.6857  \n",
       "2               Kutzneria_kofuensis_strain_DSM_43851  \n",
       "3  Thermocatellispora_tengchongensis_strain_DSM_4...  \n",
       "4            Phytohabitans_flavus_strain_NBRC_107702  "
      ]
     },
     "execution_count": 17,
     "metadata": {},
     "output_type": "execute_result"
    }
   ],
   "source": [
    "dep['name'].tolist()"
   ]
  },
  {
   "cell_type": "code",
   "execution_count": null,
   "id": "5dec01c3",
   "metadata": {
    "id": "14cea982-434c-4ba7-8121-5daec144862e"
   },
   "outputs": [],
   "source": [
    "x300 = read_in_fasta(\"motif/bacteria_subset300FIX_biob_aa.msa\")\n",
    "\n",
    "# dep = read_in_fasta(\"motif/putative2_biob_dependent_seqs_aa_filter3.fasta\")\n",
    "dep_subset = read_in_fasta(\"motif/biob_merged_to_dependent_subset100.msa\")\n",
    "\n",
    "# write_df_to_fasta(dep[dep['id'].isin(dep_subset['id'])], 'seq', 'id', 'motif/biob_dependent_subset100.fasta')"
   ]
  },
  {
   "cell_type": "code",
   "execution_count": null,
   "id": "f21d27b0",
   "metadata": {
    "id": "e9b4c7d1-bd41-4229-9143-1e8716fbf3db"
   },
   "outputs": [],
   "source": [
    "x300['type'] = 'ind'\n",
    "x300.loc[x300['id'].isin(dep_subset['id']), 'type'] = 'dep'"
   ]
  },
  {
   "cell_type": "code",
   "execution_count": null,
   "id": "aa3e75e7",
   "metadata": {
    "id": "a4fa1873-3a89-4709-b4d4-6a917376ade0"
   },
   "outputs": [],
   "source": [
    "\n",
    "x300[['id', 'type']].to_csv(\"motif/bacteria_subset300_type.csv\")"
   ]
  },
  {
   "cell_type": "code",
   "execution_count": null,
   "id": "e5a87bdd",
   "metadata": {
    "id": "27050884-7822-4710-b456-327351e8e306"
   },
   "outputs": [],
   "source": [
    "\n",
    "write_df_to_fasta(x300[x300['type'] == 'ind'], 'seq', 'id', 'motif/bacteria_biob_subset300_independent.msa')\n",
    "write_df_to_fasta(x300[x300['type'] == 'dep'], 'seq', 'id', 'motif/bacteria_biob_subset300_dependent.msa')"
   ]
  },
  {
   "cell_type": "code",
   "execution_count": null,
   "id": "daa36450",
   "metadata": {
    "id": "63d14c0f-0269-4e9f-9d81-e0d376b06bae",
    "outputId": "1d008ee5-cc82-402a-843c-afa0d1e76bd3"
   },
   "outputs": [
    {
     "data": {
      "text/html": [
       "<div>\n",
       "<style scoped>\n",
       "    .dataframe tbody tr th:only-of-type {\n",
       "        vertical-align: middle;\n",
       "    }\n",
       "\n",
       "    .dataframe tbody tr th {\n",
       "        vertical-align: top;\n",
       "    }\n",
       "\n",
       "    .dataframe thead th {\n",
       "        text-align: right;\n",
       "    }\n",
       "</style>\n",
       "<table border=\"1\" class=\"dataframe\">\n",
       "  <thead>\n",
       "    <tr style=\"text-align: right;\">\n",
       "      <th></th>\n",
       "      <th>id</th>\n",
       "      <th>seq</th>\n",
       "      <th>type</th>\n",
       "    </tr>\n",
       "  </thead>\n",
       "  <tbody>\n",
       "    <tr>\n",
       "      <th>0</th>\n",
       "      <td>Lawsonella_clevelandensis_strain_X1036</td>\n",
       "      <td>(M, S, Y, C, N, S, T, A, A, V, P, P, L, A, D, ...</td>\n",
       "      <td>ind</td>\n",
       "    </tr>\n",
       "    <tr>\n",
       "      <th>1</th>\n",
       "      <td>Corynebacterium_terpenotabidum_Y-11</td>\n",
       "      <td>(-, -, -, -, -, -, -, -, -, -, -, -, -, -, -, ...</td>\n",
       "      <td>dep</td>\n",
       "    </tr>\n",
       "    <tr>\n",
       "      <th>2</th>\n",
       "      <td>Corynebacterium_variabile_strain_NBRC_15286</td>\n",
       "      <td>(-, -, -, -, -, -, -, -, -, -, -, -, -, -, -, ...</td>\n",
       "      <td>dep</td>\n",
       "    </tr>\n",
       "    <tr>\n",
       "      <th>3</th>\n",
       "      <td>Mycobacterium_terrae_strain_NCTC10856</td>\n",
       "      <td>(-, -, -, -, -, -, -, -, -, -, -, -, -, -, -, ...</td>\n",
       "      <td>dep</td>\n",
       "    </tr>\n",
       "    <tr>\n",
       "      <th>4</th>\n",
       "      <td>Corynebacterium_sp._Sa1YVA5</td>\n",
       "      <td>(-, -, -, -, -, -, -, -, -, -, -, -, -, -, -, ...</td>\n",
       "      <td>dep</td>\n",
       "    </tr>\n",
       "    <tr>\n",
       "      <th>...</th>\n",
       "      <td>...</td>\n",
       "      <td>...</td>\n",
       "      <td>...</td>\n",
       "    </tr>\n",
       "    <tr>\n",
       "      <th>275</th>\n",
       "      <td>Clostridium_botulinum_A_str._ATCC_3502</td>\n",
       "      <td>(-, -, -, -, -, -, -, -, -, -, -, -, -, -, -, ...</td>\n",
       "      <td>ind</td>\n",
       "    </tr>\n",
       "    <tr>\n",
       "      <th>276</th>\n",
       "      <td>Megamonas_hypermegale_strain_NCTC10570</td>\n",
       "      <td>(-, -, -, -, -, -, -, -, -, -, -, -, -, -, -, ...</td>\n",
       "      <td>ind</td>\n",
       "    </tr>\n",
       "    <tr>\n",
       "      <th>277</th>\n",
       "      <td>Lachnospiraceae_bacterium_NSJ-38</td>\n",
       "      <td>(-, -, -, -, -, -, -, -, -, -, -, -, -, -, -, ...</td>\n",
       "      <td>ind</td>\n",
       "    </tr>\n",
       "    <tr>\n",
       "      <th>278</th>\n",
       "      <td>Clostridium_beijerinckii_strain_DSM_791</td>\n",
       "      <td>(-, -, -, -, -, -, -, -, -, -, -, -, -, -, -, ...</td>\n",
       "      <td>ind</td>\n",
       "    </tr>\n",
       "    <tr>\n",
       "      <th>279</th>\n",
       "      <td>Selenomonas_sp._Marseille-Q3039</td>\n",
       "      <td>(-, -, -, -, -, -, -, -, -, -, -, -, -, -, -, ...</td>\n",
       "      <td>ind</td>\n",
       "    </tr>\n",
       "  </tbody>\n",
       "</table>\n",
       "<p>280 rows × 3 columns</p>\n",
       "</div>"
      ],
      "text/plain": [
       "                                              id  \\\n",
       "0         Lawsonella_clevelandensis_strain_X1036   \n",
       "1            Corynebacterium_terpenotabidum_Y-11   \n",
       "2    Corynebacterium_variabile_strain_NBRC_15286   \n",
       "3          Mycobacterium_terrae_strain_NCTC10856   \n",
       "4                    Corynebacterium_sp._Sa1YVA5   \n",
       "..                                           ...   \n",
       "275       Clostridium_botulinum_A_str._ATCC_3502   \n",
       "276       Megamonas_hypermegale_strain_NCTC10570   \n",
       "277             Lachnospiraceae_bacterium_NSJ-38   \n",
       "278      Clostridium_beijerinckii_strain_DSM_791   \n",
       "279              Selenomonas_sp._Marseille-Q3039   \n",
       "\n",
       "                                                   seq type  \n",
       "0    (M, S, Y, C, N, S, T, A, A, V, P, P, L, A, D, ...  ind  \n",
       "1    (-, -, -, -, -, -, -, -, -, -, -, -, -, -, -, ...  dep  \n",
       "2    (-, -, -, -, -, -, -, -, -, -, -, -, -, -, -, ...  dep  \n",
       "3    (-, -, -, -, -, -, -, -, -, -, -, -, -, -, -, ...  dep  \n",
       "4    (-, -, -, -, -, -, -, -, -, -, -, -, -, -, -, ...  dep  \n",
       "..                                                 ...  ...  \n",
       "275  (-, -, -, -, -, -, -, -, -, -, -, -, -, -, -, ...  ind  \n",
       "276  (-, -, -, -, -, -, -, -, -, -, -, -, -, -, -, ...  ind  \n",
       "277  (-, -, -, -, -, -, -, -, -, -, -, -, -, -, -, ...  ind  \n",
       "278  (-, -, -, -, -, -, -, -, -, -, -, -, -, -, -, ...  ind  \n",
       "279  (-, -, -, -, -, -, -, -, -, -, -, -, -, -, -, ...  ind  \n",
       "\n",
       "[280 rows x 3 columns]"
      ]
     },
     "execution_count": 154,
     "metadata": {},
     "output_type": "execute_result"
    }
   ],
   "source": [
    "x300"
   ]
  },
  {
   "cell_type": "code",
   "execution_count": null,
   "id": "514d2ad8",
   "metadata": {
    "id": "9f2d715f-7546-4ce9-9d94-6461dea4b263"
   },
   "outputs": [],
   "source": []
  }
 ],
 "metadata": {
  "colab": {
   "provenance": []
  },
  "kernelspec": {
   "display_name": "Python 3 (ipykernel)",
   "language": "python",
   "name": "python3"
  },
  "language_info": {
   "codemirror_mode": {
    "name": "ipython",
    "version": 3
   },
   "file_extension": ".py",
   "mimetype": "text/x-python",
   "name": "python",
   "nbconvert_exporter": "python",
   "pygments_lexer": "ipython3",
   "version": "3.8.11"
  }
 },
 "nbformat": 4,
 "nbformat_minor": 5
}
