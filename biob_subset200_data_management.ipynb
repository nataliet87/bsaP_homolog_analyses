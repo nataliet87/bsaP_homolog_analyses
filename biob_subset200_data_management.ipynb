{
 "cells": [
  {
   "cell_type": "code",
   "execution_count": 36,
   "id": "d028e139",
   "metadata": {},
   "outputs": [],
   "source": [
    "import pandas as pd\n",
    "import numpy as np\n",
    "\n",
    "from Bio import SeqIO\n",
    "from Bio.Seq import Seq\n",
    "from Bio.SeqRecord import SeqRecord"
   ]
  },
  {
   "cell_type": "code",
   "execution_count": 37,
   "id": "d200e533",
   "metadata": {},
   "outputs": [],
   "source": [
    "def read_fasta(fasta_path):\n",
    "    \n",
    "    fasta_entries = []\n",
    "\n",
    "    with open(fasta_path) as handle:\n",
    "        for record in SeqIO.parse(handle, \"fasta\"):\n",
    "            fasta_entries.append([record.id, record.seq])\n",
    "\n",
    "    fasta_df = pd.DataFrame(data=fasta_entries, columns=['id', 'seq'])\n",
    "    \n",
    "    return fasta_df\n",
    "\n"
   ]
  },
  {
   "cell_type": "code",
   "execution_count": 38,
   "id": "0c366c36",
   "metadata": {},
   "outputs": [],
   "source": [
    "# # read in strain metadata:\n",
    "# df = pd.read_csv(\"motif/actinomycetota_bvbrc_reference_genomes.csv\")\n",
    "# df = df[['Genome Name', 'NCBI Taxon ID', 'Genome ID', 'Order', 'Family', 'Genus']]\n",
    "\n",
    "# df['name'] = df['Genome Name'].str.replace(\" \", \"_\")\n",
    "\n",
    "# # read in ind and dep samples, and merge\n",
    "# ind = read_fasta(\"motif/biob_independent_subset100_protein.fa\")\n",
    "# dep = read_fasta(\"motif/biob_dependent_subset100_protein.fa\")\n",
    "\n",
    "# ind['type'] = 'ind'\n",
    "# dep['type'] = 'dep'\n",
    "\n",
    "# seqs = pd.concat([ind, dep]).reset_index(drop=True)"
   ]
  },
  {
   "cell_type": "code",
   "execution_count": 6,
   "id": "f7609095",
   "metadata": {},
   "outputs": [
    {
     "data": {
      "text/html": [
       "<div>\n",
       "<style scoped>\n",
       "    .dataframe tbody tr th:only-of-type {\n",
       "        vertical-align: middle;\n",
       "    }\n",
       "\n",
       "    .dataframe tbody tr th {\n",
       "        vertical-align: top;\n",
       "    }\n",
       "\n",
       "    .dataframe thead th {\n",
       "        text-align: right;\n",
       "    }\n",
       "</style>\n",
       "<table border=\"1\" class=\"dataframe\">\n",
       "  <thead>\n",
       "    <tr style=\"text-align: right;\">\n",
       "      <th></th>\n",
       "      <th>Genome Name</th>\n",
       "      <th>staxid</th>\n",
       "      <th>Order</th>\n",
       "      <th>Family</th>\n",
       "      <th>Genus</th>\n",
       "      <th>type</th>\n",
       "      <th>name</th>\n",
       "    </tr>\n",
       "  </thead>\n",
       "  <tbody>\n",
       "    <tr>\n",
       "      <th>0</th>\n",
       "      <td>Kutzneria kofuensis strain DSM 43851</td>\n",
       "      <td>103725</td>\n",
       "      <td>Pseudonocardiales</td>\n",
       "      <td>Pseudonocardiaceae</td>\n",
       "      <td>Kutzneria</td>\n",
       "      <td>ind</td>\n",
       "      <td>Kutzneria_kofuensis_strain_DSM_43851</td>\n",
       "    </tr>\n",
       "    <tr>\n",
       "      <th>1</th>\n",
       "      <td>Thermocatellispora tengchongensis strain DSM 4...</td>\n",
       "      <td>1073253</td>\n",
       "      <td>Streptosporangiales</td>\n",
       "      <td>Streptosporangiaceae</td>\n",
       "      <td>Thermocatellispora</td>\n",
       "      <td>ind</td>\n",
       "      <td>Thermocatellispora_tengchongensis_strain_DSM_4...</td>\n",
       "    </tr>\n",
       "    <tr>\n",
       "      <th>2</th>\n",
       "      <td>Phytohabitans flavus strain NBRC 107702</td>\n",
       "      <td>1076124</td>\n",
       "      <td>Micromonosporales</td>\n",
       "      <td>Micromonosporaceae</td>\n",
       "      <td>Phytohabitans</td>\n",
       "      <td>ind</td>\n",
       "      <td>Phytohabitans_flavus_strain_NBRC_107702</td>\n",
       "    </tr>\n",
       "    <tr>\n",
       "      <th>3</th>\n",
       "      <td>Thermoactinospora rubra strain YIM 77501</td>\n",
       "      <td>1088767</td>\n",
       "      <td>Streptosporangiales</td>\n",
       "      <td>Streptosporangiaceae</td>\n",
       "      <td>Thermoactinospora</td>\n",
       "      <td>ind</td>\n",
       "      <td>Thermoactinospora_rubra_strain_YIM_77501</td>\n",
       "    </tr>\n",
       "    <tr>\n",
       "      <th>4</th>\n",
       "      <td>Thermocrispum municipale DSM 44069</td>\n",
       "      <td>1111737</td>\n",
       "      <td>Pseudonocardiales</td>\n",
       "      <td>Pseudonocardiaceae</td>\n",
       "      <td>Thermocrispum</td>\n",
       "      <td>ind</td>\n",
       "      <td>Thermocrispum_municipale_DSM_44069</td>\n",
       "    </tr>\n",
       "  </tbody>\n",
       "</table>\n",
       "</div>"
      ],
      "text/plain": [
       "                                         Genome Name   staxid  \\\n",
       "0               Kutzneria kofuensis strain DSM 43851   103725   \n",
       "1  Thermocatellispora tengchongensis strain DSM 4...  1073253   \n",
       "2            Phytohabitans flavus strain NBRC 107702  1076124   \n",
       "3           Thermoactinospora rubra strain YIM 77501  1088767   \n",
       "4                 Thermocrispum municipale DSM 44069  1111737   \n",
       "\n",
       "                 Order                Family               Genus type  \\\n",
       "0    Pseudonocardiales    Pseudonocardiaceae           Kutzneria  ind   \n",
       "1  Streptosporangiales  Streptosporangiaceae  Thermocatellispora  ind   \n",
       "2    Micromonosporales    Micromonosporaceae       Phytohabitans  ind   \n",
       "3  Streptosporangiales  Streptosporangiaceae   Thermoactinospora  ind   \n",
       "4    Pseudonocardiales    Pseudonocardiaceae       Thermocrispum  ind   \n",
       "\n",
       "                                                name  \n",
       "0               Kutzneria_kofuensis_strain_DSM_43851  \n",
       "1  Thermocatellispora_tengchongensis_strain_DSM_4...  \n",
       "2            Phytohabitans_flavus_strain_NBRC_107702  \n",
       "3           Thermoactinospora_rubra_strain_YIM_77501  \n",
       "4                 Thermocrispum_municipale_DSM_44069  "
      ]
     },
     "execution_count": 6,
     "metadata": {},
     "output_type": "execute_result"
    }
   ],
   "source": [
    "df.head()"
   ]
  },
  {
   "cell_type": "code",
   "execution_count": 7,
   "id": "a86904b6",
   "metadata": {},
   "outputs": [
    {
     "data": {
      "text/html": [
       "<div>\n",
       "<style scoped>\n",
       "    .dataframe tbody tr th:only-of-type {\n",
       "        vertical-align: middle;\n",
       "    }\n",
       "\n",
       "    .dataframe tbody tr th {\n",
       "        vertical-align: top;\n",
       "    }\n",
       "\n",
       "    .dataframe thead th {\n",
       "        text-align: right;\n",
       "    }\n",
       "</style>\n",
       "<table border=\"1\" class=\"dataframe\">\n",
       "  <thead>\n",
       "    <tr style=\"text-align: right;\">\n",
       "      <th></th>\n",
       "      <th>id</th>\n",
       "      <th>seq</th>\n",
       "    </tr>\n",
       "  </thead>\n",
       "  <tbody>\n",
       "    <tr>\n",
       "      <th>0</th>\n",
       "      <td>Escherichia_coli_CFT073</td>\n",
       "      <td>(-, -, -, -, -, -, -, -, -, -, -, -, -, -, -, ...</td>\n",
       "    </tr>\n",
       "    <tr>\n",
       "      <th>1</th>\n",
       "      <td>Candidatus_Microthrix_parvicella_RN1</td>\n",
       "      <td>(-, -, -, -, -, -, -, -, -, -, -, -, -, -, -, ...</td>\n",
       "    </tr>\n",
       "    <tr>\n",
       "      <th>2</th>\n",
       "      <td>Brevibacterium_luteolum_strain_NEB1784</td>\n",
       "      <td>(-, -, -, -, -, -, -, -, -, -, -, -, -, -, -, ...</td>\n",
       "    </tr>\n",
       "    <tr>\n",
       "      <th>3</th>\n",
       "      <td>Kocuria_tytonis_442</td>\n",
       "      <td>(-, -, -, -, -, -, -, -, -, -, -, -, -, -, -, ...</td>\n",
       "    </tr>\n",
       "    <tr>\n",
       "      <th>4</th>\n",
       "      <td>Knoellia_subterranea_KCTC_19937</td>\n",
       "      <td>(-, -, -, -, -, -, -, -, -, -, -, -, -, -, -, ...</td>\n",
       "    </tr>\n",
       "  </tbody>\n",
       "</table>\n",
       "</div>"
      ],
      "text/plain": [
       "                                       id  \\\n",
       "0                 Escherichia_coli_CFT073   \n",
       "1    Candidatus_Microthrix_parvicella_RN1   \n",
       "2  Brevibacterium_luteolum_strain_NEB1784   \n",
       "3                     Kocuria_tytonis_442   \n",
       "4         Knoellia_subterranea_KCTC_19937   \n",
       "\n",
       "                                                 seq  \n",
       "0  (-, -, -, -, -, -, -, -, -, -, -, -, -, -, -, ...  \n",
       "1  (-, -, -, -, -, -, -, -, -, -, -, -, -, -, -, ...  \n",
       "2  (-, -, -, -, -, -, -, -, -, -, -, -, -, -, -, ...  \n",
       "3  (-, -, -, -, -, -, -, -, -, -, -, -, -, -, -, ...  \n",
       "4  (-, -, -, -, -, -, -, -, -, -, -, -, -, -, -, ...  "
      ]
     },
     "execution_count": 7,
     "metadata": {},
     "output_type": "execute_result"
    }
   ],
   "source": [
    "seqs.head()"
   ]
  },
  {
   "cell_type": "code",
   "execution_count": 8,
   "id": "cc8f9033",
   "metadata": {},
   "outputs": [
    {
     "data": {
      "text/plain": [
       "array([], dtype='<U58')"
      ]
     },
     "execution_count": 8,
     "metadata": {},
     "output_type": "execute_result"
    }
   ],
   "source": [
    "np.setdiff1d(seqs['id'].tolist(), df['name'].tolist())"
   ]
  },
  {
   "cell_type": "code",
   "execution_count": 11,
   "id": "19503d29",
   "metadata": {},
   "outputs": [
    {
     "data": {
      "text/plain": [
       "['Catenulispora_acidiphila_DSM_44928',\n",
       " 'Kribbella_jejuensis_strain_DSM_17305',\n",
       " 'Mycobacterium_haemophilum_DSM_44634_ATCC_29548',\n",
       " 'Mycobacterium_triplex_strain_DSM_44626',\n",
       " 'Nocardia_sp._ET3-3',\n",
       " 'Nocardia_sp._YIM_PH_21724']"
      ]
     },
     "execution_count": 11,
     "metadata": {},
     "output_type": "execute_result"
    }
   ],
   "source": [
    "np.setdiff1d(df['name'].tolist(), seqs['id'].tolist()).tolist()"
   ]
  },
  {
   "cell_type": "code",
   "execution_count": 13,
   "id": "942f6d3f",
   "metadata": {},
   "outputs": [],
   "source": [
    "df = df[~df['name'].isin(np.setdiff1d(df['name'].tolist(), seqs['id'].tolist()).tolist())].reset_index(drop=True)"
   ]
  },
  {
   "cell_type": "code",
   "execution_count": 14,
   "id": "cd3ec445",
   "metadata": {},
   "outputs": [],
   "source": [
    "# missing_lines = pd.DataFrame([\n",
    "#     ['Mycobacterium tuberculosis H37Rv', 83332, 83332,  \"Corynebacteriales\", \"Mycobacteriaceae\", \"Mycobacterium\", \"Mycobacterium_tuberculosis_H37Rv\"],\n",
    "#     ['Mycobacterium smegmatis str. MC2 155', np.nan, np.nan, \"Corynebacteriales\", \"Mycobacteriaceae\", \"Mycobacterium\", \"Mycobacterium_smegmatis_str._MC2_155\"],\n",
    "#         ], columns=['Genome Name', 'NCBI Taxon ID', 'Genome ID', 'Order', 'Family', 'Genus', 'name'])\n",
    "\n",
    "# df = pd.concat([df, missing_lines]).reset_index(drop=True)\n",
    "\n",
    "# df = seqs.merge(df, how='left', left_on='id', right_on='name')[['id', 'type', 'Order', 'Family', 'Genus']]\n",
    "\n",
    "# df['id'] = df['id'].str.replace(\"_strain_not_applicable\", \"\").str.replace(\"_strain_Not_applicable\", \"\")"
   ]
  },
  {
   "cell_type": "code",
   "execution_count": 15,
   "id": "3e066b26",
   "metadata": {},
   "outputs": [
    {
     "data": {
      "text/plain": [
       "(188, 7)"
      ]
     },
     "execution_count": 15,
     "metadata": {},
     "output_type": "execute_result"
    }
   ],
   "source": [
    "df.shape"
   ]
  },
  {
   "cell_type": "code",
   "execution_count": 16,
   "id": "11f340f0",
   "metadata": {},
   "outputs": [],
   "source": [
    "# now have a dataframe setup that categorizes independent and dependent species\n",
    "# next need to read in and merge the shared MSA file\n",
    "\n",
    "# msa_path = \"motif/merged_biob_seqs_subset200_protein.mfa\"\n",
    "msa_path = \"motif/biob_merged_subset200_pruned.msa\"\n",
    "msa = read_fasta(msa_path)"
   ]
  },
  {
   "cell_type": "code",
   "execution_count": 18,
   "id": "79a7f711",
   "metadata": {},
   "outputs": [],
   "source": [
    "# np.setdiff1d(df.id.tolist(), msa.id.tolist())"
   ]
  },
  {
   "cell_type": "code",
   "execution_count": 19,
   "id": "2afbf9f6",
   "metadata": {},
   "outputs": [],
   "source": [
    "# np.setdiff1d(msa.id.tolist(), df.id.tolist())"
   ]
  },
  {
   "cell_type": "code",
   "execution_count": 21,
   "id": "04b2ebb3",
   "metadata": {},
   "outputs": [
    {
     "data": {
      "text/html": [
       "<div>\n",
       "<style scoped>\n",
       "    .dataframe tbody tr th:only-of-type {\n",
       "        vertical-align: middle;\n",
       "    }\n",
       "\n",
       "    .dataframe tbody tr th {\n",
       "        vertical-align: top;\n",
       "    }\n",
       "\n",
       "    .dataframe thead th {\n",
       "        text-align: right;\n",
       "    }\n",
       "</style>\n",
       "<table border=\"1\" class=\"dataframe\">\n",
       "  <thead>\n",
       "    <tr style=\"text-align: right;\">\n",
       "      <th></th>\n",
       "      <th>Genome Name</th>\n",
       "      <th>staxid</th>\n",
       "      <th>Order</th>\n",
       "      <th>Family</th>\n",
       "      <th>Genus</th>\n",
       "      <th>type</th>\n",
       "      <th>name</th>\n",
       "    </tr>\n",
       "  </thead>\n",
       "  <tbody>\n",
       "    <tr>\n",
       "      <th>0</th>\n",
       "      <td>Kutzneria kofuensis strain DSM 43851</td>\n",
       "      <td>103725</td>\n",
       "      <td>Pseudonocardiales</td>\n",
       "      <td>Pseudonocardiaceae</td>\n",
       "      <td>Kutzneria</td>\n",
       "      <td>ind</td>\n",
       "      <td>Kutzneria_kofuensis_strain_DSM_43851</td>\n",
       "    </tr>\n",
       "    <tr>\n",
       "      <th>1</th>\n",
       "      <td>Thermocatellispora tengchongensis strain DSM 4...</td>\n",
       "      <td>1073253</td>\n",
       "      <td>Streptosporangiales</td>\n",
       "      <td>Streptosporangiaceae</td>\n",
       "      <td>Thermocatellispora</td>\n",
       "      <td>ind</td>\n",
       "      <td>Thermocatellispora_tengchongensis_strain_DSM_4...</td>\n",
       "    </tr>\n",
       "    <tr>\n",
       "      <th>2</th>\n",
       "      <td>Phytohabitans flavus strain NBRC 107702</td>\n",
       "      <td>1076124</td>\n",
       "      <td>Micromonosporales</td>\n",
       "      <td>Micromonosporaceae</td>\n",
       "      <td>Phytohabitans</td>\n",
       "      <td>ind</td>\n",
       "      <td>Phytohabitans_flavus_strain_NBRC_107702</td>\n",
       "    </tr>\n",
       "    <tr>\n",
       "      <th>3</th>\n",
       "      <td>Thermoactinospora rubra strain YIM 77501</td>\n",
       "      <td>1088767</td>\n",
       "      <td>Streptosporangiales</td>\n",
       "      <td>Streptosporangiaceae</td>\n",
       "      <td>Thermoactinospora</td>\n",
       "      <td>ind</td>\n",
       "      <td>Thermoactinospora_rubra_strain_YIM_77501</td>\n",
       "    </tr>\n",
       "    <tr>\n",
       "      <th>4</th>\n",
       "      <td>Thermocrispum municipale DSM 44069</td>\n",
       "      <td>1111737</td>\n",
       "      <td>Pseudonocardiales</td>\n",
       "      <td>Pseudonocardiaceae</td>\n",
       "      <td>Thermocrispum</td>\n",
       "      <td>ind</td>\n",
       "      <td>Thermocrispum_municipale_DSM_44069</td>\n",
       "    </tr>\n",
       "  </tbody>\n",
       "</table>\n",
       "</div>"
      ],
      "text/plain": [
       "                                         Genome Name   staxid  \\\n",
       "0               Kutzneria kofuensis strain DSM 43851   103725   \n",
       "1  Thermocatellispora tengchongensis strain DSM 4...  1073253   \n",
       "2            Phytohabitans flavus strain NBRC 107702  1076124   \n",
       "3           Thermoactinospora rubra strain YIM 77501  1088767   \n",
       "4                 Thermocrispum municipale DSM 44069  1111737   \n",
       "\n",
       "                 Order                Family               Genus type  \\\n",
       "0    Pseudonocardiales    Pseudonocardiaceae           Kutzneria  ind   \n",
       "1  Streptosporangiales  Streptosporangiaceae  Thermocatellispora  ind   \n",
       "2    Micromonosporales    Micromonosporaceae       Phytohabitans  ind   \n",
       "3  Streptosporangiales  Streptosporangiaceae   Thermoactinospora  ind   \n",
       "4    Pseudonocardiales    Pseudonocardiaceae       Thermocrispum  ind   \n",
       "\n",
       "                                                name  \n",
       "0               Kutzneria_kofuensis_strain_DSM_43851  \n",
       "1  Thermocatellispora_tengchongensis_strain_DSM_4...  \n",
       "2            Phytohabitans_flavus_strain_NBRC_107702  \n",
       "3           Thermoactinospora_rubra_strain_YIM_77501  \n",
       "4                 Thermocrispum_municipale_DSM_44069  "
      ]
     },
     "execution_count": 21,
     "metadata": {},
     "output_type": "execute_result"
    }
   ],
   "source": [
    "df.head()\n"
   ]
  },
  {
   "cell_type": "code",
   "execution_count": 22,
   "id": "d3d13df5",
   "metadata": {},
   "outputs": [
    {
     "data": {
      "text/html": [
       "<div>\n",
       "<style scoped>\n",
       "    .dataframe tbody tr th:only-of-type {\n",
       "        vertical-align: middle;\n",
       "    }\n",
       "\n",
       "    .dataframe tbody tr th {\n",
       "        vertical-align: top;\n",
       "    }\n",
       "\n",
       "    .dataframe thead th {\n",
       "        text-align: right;\n",
       "    }\n",
       "</style>\n",
       "<table border=\"1\" class=\"dataframe\">\n",
       "  <thead>\n",
       "    <tr style=\"text-align: right;\">\n",
       "      <th></th>\n",
       "      <th>id</th>\n",
       "      <th>seq</th>\n",
       "    </tr>\n",
       "  </thead>\n",
       "  <tbody>\n",
       "    <tr>\n",
       "      <th>0</th>\n",
       "      <td>Escherichia_coli_CFT073</td>\n",
       "      <td>(-, -, -, -, -, -, -, -, -, -, -, -, -, -, -, ...</td>\n",
       "    </tr>\n",
       "    <tr>\n",
       "      <th>1</th>\n",
       "      <td>Candidatus_Microthrix_parvicella_RN1</td>\n",
       "      <td>(-, -, -, -, -, -, -, -, -, -, -, -, -, -, -, ...</td>\n",
       "    </tr>\n",
       "    <tr>\n",
       "      <th>2</th>\n",
       "      <td>Brevibacterium_luteolum_strain_NEB1784</td>\n",
       "      <td>(-, -, -, -, -, -, -, -, -, -, -, -, -, -, -, ...</td>\n",
       "    </tr>\n",
       "    <tr>\n",
       "      <th>3</th>\n",
       "      <td>Kocuria_tytonis_442</td>\n",
       "      <td>(-, -, -, -, -, -, -, -, -, -, -, -, -, -, -, ...</td>\n",
       "    </tr>\n",
       "    <tr>\n",
       "      <th>4</th>\n",
       "      <td>Knoellia_subterranea_KCTC_19937</td>\n",
       "      <td>(-, -, -, -, -, -, -, -, -, -, -, -, -, -, -, ...</td>\n",
       "    </tr>\n",
       "  </tbody>\n",
       "</table>\n",
       "</div>"
      ],
      "text/plain": [
       "                                       id  \\\n",
       "0                 Escherichia_coli_CFT073   \n",
       "1    Candidatus_Microthrix_parvicella_RN1   \n",
       "2  Brevibacterium_luteolum_strain_NEB1784   \n",
       "3                     Kocuria_tytonis_442   \n",
       "4         Knoellia_subterranea_KCTC_19937   \n",
       "\n",
       "                                                 seq  \n",
       "0  (-, -, -, -, -, -, -, -, -, -, -, -, -, -, -, ...  \n",
       "1  (-, -, -, -, -, -, -, -, -, -, -, -, -, -, -, ...  \n",
       "2  (-, -, -, -, -, -, -, -, -, -, -, -, -, -, -, ...  \n",
       "3  (-, -, -, -, -, -, -, -, -, -, -, -, -, -, -, ...  \n",
       "4  (-, -, -, -, -, -, -, -, -, -, -, -, -, -, -, ...  "
      ]
     },
     "execution_count": 22,
     "metadata": {},
     "output_type": "execute_result"
    }
   ],
   "source": [
    "msa.head()"
   ]
  },
  {
   "cell_type": "code",
   "execution_count": 26,
   "id": "ed646b94",
   "metadata": {},
   "outputs": [],
   "source": [
    "# df['name'] = df['id'].str.replace(\"_\", \" \")\n",
    "# df = \n",
    "df = df.merge(msa, left_on='name', right_on='id')"
   ]
  },
  {
   "cell_type": "code",
   "execution_count": null,
   "id": "3b747a32",
   "metadata": {},
   "outputs": [],
   "source": []
  },
  {
   "cell_type": "code",
   "execution_count": 39,
   "id": "8e9e078c",
   "metadata": {},
   "outputs": [],
   "source": [
    "## write df as metadata file\n",
    "# df.to_csv(\"motif/merged_biob_msa_annotation.csv\", index=None)"
   ]
  },
  {
   "cell_type": "code",
   "execution_count": 40,
   "id": "af850d59",
   "metadata": {},
   "outputs": [],
   "source": [
    "# df.head()"
   ]
  },
  {
   "cell_type": "code",
   "execution_count": 56,
   "id": "617e3584",
   "metadata": {},
   "outputs": [],
   "source": [
    "df = pd.read_csv('motif/biob_merged_subset200_annotation_filter3.csv')\n",
    "msa = read_fasta(\"motif/biob_merged_subset200_filter3_pruned2.msa\")"
   ]
  },
  {
   "cell_type": "code",
   "execution_count": 57,
   "id": "0d5643c5",
   "metadata": {},
   "outputs": [
    {
     "data": {
      "text/plain": [
       "(184, 2)"
      ]
     },
     "execution_count": 57,
     "metadata": {},
     "output_type": "execute_result"
    }
   ],
   "source": [
    "msa.shape"
   ]
  },
  {
   "cell_type": "code",
   "execution_count": 58,
   "id": "ed8fb811",
   "metadata": {},
   "outputs": [
    {
     "data": {
      "text/plain": [
       "(184, 9)"
      ]
     },
     "execution_count": 58,
     "metadata": {},
     "output_type": "execute_result"
    }
   ],
   "source": [
    "df = df.merge(msa, left_on='name', right_on='id')\n",
    "df.shape"
   ]
  },
  {
   "cell_type": "code",
   "execution_count": 59,
   "id": "f1bfd97b",
   "metadata": {},
   "outputs": [
    {
     "data": {
      "text/plain": [
       "0"
      ]
     },
     "execution_count": 59,
     "metadata": {},
     "output_type": "execute_result"
    }
   ],
   "source": [
    "df['seq'].isna().sum()"
   ]
  },
  {
   "cell_type": "code",
   "execution_count": 60,
   "id": "d647d03c",
   "metadata": {},
   "outputs": [
    {
     "data": {
      "text/html": [
       "<div>\n",
       "<style scoped>\n",
       "    .dataframe tbody tr th:only-of-type {\n",
       "        vertical-align: middle;\n",
       "    }\n",
       "\n",
       "    .dataframe tbody tr th {\n",
       "        vertical-align: top;\n",
       "    }\n",
       "\n",
       "    .dataframe thead th {\n",
       "        text-align: right;\n",
       "    }\n",
       "</style>\n",
       "<table border=\"1\" class=\"dataframe\">\n",
       "  <thead>\n",
       "    <tr style=\"text-align: right;\">\n",
       "      <th></th>\n",
       "      <th>Genome Name</th>\n",
       "      <th>staxid</th>\n",
       "      <th>Order</th>\n",
       "      <th>Family</th>\n",
       "      <th>Genus</th>\n",
       "      <th>type</th>\n",
       "      <th>name</th>\n",
       "      <th>id</th>\n",
       "      <th>seq</th>\n",
       "    </tr>\n",
       "  </thead>\n",
       "  <tbody>\n",
       "    <tr>\n",
       "      <th>0</th>\n",
       "      <td>Nonomuraea soli strain DSM 45533</td>\n",
       "      <td>1032476</td>\n",
       "      <td>Streptosporangiales</td>\n",
       "      <td>Streptosporangiaceae</td>\n",
       "      <td>Nonomuraea</td>\n",
       "      <td>ind</td>\n",
       "      <td>Nonomuraea_soli_strain_DSM_45533</td>\n",
       "      <td>Nonomuraea_soli_strain_DSM_45533</td>\n",
       "      <td>(-, -, -, -, -, -, -, -, -, -, -, -, -, -, -, ...</td>\n",
       "    </tr>\n",
       "    <tr>\n",
       "      <th>1</th>\n",
       "      <td>Actinoplanes atraurantiacus strain CGMCC 4.6857</td>\n",
       "      <td>1036182</td>\n",
       "      <td>Micromonosporales</td>\n",
       "      <td>Micromonosporaceae</td>\n",
       "      <td>Actinoplanes</td>\n",
       "      <td>ind</td>\n",
       "      <td>Actinoplanes_atraurantiacus_strain_CGMCC_4.6857</td>\n",
       "      <td>Actinoplanes_atraurantiacus_strain_CGMCC_4.6857</td>\n",
       "      <td>(-, -, -, -, -, -, -, -, -, -, -, -, -, -, -, ...</td>\n",
       "    </tr>\n",
       "    <tr>\n",
       "      <th>2</th>\n",
       "      <td>Kutzneria kofuensis strain DSM 43851</td>\n",
       "      <td>103725</td>\n",
       "      <td>Pseudonocardiales</td>\n",
       "      <td>Pseudonocardiaceae</td>\n",
       "      <td>Kutzneria</td>\n",
       "      <td>ind</td>\n",
       "      <td>Kutzneria_kofuensis_strain_DSM_43851</td>\n",
       "      <td>Kutzneria_kofuensis_strain_DSM_43851</td>\n",
       "      <td>(-, -, -, -, -, -, M, T, A, S, V, D, -, -, -, ...</td>\n",
       "    </tr>\n",
       "    <tr>\n",
       "      <th>3</th>\n",
       "      <td>Thermocatellispora tengchongensis strain DSM 4...</td>\n",
       "      <td>1073253</td>\n",
       "      <td>Streptosporangiales</td>\n",
       "      <td>Streptosporangiaceae</td>\n",
       "      <td>Thermocatellispora</td>\n",
       "      <td>ind</td>\n",
       "      <td>Thermocatellispora_tengchongensis_strain_DSM_4...</td>\n",
       "      <td>Thermocatellispora_tengchongensis_strain_DSM_4...</td>\n",
       "      <td>(-, -, -, -, -, -, -, -, -, -, -, -, -, -, -, ...</td>\n",
       "    </tr>\n",
       "    <tr>\n",
       "      <th>4</th>\n",
       "      <td>Phytohabitans flavus strain NBRC 107702</td>\n",
       "      <td>1076124</td>\n",
       "      <td>Micromonosporales</td>\n",
       "      <td>Micromonosporaceae</td>\n",
       "      <td>Phytohabitans</td>\n",
       "      <td>ind</td>\n",
       "      <td>Phytohabitans_flavus_strain_NBRC_107702</td>\n",
       "      <td>Phytohabitans_flavus_strain_NBRC_107702</td>\n",
       "      <td>(-, -, -, -, -, -, -, -, -, -, -, -, -, -, -, ...</td>\n",
       "    </tr>\n",
       "  </tbody>\n",
       "</table>\n",
       "</div>"
      ],
      "text/plain": [
       "                                         Genome Name   staxid  \\\n",
       "0                   Nonomuraea soli strain DSM 45533  1032476   \n",
       "1    Actinoplanes atraurantiacus strain CGMCC 4.6857  1036182   \n",
       "2               Kutzneria kofuensis strain DSM 43851   103725   \n",
       "3  Thermocatellispora tengchongensis strain DSM 4...  1073253   \n",
       "4            Phytohabitans flavus strain NBRC 107702  1076124   \n",
       "\n",
       "                 Order                Family               Genus type  \\\n",
       "0  Streptosporangiales  Streptosporangiaceae          Nonomuraea  ind   \n",
       "1    Micromonosporales    Micromonosporaceae        Actinoplanes  ind   \n",
       "2    Pseudonocardiales    Pseudonocardiaceae           Kutzneria  ind   \n",
       "3  Streptosporangiales  Streptosporangiaceae  Thermocatellispora  ind   \n",
       "4    Micromonosporales    Micromonosporaceae       Phytohabitans  ind   \n",
       "\n",
       "                                                name  \\\n",
       "0                   Nonomuraea_soli_strain_DSM_45533   \n",
       "1    Actinoplanes_atraurantiacus_strain_CGMCC_4.6857   \n",
       "2               Kutzneria_kofuensis_strain_DSM_43851   \n",
       "3  Thermocatellispora_tengchongensis_strain_DSM_4...   \n",
       "4            Phytohabitans_flavus_strain_NBRC_107702   \n",
       "\n",
       "                                                  id  \\\n",
       "0                   Nonomuraea_soli_strain_DSM_45533   \n",
       "1    Actinoplanes_atraurantiacus_strain_CGMCC_4.6857   \n",
       "2               Kutzneria_kofuensis_strain_DSM_43851   \n",
       "3  Thermocatellispora_tengchongensis_strain_DSM_4...   \n",
       "4            Phytohabitans_flavus_strain_NBRC_107702   \n",
       "\n",
       "                                                 seq  \n",
       "0  (-, -, -, -, -, -, -, -, -, -, -, -, -, -, -, ...  \n",
       "1  (-, -, -, -, -, -, -, -, -, -, -, -, -, -, -, ...  \n",
       "2  (-, -, -, -, -, -, M, T, A, S, V, D, -, -, -, ...  \n",
       "3  (-, -, -, -, -, -, -, -, -, -, -, -, -, -, -, ...  \n",
       "4  (-, -, -, -, -, -, -, -, -, -, -, -, -, -, -, ...  "
      ]
     },
     "execution_count": 60,
     "metadata": {},
     "output_type": "execute_result"
    }
   ],
   "source": [
    "df.head()"
   ]
  },
  {
   "cell_type": "code",
   "execution_count": null,
   "id": "12010225",
   "metadata": {},
   "outputs": [],
   "source": []
  },
  {
   "cell_type": "code",
   "execution_count": 61,
   "id": "f1028884",
   "metadata": {},
   "outputs": [],
   "source": [
    "## write independent msas to their own msa files:\n",
    "\n",
    "seq_records = []\n",
    "for i in df[df['type'] == 'ind'].index:\n",
    "    seq_records.append(SeqRecord(df.loc[i, 'seq'], id=df.loc[i, 'id'], description=\"\"))\n",
    "\n",
    "with open(\"motif/biob_merged_to_independent_subset100_filter3_pruned2.msa\", \"w\") as output_handle:\n",
    "    SeqIO.write(seq_records, output_handle, \"fasta\")\n",
    "\n",
    "\n",
    "## write dependent msas to their own msa files:\n",
    "\n",
    "seq_records = []\n",
    "for i in df[df['type'] == 'dep'].index:\n",
    "    seq_records.append(SeqRecord(df.loc[i, 'seq'], id=df.loc[i, 'id'], description=\"\"))\n",
    "\n",
    "with open(\"motif/biob_merged_to_dependent_subset100_filter3_pruned2.msa\", \"w\") as output_handle:\n",
    "    SeqIO.write(seq_records, output_handle, \"fasta\")\n",
    "\n"
   ]
  },
  {
   "cell_type": "code",
   "execution_count": null,
   "id": "a76df704",
   "metadata": {},
   "outputs": [],
   "source": []
  },
  {
   "cell_type": "code",
   "execution_count": 190,
   "id": "907ac188",
   "metadata": {},
   "outputs": [],
   "source": [
    "## read in pruned msa file, to write seperated msa files:"
   ]
  },
  {
   "cell_type": "code",
   "execution_count": 245,
   "id": "3a183888",
   "metadata": {},
   "outputs": [],
   "source": [
    "\n",
    "msa_path = \"motif/merged_biob_seqs_subset200_protein_pruned3.mfa\"\n",
    "msa_pruned = read_fasta(msa_path)"
   ]
  },
  {
   "cell_type": "code",
   "execution_count": 247,
   "id": "e49d17d3",
   "metadata": {},
   "outputs": [
    {
     "data": {
      "text/html": [
       "<div>\n",
       "<style scoped>\n",
       "    .dataframe tbody tr th:only-of-type {\n",
       "        vertical-align: middle;\n",
       "    }\n",
       "\n",
       "    .dataframe tbody tr th {\n",
       "        vertical-align: top;\n",
       "    }\n",
       "\n",
       "    .dataframe thead th {\n",
       "        text-align: right;\n",
       "    }\n",
       "</style>\n",
       "<table border=\"1\" class=\"dataframe\">\n",
       "  <thead>\n",
       "    <tr style=\"text-align: right;\">\n",
       "      <th></th>\n",
       "      <th>id</th>\n",
       "      <th>type</th>\n",
       "      <th>Order</th>\n",
       "      <th>Family</th>\n",
       "      <th>Genus</th>\n",
       "    </tr>\n",
       "  </thead>\n",
       "  <tbody>\n",
       "    <tr>\n",
       "      <th>0</th>\n",
       "      <td>Ornithinimicrobium_tianjinense_strain_CGMCC_1....</td>\n",
       "      <td>ind</td>\n",
       "      <td>Micrococcales</td>\n",
       "      <td>Ornithinimicrobiaceae</td>\n",
       "      <td>Ornithinimicrobium</td>\n",
       "    </tr>\n",
       "    <tr>\n",
       "      <th>1</th>\n",
       "      <td>Conexibacter_sp._Seoho-28</td>\n",
       "      <td>ind</td>\n",
       "      <td>Solirubrobacterales</td>\n",
       "      <td>Paraconexibacteraceae</td>\n",
       "      <td>Paraconexibacter</td>\n",
       "    </tr>\n",
       "    <tr>\n",
       "      <th>2</th>\n",
       "      <td>Conexibacter_arvalis_strain_DSM_23288</td>\n",
       "      <td>ind</td>\n",
       "      <td>Solirubrobacterales</td>\n",
       "      <td>Conexibacteraceae</td>\n",
       "      <td>Conexibacter</td>\n",
       "    </tr>\n",
       "    <tr>\n",
       "      <th>3</th>\n",
       "      <td>Nitriliruptor_alkaliphilus_DSM_45188</td>\n",
       "      <td>ind</td>\n",
       "      <td>Nitriliruptorales</td>\n",
       "      <td>Nitriliruptoraceae</td>\n",
       "      <td>Nitriliruptor</td>\n",
       "    </tr>\n",
       "    <tr>\n",
       "      <th>4</th>\n",
       "      <td>Aciditerrimonas_ferrireducens_MV1</td>\n",
       "      <td>ind</td>\n",
       "      <td>Acidimicrobiales</td>\n",
       "      <td>Acidimicrobiaceae</td>\n",
       "      <td>Aciditerrimonas</td>\n",
       "    </tr>\n",
       "  </tbody>\n",
       "</table>\n",
       "</div>"
      ],
      "text/plain": [
       "                                                  id type  \\\n",
       "0  Ornithinimicrobium_tianjinense_strain_CGMCC_1....  ind   \n",
       "1                          Conexibacter_sp._Seoho-28  ind   \n",
       "2              Conexibacter_arvalis_strain_DSM_23288  ind   \n",
       "3               Nitriliruptor_alkaliphilus_DSM_45188  ind   \n",
       "4                  Aciditerrimonas_ferrireducens_MV1  ind   \n",
       "\n",
       "                 Order                 Family               Genus  \n",
       "0        Micrococcales  Ornithinimicrobiaceae  Ornithinimicrobium  \n",
       "1  Solirubrobacterales  Paraconexibacteraceae    Paraconexibacter  \n",
       "2  Solirubrobacterales      Conexibacteraceae        Conexibacter  \n",
       "3    Nitriliruptorales     Nitriliruptoraceae       Nitriliruptor  \n",
       "4     Acidimicrobiales      Acidimicrobiaceae     Aciditerrimonas  "
      ]
     },
     "execution_count": 247,
     "metadata": {},
     "output_type": "execute_result"
    }
   ],
   "source": [
    "df.head()"
   ]
  },
  {
   "cell_type": "code",
   "execution_count": null,
   "id": "e968ac12",
   "metadata": {},
   "outputs": [],
   "source": []
  },
  {
   "cell_type": "code",
   "execution_count": 248,
   "id": "8048c863",
   "metadata": {},
   "outputs": [],
   "source": [
    "# msa_pruned = msa_pruned.merge(df.drop(columns=['seq']), how='left', on='id')\n",
    "msa_pruned = msa_pruned.merge(df, how='left', on='id')"
   ]
  },
  {
   "cell_type": "code",
   "execution_count": 249,
   "id": "1a2f3063",
   "metadata": {},
   "outputs": [
    {
     "data": {
      "text/html": [
       "<div>\n",
       "<style scoped>\n",
       "    .dataframe tbody tr th:only-of-type {\n",
       "        vertical-align: middle;\n",
       "    }\n",
       "\n",
       "    .dataframe tbody tr th {\n",
       "        vertical-align: top;\n",
       "    }\n",
       "\n",
       "    .dataframe thead th {\n",
       "        text-align: right;\n",
       "    }\n",
       "</style>\n",
       "<table border=\"1\" class=\"dataframe\">\n",
       "  <thead>\n",
       "    <tr style=\"text-align: right;\">\n",
       "      <th></th>\n",
       "      <th>id</th>\n",
       "      <th>seq</th>\n",
       "      <th>type</th>\n",
       "      <th>Order</th>\n",
       "      <th>Family</th>\n",
       "      <th>Genus</th>\n",
       "    </tr>\n",
       "  </thead>\n",
       "  <tbody>\n",
       "    <tr>\n",
       "      <th>0</th>\n",
       "      <td>Lawsonella_clevelandensis_strain_X1036</td>\n",
       "      <td>(-, -, -, M, S, Y, C, N, S, T, A, A, V, P, P, ...</td>\n",
       "      <td>ind</td>\n",
       "      <td>Corynebacteriales</td>\n",
       "      <td>Lawsonellaceae</td>\n",
       "      <td>Lawsonella</td>\n",
       "    </tr>\n",
       "    <tr>\n",
       "      <th>1</th>\n",
       "      <td>Corynebacterium_terpenotabidum_Y-11</td>\n",
       "      <td>(-, -, -, -, -, -, -, -, -, -, -, -, -, -, -, ...</td>\n",
       "      <td>dep</td>\n",
       "      <td>Corynebacteriales</td>\n",
       "      <td>Corynebacteriaceae</td>\n",
       "      <td>Corynebacterium</td>\n",
       "    </tr>\n",
       "    <tr>\n",
       "      <th>2</th>\n",
       "      <td>Corynebacterium_variabile_strain_NBRC_15286</td>\n",
       "      <td>(-, -, -, -, -, -, -, -, -, -, -, -, -, -, -, ...</td>\n",
       "      <td>dep</td>\n",
       "      <td>Corynebacteriales</td>\n",
       "      <td>Corynebacteriaceae</td>\n",
       "      <td>Corynebacterium</td>\n",
       "    </tr>\n",
       "    <tr>\n",
       "      <th>3</th>\n",
       "      <td>Corynebacterium_falsenii_strain_FDAARGOS_1493</td>\n",
       "      <td>(-, -, -, -, -, -, -, -, -, -, -, -, -, -, -, ...</td>\n",
       "      <td>dep</td>\n",
       "      <td>Corynebacteriales</td>\n",
       "      <td>Corynebacteriaceae</td>\n",
       "      <td>Corynebacterium</td>\n",
       "    </tr>\n",
       "    <tr>\n",
       "      <th>4</th>\n",
       "      <td>Corynebacterium_sp._Sa1YVA5</td>\n",
       "      <td>(-, -, -, -, -, -, -, -, -, -, -, -, -, -, -, ...</td>\n",
       "      <td>dep</td>\n",
       "      <td>Corynebacteriales</td>\n",
       "      <td>Corynebacteriaceae</td>\n",
       "      <td>Corynebacterium</td>\n",
       "    </tr>\n",
       "  </tbody>\n",
       "</table>\n",
       "</div>"
      ],
      "text/plain": [
       "                                              id  \\\n",
       "0         Lawsonella_clevelandensis_strain_X1036   \n",
       "1            Corynebacterium_terpenotabidum_Y-11   \n",
       "2    Corynebacterium_variabile_strain_NBRC_15286   \n",
       "3  Corynebacterium_falsenii_strain_FDAARGOS_1493   \n",
       "4                    Corynebacterium_sp._Sa1YVA5   \n",
       "\n",
       "                                                 seq type              Order  \\\n",
       "0  (-, -, -, M, S, Y, C, N, S, T, A, A, V, P, P, ...  ind  Corynebacteriales   \n",
       "1  (-, -, -, -, -, -, -, -, -, -, -, -, -, -, -, ...  dep  Corynebacteriales   \n",
       "2  (-, -, -, -, -, -, -, -, -, -, -, -, -, -, -, ...  dep  Corynebacteriales   \n",
       "3  (-, -, -, -, -, -, -, -, -, -, -, -, -, -, -, ...  dep  Corynebacteriales   \n",
       "4  (-, -, -, -, -, -, -, -, -, -, -, -, -, -, -, ...  dep  Corynebacteriales   \n",
       "\n",
       "               Family            Genus  \n",
       "0      Lawsonellaceae       Lawsonella  \n",
       "1  Corynebacteriaceae  Corynebacterium  \n",
       "2  Corynebacteriaceae  Corynebacterium  \n",
       "3  Corynebacteriaceae  Corynebacterium  \n",
       "4  Corynebacteriaceae  Corynebacterium  "
      ]
     },
     "execution_count": 249,
     "metadata": {},
     "output_type": "execute_result"
    }
   ],
   "source": [
    "msa_pruned.head()"
   ]
  },
  {
   "cell_type": "code",
   "execution_count": 250,
   "id": "d4cb7643",
   "metadata": {},
   "outputs": [],
   "source": [
    "## write independent msas to their own msa files:\n",
    "\n",
    "seq_records = []\n",
    "for i in msa_pruned[msa_pruned['type'] == 'ind'].index:\n",
    "    seq_records.append(SeqRecord(msa_pruned.loc[i, 'seq'], id=msa_pruned.loc[i, 'id'], description=\"\"))\n",
    "\n",
    "with open(\"motif/biob_merged_to_independent_subset100_pruned3.msa\", \"w\") as output_handle:\n",
    "    SeqIO.write(seq_records, output_handle, \"fasta\")\n",
    "\n",
    "\n",
    "## write dependent msas to their own msa files:\n",
    "\n",
    "seq_records = []\n",
    "for i in msa_pruned[msa_pruned['type'] == 'dep'].index:\n",
    "    seq_records.append(SeqRecord(msa_pruned.loc[i, 'seq'], id=msa_pruned.loc[i, 'id'], description=\"\"))\n",
    "\n",
    "with open(\"motif/biob_merged_to_dependent_subset100_pruned3.msa\", \"w\") as output_handle:\n",
    "    SeqIO.write(seq_records, output_handle, \"fasta\")\n"
   ]
  },
  {
   "cell_type": "code",
   "execution_count": null,
   "id": "57e1472f",
   "metadata": {},
   "outputs": [],
   "source": []
  },
  {
   "cell_type": "code",
   "execution_count": 251,
   "id": "2290ef82",
   "metadata": {},
   "outputs": [],
   "source": [
    "## read in pruned consensus sequences:"
   ]
  },
  {
   "cell_type": "code",
   "execution_count": 259,
   "id": "ce0726bd",
   "metadata": {},
   "outputs": [],
   "source": [
    "dep_consensus = SeqIO.read(\"motif/merged_biob_to_dependent_subset100_protein_pruned2_75consensus.fa\", \"fasta\")\n",
    "ind_consensus = SeqIO.read(\"motif/merged_biob_to_independent_subset100_protein_pruned2_75consensus.fa\", \"fasta\")"
   ]
  },
  {
   "cell_type": "code",
   "execution_count": 260,
   "id": "3205c422",
   "metadata": {},
   "outputs": [
    {
     "name": "stdout",
     "output_type": "stream",
     "text": [
      ">BsaP dependent BioB consensus\n",
      "--------------------------------------------------------------------L--AR--VL--G--L-------VL-L-D------------LL-LAH-VR---CG--VEVEGI-SLKTGGCPEDCHFCSQSG-F-SPVR---------LV-AA------GATEFCIVAAV-GPD--L--Q------AI---------I--A-S-G-L---QV--L---GVHRYNHNLE-A-S-F--VVTTH--EER--T---V--AG-E-C-GGI-GMGE---QRAE-A--LA-L-P-EVP-NFL-P-PGTP-----------AL----AFRLA-P-T-LR-AGGRE--LGDLG---G-LGG-NA-IVGNYLT-LG-----D---------------L--PIK------L------------------\n",
      ">BsaP independent BioB consensus\n",
      "--------------------------------------------------------------------L--A---VL--G-GL--------L---D-------------L-LAH-VR---CGPEVEVEGI-S-KTGGCPEDCHFCSQSG-F--PVR---WLDIP-LV-AA--TA--GA-EFCIVAAVRGPD-RLM-Q-R-G--AI-------D-I--A-SLGML---QV--L---GVHRYNHNLE---S-F--VVTTH--EER--T--MV---GME-CCGG--G-GE--EQRAE-A--L--L-P-EVP-NFL-P-PGTP-----------ALR--A-FRLA-PR--LR-AGGRE-TLGDLG---G-LGG-NA-IVGNYLT-LGR----DL--L-----------L-MP-K-----AL-----------------L\n"
     ]
    }
   ],
   "source": [
    "print(\">BsaP dependent BioB consensus\")\n",
    "print(str(dep_consensus.seq).upper().replace(\"X\", \"-\"))\n",
    "print(\">BsaP independent BioB consensus\")\n",
    "print(str(ind_consensus.seq).upper().replace(\"X\", \"-\"))"
   ]
  },
  {
   "cell_type": "code",
   "execution_count": null,
   "id": "28f0775b",
   "metadata": {},
   "outputs": [],
   "source": []
  },
  {
   "cell_type": "code",
   "execution_count": null,
   "id": "a43f35db",
   "metadata": {},
   "outputs": [],
   "source": []
  }
 ],
 "metadata": {
  "kernelspec": {
   "display_name": "Python 3 (ipykernel)",
   "language": "python",
   "name": "python3"
  },
  "language_info": {
   "codemirror_mode": {
    "name": "ipython",
    "version": 3
   },
   "file_extension": ".py",
   "mimetype": "text/x-python",
   "name": "python",
   "nbconvert_exporter": "python",
   "pygments_lexer": "ipython3",
   "version": "3.8.11"
  }
 },
 "nbformat": 4,
 "nbformat_minor": 5
}
